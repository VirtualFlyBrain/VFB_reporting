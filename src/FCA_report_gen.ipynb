{
 "cells": [
  {
   "cell_type": "code",
   "execution_count": 1,
   "metadata": {},
   "outputs": [],
   "source": [
    "import sys\n",
    "sys.path.append(\"/repos/flybase-ontology-scripts/part_of_search/src/\")"
   ]
  },
  {
   "cell_type": "code",
   "execution_count": 2,
   "metadata": {},
   "outputs": [],
   "source": [
    "from simple_vfb_neo_tools import get_subclasses, get_terms_by_region, gen_simple_report, get_lookup\n",
    "from owlery_query_tools import OWLeryConnect\n",
    "import FCA_spreadsheet_tools\n",
    "\n"
   ]
  },
  {
   "cell_type": "code",
   "execution_count": 3,
   "metadata": {},
   "outputs": [],
   "source": [
    "lookup = get_lookup(limit_by_prefix=['FBbt'])\n"
   ]
  },
  {
   "cell_type": "code",
   "execution_count": 4,
   "metadata": {},
   "outputs": [
    {
     "data": {
      "text/plain": [
       "'FBbt:00005106'"
      ]
     },
     "execution_count": 4,
     "metadata": {},
     "output_type": "execute_result"
    }
   ],
   "source": [
    "lookup['neuron']"
   ]
  },
  {
   "cell_type": "code",
   "execution_count": 46,
   "metadata": {},
   "outputs": [
    {
     "name": "stdout",
     "output_type": "stream",
     "text": [
      "Running query: FBbt:00005155 that BFO:0000050 some FBbt:00004511\n",
      "Query URL: http://owl.virtualflybrain.org/kbs/vfb/subclasses?object=FBbt%3A00005155+that+BFO%3A0000050+some+FBbt%3A00004511&prefixes=%7B%22FBbt%22%3A+%22http%3A%2F%2Fpurl.obolibrary.org%2Fobo%2FFBbt_%22%2C+%22RO%22%3A+%22http%3A%2F%2Fpurl.obolibrary.org%2Fobo%2FRO_%22%2C+%22BFO%22%3A+%22http%3A%2F%2Fpurl.obolibrary.org%2Fobo%2FBFO_%22%7D&direct=False\n"
     ]
    },
    {
     "data": {
      "text/plain": [
       "['http://purl.obolibrary.org/obo/FBbt_00110022',\n",
       " 'http://purl.obolibrary.org/obo/FBbt_00067019',\n",
       " 'http://purl.obolibrary.org/obo/FBbt_00067060',\n",
       " 'http://purl.obolibrary.org/obo/FBbt_00007420',\n",
       " 'http://purl.obolibrary.org/obo/FBbt_00004179',\n",
       " 'http://purl.obolibrary.org/obo/FBbt_00007346',\n",
       " 'http://purl.obolibrary.org/obo/FBbt_00004181',\n",
       " 'http://purl.obolibrary.org/obo/FBbt_00067038',\n",
       " 'http://purl.obolibrary.org/obo/FBbt_00007348',\n",
       " 'http://purl.obolibrary.org/obo/FBbt_00110826',\n",
       " 'http://purl.obolibrary.org/obo/FBbt_00004183',\n",
       " 'http://purl.obolibrary.org/obo/FBbt_00007350',\n",
       " 'http://purl.obolibrary.org/obo/FBbt_00004175',\n",
       " 'http://purl.obolibrary.org/obo/FBbt_00111208',\n",
       " 'http://purl.obolibrary.org/obo/FBbt_00007334',\n",
       " 'http://purl.obolibrary.org/obo/FBbt_00004185',\n",
       " 'http://purl.obolibrary.org/obo/FBbt_00110667',\n",
       " 'http://purl.obolibrary.org/obo/FBbt_00004177',\n",
       " 'http://purl.obolibrary.org/obo/FBbt_00110822',\n",
       " 'http://purl.obolibrary.org/obo/FBbt_00110824',\n",
       " 'http://purl.obolibrary.org/obo/FBbt_00110025',\n",
       " 'http://purl.obolibrary.org/obo/FBbt_00004173',\n",
       " 'http://purl.obolibrary.org/obo/FBbt_00067030',\n",
       " 'http://purl.obolibrary.org/obo/FBbt_00007419',\n",
       " 'http://purl.obolibrary.org/obo/FBbt_00067022',\n",
       " 'http://purl.obolibrary.org/obo/FBbt_00005377',\n",
       " 'http://purl.obolibrary.org/obo/FBbt_00110027',\n",
       " 'http://purl.obolibrary.org/obo/FBbt_00067032',\n",
       " 'http://purl.obolibrary.org/obo/FBbt_00007421',\n",
       " 'http://purl.obolibrary.org/obo/FBbt_00007355',\n",
       " 'http://purl.obolibrary.org/obo/FBbt_00067024',\n",
       " 'http://purl.obolibrary.org/obo/FBbt_00100396',\n",
       " 'http://purl.obolibrary.org/obo/FBbt_00110820',\n",
       " 'http://purl.obolibrary.org/obo/FBbt_00110021',\n",
       " 'http://purl.obolibrary.org/obo/FBbt_00007357',\n",
       " 'http://purl.obolibrary.org/obo/FBbt_00067026',\n",
       " 'http://purl.obolibrary.org/obo/FBbt_00007349',\n",
       " 'http://purl.obolibrary.org/obo/FBbt_00110023',\n",
       " 'http://purl.obolibrary.org/obo/FBbt_00007359',\n",
       " 'http://purl.obolibrary.org/obo/FBbt_00111209',\n",
       " 'http://purl.obolibrary.org/obo/FBbt_00067012',\n",
       " 'http://purl.obolibrary.org/obo/FBbt_00067004',\n",
       " 'http://purl.obolibrary.org/obo/FBbt_00007345',\n",
       " 'http://purl.obolibrary.org/obo/FBbt_00067008',\n",
       " 'http://purl.obolibrary.org/obo/FBbt_00067000',\n",
       " 'http://purl.obolibrary.org/obo/FBbt_00004182',\n",
       " 'http://purl.obolibrary.org/obo/FBbt_00110827',\n",
       " 'http://purl.obolibrary.org/obo/FBbt_00067010',\n",
       " 'http://purl.obolibrary.org/obo/FBbt_00067002',\n",
       " 'http://purl.obolibrary.org/obo/FBbt_00004184',\n",
       " 'http://purl.obolibrary.org/obo/FBbt_00110666',\n",
       " 'http://purl.obolibrary.org/obo/FBbt_00004176',\n",
       " 'http://purl.obolibrary.org/obo/FBbt_00110829',\n",
       " 'http://purl.obolibrary.org/obo/FBbt_00100022',\n",
       " 'http://purl.obolibrary.org/obo/FBbt_00067043',\n",
       " 'http://purl.obolibrary.org/obo/FBbt_00004178',\n",
       " 'http://purl.obolibrary.org/obo/FBbt_00004180',\n",
       " 'http://purl.obolibrary.org/obo/FBbt_00110024',\n",
       " 'http://purl.obolibrary.org/obo/FBbt_00004172',\n",
       " 'http://purl.obolibrary.org/obo/FBbt_00110026',\n",
       " 'http://purl.obolibrary.org/obo/FBbt_00004174',\n",
       " 'http://purl.obolibrary.org/obo/FBbt_00100395',\n",
       " 'http://purl.obolibrary.org/obo/FBbt_00067015',\n",
       " 'http://purl.obolibrary.org/obo/FBbt_00007356']"
      ]
     },
     "execution_count": 46,
     "metadata": {},
     "output_type": "execute_result"
    }
   ],
   "source": [
    "oc = OWLeryConnect(lookup=lookup)\n",
    "oc.curies\n",
    "antennal_sensilla = oc.get_subclasses(\"'sense organ' that 'part of' some 'antenna'\", query_by_label=True)\n",
    "antennal_sensilla"
   ]
  },
  {
   "cell_type": "code",
   "execution_count": 5,
   "metadata": {},
   "outputs": [
    {
     "name": "stdout",
     "output_type": "stream",
     "text": [
      "Running query: <http://purl.obolibrary.org/obo/FBbt_00110021>\n",
      "Query URL: http://owl.virtualflybrain.org/kbs/vfb/superclasses?object=%3Chttp%3A%2F%2Fpurl.obolibrary.org%2Fobo%2FFBbt_00110021%3E&prefixes=%7B%22FBbt%22%3A+%22http%3A%2F%2Fpurl.obolibrary.org%2Fobo%2FFBbt_%22%2C+%22RO%22%3A+%22http%3A%2F%2Fpurl.obolibrary.org%2Fobo%2FRO_%22%2C+%22BFO%22%3A+%22http%3A%2F%2Fpurl.obolibrary.org%2Fobo%2FBFO_%22%7D&direct=True\n",
      "Running query: <http://purl.obolibrary.org/obo/FBbt_00007357>\n",
      "Query URL: http://owl.virtualflybrain.org/kbs/vfb/superclasses?object=%3Chttp%3A%2F%2Fpurl.obolibrary.org%2Fobo%2FFBbt_00007357%3E&prefixes=%7B%22FBbt%22%3A+%22http%3A%2F%2Fpurl.obolibrary.org%2Fobo%2FFBbt_%22%2C+%22RO%22%3A+%22http%3A%2F%2Fpurl.obolibrary.org%2Fobo%2FRO_%22%2C+%22BFO%22%3A+%22http%3A%2F%2Fpurl.obolibrary.org%2Fobo%2FBFO_%22%7D&direct=True\n",
      "Running query: <http://purl.obolibrary.org/obo/FBbt_00067026>\n",
      "Query URL: http://owl.virtualflybrain.org/kbs/vfb/superclasses?object=%3Chttp%3A%2F%2Fpurl.obolibrary.org%2Fobo%2FFBbt_00067026%3E&prefixes=%7B%22FBbt%22%3A+%22http%3A%2F%2Fpurl.obolibrary.org%2Fobo%2FFBbt_%22%2C+%22RO%22%3A+%22http%3A%2F%2Fpurl.obolibrary.org%2Fobo%2FRO_%22%2C+%22BFO%22%3A+%22http%3A%2F%2Fpurl.obolibrary.org%2Fobo%2FBFO_%22%7D&direct=True\n",
      "Running query: <http://purl.obolibrary.org/obo/FBbt_00007349>\n",
      "Query URL: http://owl.virtualflybrain.org/kbs/vfb/superclasses?object=%3Chttp%3A%2F%2Fpurl.obolibrary.org%2Fobo%2FFBbt_00007349%3E&prefixes=%7B%22FBbt%22%3A+%22http%3A%2F%2Fpurl.obolibrary.org%2Fobo%2FFBbt_%22%2C+%22RO%22%3A+%22http%3A%2F%2Fpurl.obolibrary.org%2Fobo%2FRO_%22%2C+%22BFO%22%3A+%22http%3A%2F%2Fpurl.obolibrary.org%2Fobo%2FBFO_%22%7D&direct=True\n",
      "Running query: <http://purl.obolibrary.org/obo/FBbt_00110022>\n",
      "Query URL: http://owl.virtualflybrain.org/kbs/vfb/superclasses?object=%3Chttp%3A%2F%2Fpurl.obolibrary.org%2Fobo%2FFBbt_00110022%3E&prefixes=%7B%22FBbt%22%3A+%22http%3A%2F%2Fpurl.obolibrary.org%2Fobo%2FFBbt_%22%2C+%22RO%22%3A+%22http%3A%2F%2Fpurl.obolibrary.org%2Fobo%2FRO_%22%2C+%22BFO%22%3A+%22http%3A%2F%2Fpurl.obolibrary.org%2Fobo%2FBFO_%22%7D&direct=True\n",
      "Running query: <http://purl.obolibrary.org/obo/FBbt_00110023>\n",
      "Query URL: http://owl.virtualflybrain.org/kbs/vfb/superclasses?object=%3Chttp%3A%2F%2Fpurl.obolibrary.org%2Fobo%2FFBbt_00110023%3E&prefixes=%7B%22FBbt%22%3A+%22http%3A%2F%2Fpurl.obolibrary.org%2Fobo%2FFBbt_%22%2C+%22RO%22%3A+%22http%3A%2F%2Fpurl.obolibrary.org%2Fobo%2FRO_%22%2C+%22BFO%22%3A+%22http%3A%2F%2Fpurl.obolibrary.org%2Fobo%2FBFO_%22%7D&direct=True\n",
      "Running query: <http://purl.obolibrary.org/obo/FBbt_00067019>\n",
      "Query URL: http://owl.virtualflybrain.org/kbs/vfb/superclasses?object=%3Chttp%3A%2F%2Fpurl.obolibrary.org%2Fobo%2FFBbt_00067019%3E&prefixes=%7B%22FBbt%22%3A+%22http%3A%2F%2Fpurl.obolibrary.org%2Fobo%2FFBbt_%22%2C+%22RO%22%3A+%22http%3A%2F%2Fpurl.obolibrary.org%2Fobo%2FRO_%22%2C+%22BFO%22%3A+%22http%3A%2F%2Fpurl.obolibrary.org%2Fobo%2FBFO_%22%7D&direct=True\n",
      "Running query: <http://purl.obolibrary.org/obo/FBbt_00007359>\n",
      "Query URL: http://owl.virtualflybrain.org/kbs/vfb/superclasses?object=%3Chttp%3A%2F%2Fpurl.obolibrary.org%2Fobo%2FFBbt_00007359%3E&prefixes=%7B%22FBbt%22%3A+%22http%3A%2F%2Fpurl.obolibrary.org%2Fobo%2FFBbt_%22%2C+%22RO%22%3A+%22http%3A%2F%2Fpurl.obolibrary.org%2Fobo%2FRO_%22%2C+%22BFO%22%3A+%22http%3A%2F%2Fpurl.obolibrary.org%2Fobo%2FBFO_%22%7D&direct=True\n",
      "Running query: <http://purl.obolibrary.org/obo/FBbt_00067012>\n",
      "Query URL: http://owl.virtualflybrain.org/kbs/vfb/superclasses?object=%3Chttp%3A%2F%2Fpurl.obolibrary.org%2Fobo%2FFBbt_00067012%3E&prefixes=%7B%22FBbt%22%3A+%22http%3A%2F%2Fpurl.obolibrary.org%2Fobo%2FFBbt_%22%2C+%22RO%22%3A+%22http%3A%2F%2Fpurl.obolibrary.org%2Fobo%2FRO_%22%2C+%22BFO%22%3A+%22http%3A%2F%2Fpurl.obolibrary.org%2Fobo%2FBFO_%22%7D&direct=True\n",
      "Running query: <http://purl.obolibrary.org/obo/FBbt_00067060>\n",
      "Query URL: http://owl.virtualflybrain.org/kbs/vfb/superclasses?object=%3Chttp%3A%2F%2Fpurl.obolibrary.org%2Fobo%2FFBbt_00067060%3E&prefixes=%7B%22FBbt%22%3A+%22http%3A%2F%2Fpurl.obolibrary.org%2Fobo%2FFBbt_%22%2C+%22RO%22%3A+%22http%3A%2F%2Fpurl.obolibrary.org%2Fobo%2FRO_%22%2C+%22BFO%22%3A+%22http%3A%2F%2Fpurl.obolibrary.org%2Fobo%2FBFO_%22%7D&direct=True\n",
      "Running query: <http://purl.obolibrary.org/obo/FBbt_00067004>\n",
      "Query URL: http://owl.virtualflybrain.org/kbs/vfb/superclasses?object=%3Chttp%3A%2F%2Fpurl.obolibrary.org%2Fobo%2FFBbt_00067004%3E&prefixes=%7B%22FBbt%22%3A+%22http%3A%2F%2Fpurl.obolibrary.org%2Fobo%2FFBbt_%22%2C+%22RO%22%3A+%22http%3A%2F%2Fpurl.obolibrary.org%2Fobo%2FRO_%22%2C+%22BFO%22%3A+%22http%3A%2F%2Fpurl.obolibrary.org%2Fobo%2FBFO_%22%7D&direct=True\n",
      "Running query: <http://purl.obolibrary.org/obo/FBbt_00007345>\n",
      "Query URL: http://owl.virtualflybrain.org/kbs/vfb/superclasses?object=%3Chttp%3A%2F%2Fpurl.obolibrary.org%2Fobo%2FFBbt_00007345%3E&prefixes=%7B%22FBbt%22%3A+%22http%3A%2F%2Fpurl.obolibrary.org%2Fobo%2FFBbt_%22%2C+%22RO%22%3A+%22http%3A%2F%2Fpurl.obolibrary.org%2Fobo%2FRO_%22%2C+%22BFO%22%3A+%22http%3A%2F%2Fpurl.obolibrary.org%2Fobo%2FBFO_%22%7D&direct=True\n",
      "Running query: <http://purl.obolibrary.org/obo/FBbt_00007420>\n",
      "Query URL: http://owl.virtualflybrain.org/kbs/vfb/superclasses?object=%3Chttp%3A%2F%2Fpurl.obolibrary.org%2Fobo%2FFBbt_00007420%3E&prefixes=%7B%22FBbt%22%3A+%22http%3A%2F%2Fpurl.obolibrary.org%2Fobo%2FFBbt_%22%2C+%22RO%22%3A+%22http%3A%2F%2Fpurl.obolibrary.org%2Fobo%2FRO_%22%2C+%22BFO%22%3A+%22http%3A%2F%2Fpurl.obolibrary.org%2Fobo%2FBFO_%22%7D&direct=True\n",
      "Running query: <http://purl.obolibrary.org/obo/FBbt_00007346>\n",
      "Query URL: http://owl.virtualflybrain.org/kbs/vfb/superclasses?object=%3Chttp%3A%2F%2Fpurl.obolibrary.org%2Fobo%2FFBbt_00007346%3E&prefixes=%7B%22FBbt%22%3A+%22http%3A%2F%2Fpurl.obolibrary.org%2Fobo%2FFBbt_%22%2C+%22RO%22%3A+%22http%3A%2F%2Fpurl.obolibrary.org%2Fobo%2FRO_%22%2C+%22BFO%22%3A+%22http%3A%2F%2Fpurl.obolibrary.org%2Fobo%2FBFO_%22%7D&direct=True\n",
      "Running query: <http://purl.obolibrary.org/obo/FBbt_00004181>\n",
      "Query URL: http://owl.virtualflybrain.org/kbs/vfb/superclasses?object=%3Chttp%3A%2F%2Fpurl.obolibrary.org%2Fobo%2FFBbt_00004181%3E&prefixes=%7B%22FBbt%22%3A+%22http%3A%2F%2Fpurl.obolibrary.org%2Fobo%2FFBbt_%22%2C+%22RO%22%3A+%22http%3A%2F%2Fpurl.obolibrary.org%2Fobo%2FRO_%22%2C+%22BFO%22%3A+%22http%3A%2F%2Fpurl.obolibrary.org%2Fobo%2FBFO_%22%7D&direct=True\n",
      "Running query: <http://purl.obolibrary.org/obo/FBbt_00067038>\n",
      "Query URL: http://owl.virtualflybrain.org/kbs/vfb/superclasses?object=%3Chttp%3A%2F%2Fpurl.obolibrary.org%2Fobo%2FFBbt_00067038%3E&prefixes=%7B%22FBbt%22%3A+%22http%3A%2F%2Fpurl.obolibrary.org%2Fobo%2FFBbt_%22%2C+%22RO%22%3A+%22http%3A%2F%2Fpurl.obolibrary.org%2Fobo%2FRO_%22%2C+%22BFO%22%3A+%22http%3A%2F%2Fpurl.obolibrary.org%2Fobo%2FBFO_%22%7D&direct=True\n",
      "Running query: <http://purl.obolibrary.org/obo/FBbt_00067008>\n",
      "Query URL: http://owl.virtualflybrain.org/kbs/vfb/superclasses?object=%3Chttp%3A%2F%2Fpurl.obolibrary.org%2Fobo%2FFBbt_00067008%3E&prefixes=%7B%22FBbt%22%3A+%22http%3A%2F%2Fpurl.obolibrary.org%2Fobo%2FFBbt_%22%2C+%22RO%22%3A+%22http%3A%2F%2Fpurl.obolibrary.org%2Fobo%2FRO_%22%2C+%22BFO%22%3A+%22http%3A%2F%2Fpurl.obolibrary.org%2Fobo%2FBFO_%22%7D&direct=True\n",
      "Running query: <http://purl.obolibrary.org/obo/FBbt_00007348>\n",
      "Query URL: http://owl.virtualflybrain.org/kbs/vfb/superclasses?object=%3Chttp%3A%2F%2Fpurl.obolibrary.org%2Fobo%2FFBbt_00007348%3E&prefixes=%7B%22FBbt%22%3A+%22http%3A%2F%2Fpurl.obolibrary.org%2Fobo%2FFBbt_%22%2C+%22RO%22%3A+%22http%3A%2F%2Fpurl.obolibrary.org%2Fobo%2FRO_%22%2C+%22BFO%22%3A+%22http%3A%2F%2Fpurl.obolibrary.org%2Fobo%2FBFO_%22%7D&direct=True\n",
      "Running query: <http://purl.obolibrary.org/obo/FBbt_00067000>\n",
      "Query URL: http://owl.virtualflybrain.org/kbs/vfb/superclasses?object=%3Chttp%3A%2F%2Fpurl.obolibrary.org%2Fobo%2FFBbt_00067000%3E&prefixes=%7B%22FBbt%22%3A+%22http%3A%2F%2Fpurl.obolibrary.org%2Fobo%2FFBbt_%22%2C+%22RO%22%3A+%22http%3A%2F%2Fpurl.obolibrary.org%2Fobo%2FRO_%22%2C+%22BFO%22%3A+%22http%3A%2F%2Fpurl.obolibrary.org%2Fobo%2FBFO_%22%7D&direct=True\n",
      "Running query: <http://purl.obolibrary.org/obo/FBbt_00110826>\n",
      "Query URL: http://owl.virtualflybrain.org/kbs/vfb/superclasses?object=%3Chttp%3A%2F%2Fpurl.obolibrary.org%2Fobo%2FFBbt_00110826%3E&prefixes=%7B%22FBbt%22%3A+%22http%3A%2F%2Fpurl.obolibrary.org%2Fobo%2FFBbt_%22%2C+%22RO%22%3A+%22http%3A%2F%2Fpurl.obolibrary.org%2Fobo%2FRO_%22%2C+%22BFO%22%3A+%22http%3A%2F%2Fpurl.obolibrary.org%2Fobo%2FBFO_%22%7D&direct=True\n",
      "Running query: <http://purl.obolibrary.org/obo/FBbt_00004182>\n",
      "Query URL: http://owl.virtualflybrain.org/kbs/vfb/superclasses?object=%3Chttp%3A%2F%2Fpurl.obolibrary.org%2Fobo%2FFBbt_00004182%3E&prefixes=%7B%22FBbt%22%3A+%22http%3A%2F%2Fpurl.obolibrary.org%2Fobo%2FFBbt_%22%2C+%22RO%22%3A+%22http%3A%2F%2Fpurl.obolibrary.org%2Fobo%2FRO_%22%2C+%22BFO%22%3A+%22http%3A%2F%2Fpurl.obolibrary.org%2Fobo%2FBFO_%22%7D&direct=True\n",
      "Running query: <http://purl.obolibrary.org/obo/FBbt_00110827>\n"
     ]
    },
    {
     "name": "stdout",
     "output_type": "stream",
     "text": [
      "Query URL: http://owl.virtualflybrain.org/kbs/vfb/superclasses?object=%3Chttp%3A%2F%2Fpurl.obolibrary.org%2Fobo%2FFBbt_00110827%3E&prefixes=%7B%22FBbt%22%3A+%22http%3A%2F%2Fpurl.obolibrary.org%2Fobo%2FFBbt_%22%2C+%22RO%22%3A+%22http%3A%2F%2Fpurl.obolibrary.org%2Fobo%2FRO_%22%2C+%22BFO%22%3A+%22http%3A%2F%2Fpurl.obolibrary.org%2Fobo%2FBFO_%22%7D&direct=True\n",
      "Running query: <http://purl.obolibrary.org/obo/FBbt_00004183>\n",
      "Query URL: http://owl.virtualflybrain.org/kbs/vfb/superclasses?object=%3Chttp%3A%2F%2Fpurl.obolibrary.org%2Fobo%2FFBbt_00004183%3E&prefixes=%7B%22FBbt%22%3A+%22http%3A%2F%2Fpurl.obolibrary.org%2Fobo%2FFBbt_%22%2C+%22RO%22%3A+%22http%3A%2F%2Fpurl.obolibrary.org%2Fobo%2FRO_%22%2C+%22BFO%22%3A+%22http%3A%2F%2Fpurl.obolibrary.org%2Fobo%2FBFO_%22%7D&direct=True\n",
      "Running query: <http://purl.obolibrary.org/obo/FBbt_00067010>\n",
      "Query URL: http://owl.virtualflybrain.org/kbs/vfb/superclasses?object=%3Chttp%3A%2F%2Fpurl.obolibrary.org%2Fobo%2FFBbt_00067010%3E&prefixes=%7B%22FBbt%22%3A+%22http%3A%2F%2Fpurl.obolibrary.org%2Fobo%2FFBbt_%22%2C+%22RO%22%3A+%22http%3A%2F%2Fpurl.obolibrary.org%2Fobo%2FRO_%22%2C+%22BFO%22%3A+%22http%3A%2F%2Fpurl.obolibrary.org%2Fobo%2FBFO_%22%7D&direct=True\n",
      "Running query: <http://purl.obolibrary.org/obo/FBbt_00007350>\n",
      "Query URL: http://owl.virtualflybrain.org/kbs/vfb/superclasses?object=%3Chttp%3A%2F%2Fpurl.obolibrary.org%2Fobo%2FFBbt_00007350%3E&prefixes=%7B%22FBbt%22%3A+%22http%3A%2F%2Fpurl.obolibrary.org%2Fobo%2FFBbt_%22%2C+%22RO%22%3A+%22http%3A%2F%2Fpurl.obolibrary.org%2Fobo%2FRO_%22%2C+%22BFO%22%3A+%22http%3A%2F%2Fpurl.obolibrary.org%2Fobo%2FBFO_%22%7D&direct=True\n",
      "Running query: <http://purl.obolibrary.org/obo/FBbt_00004175>\n",
      "Query URL: http://owl.virtualflybrain.org/kbs/vfb/superclasses?object=%3Chttp%3A%2F%2Fpurl.obolibrary.org%2Fobo%2FFBbt_00004175%3E&prefixes=%7B%22FBbt%22%3A+%22http%3A%2F%2Fpurl.obolibrary.org%2Fobo%2FFBbt_%22%2C+%22RO%22%3A+%22http%3A%2F%2Fpurl.obolibrary.org%2Fobo%2FRO_%22%2C+%22BFO%22%3A+%22http%3A%2F%2Fpurl.obolibrary.org%2Fobo%2FBFO_%22%7D&direct=True\n",
      "Running query: <http://purl.obolibrary.org/obo/FBbt_00067002>\n",
      "Query URL: http://owl.virtualflybrain.org/kbs/vfb/superclasses?object=%3Chttp%3A%2F%2Fpurl.obolibrary.org%2Fobo%2FFBbt_00067002%3E&prefixes=%7B%22FBbt%22%3A+%22http%3A%2F%2Fpurl.obolibrary.org%2Fobo%2FFBbt_%22%2C+%22RO%22%3A+%22http%3A%2F%2Fpurl.obolibrary.org%2Fobo%2FRO_%22%2C+%22BFO%22%3A+%22http%3A%2F%2Fpurl.obolibrary.org%2Fobo%2FBFO_%22%7D&direct=True\n",
      "Running query: <http://purl.obolibrary.org/obo/FBbt_00004184>\n",
      "Query URL: http://owl.virtualflybrain.org/kbs/vfb/superclasses?object=%3Chttp%3A%2F%2Fpurl.obolibrary.org%2Fobo%2FFBbt_00004184%3E&prefixes=%7B%22FBbt%22%3A+%22http%3A%2F%2Fpurl.obolibrary.org%2Fobo%2FFBbt_%22%2C+%22RO%22%3A+%22http%3A%2F%2Fpurl.obolibrary.org%2Fobo%2FRO_%22%2C+%22BFO%22%3A+%22http%3A%2F%2Fpurl.obolibrary.org%2Fobo%2FBFO_%22%7D&direct=True\n",
      "Running query: <http://purl.obolibrary.org/obo/FBbt_00110666>\n",
      "Query URL: http://owl.virtualflybrain.org/kbs/vfb/superclasses?object=%3Chttp%3A%2F%2Fpurl.obolibrary.org%2Fobo%2FFBbt_00110666%3E&prefixes=%7B%22FBbt%22%3A+%22http%3A%2F%2Fpurl.obolibrary.org%2Fobo%2FFBbt_%22%2C+%22RO%22%3A+%22http%3A%2F%2Fpurl.obolibrary.org%2Fobo%2FRO_%22%2C+%22BFO%22%3A+%22http%3A%2F%2Fpurl.obolibrary.org%2Fobo%2FBFO_%22%7D&direct=True\n",
      "Running query: <http://purl.obolibrary.org/obo/FBbt_00004176>\n",
      "Query URL: http://owl.virtualflybrain.org/kbs/vfb/superclasses?object=%3Chttp%3A%2F%2Fpurl.obolibrary.org%2Fobo%2FFBbt_00004176%3E&prefixes=%7B%22FBbt%22%3A+%22http%3A%2F%2Fpurl.obolibrary.org%2Fobo%2FFBbt_%22%2C+%22RO%22%3A+%22http%3A%2F%2Fpurl.obolibrary.org%2Fobo%2FRO_%22%2C+%22BFO%22%3A+%22http%3A%2F%2Fpurl.obolibrary.org%2Fobo%2FBFO_%22%7D&direct=True\n",
      "Running query: <http://purl.obolibrary.org/obo/FBbt_00110829>\n",
      "Query URL: http://owl.virtualflybrain.org/kbs/vfb/superclasses?object=%3Chttp%3A%2F%2Fpurl.obolibrary.org%2Fobo%2FFBbt_00110829%3E&prefixes=%7B%22FBbt%22%3A+%22http%3A%2F%2Fpurl.obolibrary.org%2Fobo%2FFBbt_%22%2C+%22RO%22%3A+%22http%3A%2F%2Fpurl.obolibrary.org%2Fobo%2FRO_%22%2C+%22BFO%22%3A+%22http%3A%2F%2Fpurl.obolibrary.org%2Fobo%2FBFO_%22%7D&direct=True\n",
      "Running query: <http://purl.obolibrary.org/obo/FBbt_00004185>\n",
      "Query URL: http://owl.virtualflybrain.org/kbs/vfb/superclasses?object=%3Chttp%3A%2F%2Fpurl.obolibrary.org%2Fobo%2FFBbt_00004185%3E&prefixes=%7B%22FBbt%22%3A+%22http%3A%2F%2Fpurl.obolibrary.org%2Fobo%2FFBbt_%22%2C+%22RO%22%3A+%22http%3A%2F%2Fpurl.obolibrary.org%2Fobo%2FRO_%22%2C+%22BFO%22%3A+%22http%3A%2F%2Fpurl.obolibrary.org%2Fobo%2FBFO_%22%7D&direct=True\n",
      "Running query: <http://purl.obolibrary.org/obo/FBbt_00110667>\n",
      "Query URL: http://owl.virtualflybrain.org/kbs/vfb/superclasses?object=%3Chttp%3A%2F%2Fpurl.obolibrary.org%2Fobo%2FFBbt_00110667%3E&prefixes=%7B%22FBbt%22%3A+%22http%3A%2F%2Fpurl.obolibrary.org%2Fobo%2FFBbt_%22%2C+%22RO%22%3A+%22http%3A%2F%2Fpurl.obolibrary.org%2Fobo%2FRO_%22%2C+%22BFO%22%3A+%22http%3A%2F%2Fpurl.obolibrary.org%2Fobo%2FBFO_%22%7D&direct=True\n",
      "Running query: <http://purl.obolibrary.org/obo/FBbt_00100022>\n",
      "Query URL: http://owl.virtualflybrain.org/kbs/vfb/superclasses?object=%3Chttp%3A%2F%2Fpurl.obolibrary.org%2Fobo%2FFBbt_00100022%3E&prefixes=%7B%22FBbt%22%3A+%22http%3A%2F%2Fpurl.obolibrary.org%2Fobo%2FFBbt_%22%2C+%22RO%22%3A+%22http%3A%2F%2Fpurl.obolibrary.org%2Fobo%2FRO_%22%2C+%22BFO%22%3A+%22http%3A%2F%2Fpurl.obolibrary.org%2Fobo%2FBFO_%22%7D&direct=True\n",
      "Running query: <http://purl.obolibrary.org/obo/FBbt_00004177>\n",
      "Query URL: http://owl.virtualflybrain.org/kbs/vfb/superclasses?object=%3Chttp%3A%2F%2Fpurl.obolibrary.org%2Fobo%2FFBbt_00004177%3E&prefixes=%7B%22FBbt%22%3A+%22http%3A%2F%2Fpurl.obolibrary.org%2Fobo%2FFBbt_%22%2C+%22RO%22%3A+%22http%3A%2F%2Fpurl.obolibrary.org%2Fobo%2FRO_%22%2C+%22BFO%22%3A+%22http%3A%2F%2Fpurl.obolibrary.org%2Fobo%2FBFO_%22%7D&direct=True\n",
      "Running query: <http://purl.obolibrary.org/obo/FBbt_00067043>\n",
      "Query URL: http://owl.virtualflybrain.org/kbs/vfb/superclasses?object=%3Chttp%3A%2F%2Fpurl.obolibrary.org%2Fobo%2FFBbt_00067043%3E&prefixes=%7B%22FBbt%22%3A+%22http%3A%2F%2Fpurl.obolibrary.org%2Fobo%2FFBbt_%22%2C+%22RO%22%3A+%22http%3A%2F%2Fpurl.obolibrary.org%2Fobo%2FRO_%22%2C+%22BFO%22%3A+%22http%3A%2F%2Fpurl.obolibrary.org%2Fobo%2FBFO_%22%7D&direct=True\n",
      "Running query: <http://purl.obolibrary.org/obo/FBbt_00110822>\n",
      "Query URL: http://owl.virtualflybrain.org/kbs/vfb/superclasses?object=%3Chttp%3A%2F%2Fpurl.obolibrary.org%2Fobo%2FFBbt_00110822%3E&prefixes=%7B%22FBbt%22%3A+%22http%3A%2F%2Fpurl.obolibrary.org%2Fobo%2FFBbt_%22%2C+%22RO%22%3A+%22http%3A%2F%2Fpurl.obolibrary.org%2Fobo%2FRO_%22%2C+%22BFO%22%3A+%22http%3A%2F%2Fpurl.obolibrary.org%2Fobo%2FBFO_%22%7D&direct=True\n",
      "Running query: <http://purl.obolibrary.org/obo/FBbt_00110824>\n",
      "Query URL: http://owl.virtualflybrain.org/kbs/vfb/superclasses?object=%3Chttp%3A%2F%2Fpurl.obolibrary.org%2Fobo%2FFBbt_00110824%3E&prefixes=%7B%22FBbt%22%3A+%22http%3A%2F%2Fpurl.obolibrary.org%2Fobo%2FFBbt_%22%2C+%22RO%22%3A+%22http%3A%2F%2Fpurl.obolibrary.org%2Fobo%2FRO_%22%2C+%22BFO%22%3A+%22http%3A%2F%2Fpurl.obolibrary.org%2Fobo%2FBFO_%22%7D&direct=True\n",
      "Running query: <http://purl.obolibrary.org/obo/FBbt_00004180>\n",
      "Query URL: http://owl.virtualflybrain.org/kbs/vfb/superclasses?object=%3Chttp%3A%2F%2Fpurl.obolibrary.org%2Fobo%2FFBbt_00004180%3E&prefixes=%7B%22FBbt%22%3A+%22http%3A%2F%2Fpurl.obolibrary.org%2Fobo%2FFBbt_%22%2C+%22RO%22%3A+%22http%3A%2F%2Fpurl.obolibrary.org%2Fobo%2FRO_%22%2C+%22BFO%22%3A+%22http%3A%2F%2Fpurl.obolibrary.org%2Fobo%2FBFO_%22%7D&direct=True\n",
      "Running query: <http://purl.obolibrary.org/obo/FBbt_00004173>\n",
      "Query URL: http://owl.virtualflybrain.org/kbs/vfb/superclasses?object=%3Chttp%3A%2F%2Fpurl.obolibrary.org%2Fobo%2FFBbt_00004173%3E&prefixes=%7B%22FBbt%22%3A+%22http%3A%2F%2Fpurl.obolibrary.org%2Fobo%2FFBbt_%22%2C+%22RO%22%3A+%22http%3A%2F%2Fpurl.obolibrary.org%2Fobo%2FRO_%22%2C+%22BFO%22%3A+%22http%3A%2F%2Fpurl.obolibrary.org%2Fobo%2FBFO_%22%7D&direct=True\n",
      "Running query: <http://purl.obolibrary.org/obo/FBbt_00067030>\n",
      "Query URL: http://owl.virtualflybrain.org/kbs/vfb/superclasses?object=%3Chttp%3A%2F%2Fpurl.obolibrary.org%2Fobo%2FFBbt_00067030%3E&prefixes=%7B%22FBbt%22%3A+%22http%3A%2F%2Fpurl.obolibrary.org%2Fobo%2FFBbt_%22%2C+%22RO%22%3A+%22http%3A%2F%2Fpurl.obolibrary.org%2Fobo%2FRO_%22%2C+%22BFO%22%3A+%22http%3A%2F%2Fpurl.obolibrary.org%2Fobo%2FBFO_%22%7D&direct=True\n",
      "Running query: <http://purl.obolibrary.org/obo/FBbt_00007419>\n"
     ]
    },
    {
     "name": "stdout",
     "output_type": "stream",
     "text": [
      "Query URL: http://owl.virtualflybrain.org/kbs/vfb/superclasses?object=%3Chttp%3A%2F%2Fpurl.obolibrary.org%2Fobo%2FFBbt_00007419%3E&prefixes=%7B%22FBbt%22%3A+%22http%3A%2F%2Fpurl.obolibrary.org%2Fobo%2FFBbt_%22%2C+%22RO%22%3A+%22http%3A%2F%2Fpurl.obolibrary.org%2Fobo%2FRO_%22%2C+%22BFO%22%3A+%22http%3A%2F%2Fpurl.obolibrary.org%2Fobo%2FBFO_%22%7D&direct=True\n",
      "Running query: <http://purl.obolibrary.org/obo/FBbt_00067022>\n",
      "Query URL: http://owl.virtualflybrain.org/kbs/vfb/superclasses?object=%3Chttp%3A%2F%2Fpurl.obolibrary.org%2Fobo%2FFBbt_00067022%3E&prefixes=%7B%22FBbt%22%3A+%22http%3A%2F%2Fpurl.obolibrary.org%2Fobo%2FFBbt_%22%2C+%22RO%22%3A+%22http%3A%2F%2Fpurl.obolibrary.org%2Fobo%2FRO_%22%2C+%22BFO%22%3A+%22http%3A%2F%2Fpurl.obolibrary.org%2Fobo%2FBFO_%22%7D&direct=True\n",
      "Running query: <http://purl.obolibrary.org/obo/FBbt_00004174>\n",
      "Query URL: http://owl.virtualflybrain.org/kbs/vfb/superclasses?object=%3Chttp%3A%2F%2Fpurl.obolibrary.org%2Fobo%2FFBbt_00004174%3E&prefixes=%7B%22FBbt%22%3A+%22http%3A%2F%2Fpurl.obolibrary.org%2Fobo%2FFBbt_%22%2C+%22RO%22%3A+%22http%3A%2F%2Fpurl.obolibrary.org%2Fobo%2FRO_%22%2C+%22BFO%22%3A+%22http%3A%2F%2Fpurl.obolibrary.org%2Fobo%2FBFO_%22%7D&direct=True\n",
      "Running query: <http://purl.obolibrary.org/obo/FBbt_00110027>\n",
      "Query URL: http://owl.virtualflybrain.org/kbs/vfb/superclasses?object=%3Chttp%3A%2F%2Fpurl.obolibrary.org%2Fobo%2FFBbt_00110027%3E&prefixes=%7B%22FBbt%22%3A+%22http%3A%2F%2Fpurl.obolibrary.org%2Fobo%2FFBbt_%22%2C+%22RO%22%3A+%22http%3A%2F%2Fpurl.obolibrary.org%2Fobo%2FRO_%22%2C+%22BFO%22%3A+%22http%3A%2F%2Fpurl.obolibrary.org%2Fobo%2FBFO_%22%7D&direct=True\n",
      "Running query: <http://purl.obolibrary.org/obo/FBbt_00100395>\n",
      "Query URL: http://owl.virtualflybrain.org/kbs/vfb/superclasses?object=%3Chttp%3A%2F%2Fpurl.obolibrary.org%2Fobo%2FFBbt_00100395%3E&prefixes=%7B%22FBbt%22%3A+%22http%3A%2F%2Fpurl.obolibrary.org%2Fobo%2FFBbt_%22%2C+%22RO%22%3A+%22http%3A%2F%2Fpurl.obolibrary.org%2Fobo%2FRO_%22%2C+%22BFO%22%3A+%22http%3A%2F%2Fpurl.obolibrary.org%2Fobo%2FBFO_%22%7D&direct=True\n",
      "Running query: <http://purl.obolibrary.org/obo/FBbt_00067032>\n",
      "Query URL: http://owl.virtualflybrain.org/kbs/vfb/superclasses?object=%3Chttp%3A%2F%2Fpurl.obolibrary.org%2Fobo%2FFBbt_00067032%3E&prefixes=%7B%22FBbt%22%3A+%22http%3A%2F%2Fpurl.obolibrary.org%2Fobo%2FFBbt_%22%2C+%22RO%22%3A+%22http%3A%2F%2Fpurl.obolibrary.org%2Fobo%2FRO_%22%2C+%22BFO%22%3A+%22http%3A%2F%2Fpurl.obolibrary.org%2Fobo%2FBFO_%22%7D&direct=True\n",
      "Running query: <http://purl.obolibrary.org/obo/FBbt_00007421>\n",
      "Query URL: http://owl.virtualflybrain.org/kbs/vfb/superclasses?object=%3Chttp%3A%2F%2Fpurl.obolibrary.org%2Fobo%2FFBbt_00007421%3E&prefixes=%7B%22FBbt%22%3A+%22http%3A%2F%2Fpurl.obolibrary.org%2Fobo%2FFBbt_%22%2C+%22RO%22%3A+%22http%3A%2F%2Fpurl.obolibrary.org%2Fobo%2FRO_%22%2C+%22BFO%22%3A+%22http%3A%2F%2Fpurl.obolibrary.org%2Fobo%2FBFO_%22%7D&direct=True\n",
      "Running query: <http://purl.obolibrary.org/obo/FBbt_00007355>\n",
      "Query URL: http://owl.virtualflybrain.org/kbs/vfb/superclasses?object=%3Chttp%3A%2F%2Fpurl.obolibrary.org%2Fobo%2FFBbt_00007355%3E&prefixes=%7B%22FBbt%22%3A+%22http%3A%2F%2Fpurl.obolibrary.org%2Fobo%2FFBbt_%22%2C+%22RO%22%3A+%22http%3A%2F%2Fpurl.obolibrary.org%2Fobo%2FRO_%22%2C+%22BFO%22%3A+%22http%3A%2F%2Fpurl.obolibrary.org%2Fobo%2FBFO_%22%7D&direct=True\n",
      "Running query: <http://purl.obolibrary.org/obo/FBbt_00067015>\n",
      "Query URL: http://owl.virtualflybrain.org/kbs/vfb/superclasses?object=%3Chttp%3A%2F%2Fpurl.obolibrary.org%2Fobo%2FFBbt_00067015%3E&prefixes=%7B%22FBbt%22%3A+%22http%3A%2F%2Fpurl.obolibrary.org%2Fobo%2FFBbt_%22%2C+%22RO%22%3A+%22http%3A%2F%2Fpurl.obolibrary.org%2Fobo%2FRO_%22%2C+%22BFO%22%3A+%22http%3A%2F%2Fpurl.obolibrary.org%2Fobo%2FBFO_%22%7D&direct=True\n",
      "Running query: <http://purl.obolibrary.org/obo/FBbt_00100396>\n",
      "Query URL: http://owl.virtualflybrain.org/kbs/vfb/superclasses?object=%3Chttp%3A%2F%2Fpurl.obolibrary.org%2Fobo%2FFBbt_00100396%3E&prefixes=%7B%22FBbt%22%3A+%22http%3A%2F%2Fpurl.obolibrary.org%2Fobo%2FFBbt_%22%2C+%22RO%22%3A+%22http%3A%2F%2Fpurl.obolibrary.org%2Fobo%2FRO_%22%2C+%22BFO%22%3A+%22http%3A%2F%2Fpurl.obolibrary.org%2Fobo%2FBFO_%22%7D&direct=True\n",
      "Running query: <http://purl.obolibrary.org/obo/FBbt_00067024>\n",
      "Query URL: http://owl.virtualflybrain.org/kbs/vfb/superclasses?object=%3Chttp%3A%2F%2Fpurl.obolibrary.org%2Fobo%2FFBbt_00067024%3E&prefixes=%7B%22FBbt%22%3A+%22http%3A%2F%2Fpurl.obolibrary.org%2Fobo%2FFBbt_%22%2C+%22RO%22%3A+%22http%3A%2F%2Fpurl.obolibrary.org%2Fobo%2FRO_%22%2C+%22BFO%22%3A+%22http%3A%2F%2Fpurl.obolibrary.org%2Fobo%2FBFO_%22%7D&direct=True\n",
      "Running query: <http://purl.obolibrary.org/obo/FBbt_00110820>\n",
      "Query URL: http://owl.virtualflybrain.org/kbs/vfb/superclasses?object=%3Chttp%3A%2F%2Fpurl.obolibrary.org%2Fobo%2FFBbt_00110820%3E&prefixes=%7B%22FBbt%22%3A+%22http%3A%2F%2Fpurl.obolibrary.org%2Fobo%2FFBbt_%22%2C+%22RO%22%3A+%22http%3A%2F%2Fpurl.obolibrary.org%2Fobo%2FRO_%22%2C+%22BFO%22%3A+%22http%3A%2F%2Fpurl.obolibrary.org%2Fobo%2FBFO_%22%7D&direct=True\n",
      "Running query: <http://purl.obolibrary.org/obo/FBbt_00007356>\n",
      "Query URL: http://owl.virtualflybrain.org/kbs/vfb/superclasses?object=%3Chttp%3A%2F%2Fpurl.obolibrary.org%2Fobo%2FFBbt_00007356%3E&prefixes=%7B%22FBbt%22%3A+%22http%3A%2F%2Fpurl.obolibrary.org%2Fobo%2FFBbt_%22%2C+%22RO%22%3A+%22http%3A%2F%2Fpurl.obolibrary.org%2Fobo%2FRO_%22%2C+%22BFO%22%3A+%22http%3A%2F%2Fpurl.obolibrary.org%2Fobo%2FBFO_%22%7D&direct=True\n"
     ]
    }
   ],
   "source": [
    "as_super = set()\n",
    "for s in antennal_sensilla:\n",
    "    as_super.update(oc.get_superclasses(\"<\"+s+\">\", direct=True))"
   ]
  },
  {
   "cell_type": "code",
   "execution_count": 36,
   "metadata": {},
   "outputs": [
    {
     "data": {
      "text/plain": [
       "{'adult antennal sense organ',\n",
       " 'adult head sensillum',\n",
       " 'antennal segment 2 sense organ',\n",
       " 'antennal segment 3 sensillum',\n",
       " 'blunt-tipped sensillum',\n",
       " 'grooved sensillum',\n",
       " 'large sensillum basiconicum',\n",
       " 'microchaeta',\n",
       " 'olfactory sensory organ',\n",
       " 'sensillum basiconicum',\n",
       " 'sensillum coeloconicum',\n",
       " 'sensillum intermedia',\n",
       " 'sensillum trichodeum',\n",
       " 'small sensillum basiconicum'}"
      ]
     },
     "execution_count": 36,
     "metadata": {},
     "output_type": "execute_result"
    }
   ],
   "source": [
    "set([n['n.label'] for n in gen_simple_report(list(as_super - set(antennal_sensilla)))])\n"
   ]
  },
  {
   "cell_type": "markdown",
   "metadata": {},
   "source": [
    "### Plan for antenna:\n",
    "\n",
    "For each of these cells include general class + part_of some antenna\n",
    "* somatic muscle cell\n",
    "* scolopidial neuron\n",
    "* olfactory neuron\n",
    "* other neurons (neuron minus scolopidial & olfactory)\n",
    "\n",
    "general cell classes:\n",
    "- epidermal cell\n",
    "    - eo support cells\n",
    "- scolopidial support cells\n",
    "- mechnosensory neuron\n",
    "\n",
    "For epidermal cells - cuticular specializations? - only artisa lateral.\n",
    "\n",
    "sense organ:\n",
    "  - mechanosensory cheata\n",
    "  - grooved senesillum\n",
    "  - sensillum ceoloconicum\n",
    "  - sensillum basiconicum\n",
    "  - sensillum intermedia\n",
    "  - sensillum tricodium\n",
    "  - aristal sensillum\n",
    "  - compound sense organ\n",
    "  \n",
    "Algorithm:\n",
    "\n",
    "cell sheet\n",
    "\n",
    "sensillum sheet\n",
    "\n",
    "  \n",
    "Guidance: \n",
    "\n",
    "The Drosophila anatomy ontology aims to have comprehensive coverage of externally visible macroscopic structures  (regions of integument; segments of appendages; sensilla).  On the cellular level, the Drosophila anatomy ontology is very neuron-centric (many terms have been added as part of the Virtual Fly Brain project). So - we have sensory neuron terms for the majority of sensilla, but we only have generic terms for epidermal cell and eo support cells (tormogen, trichogen, thecogen). If new, more specific types of support cell term are needed, for example if there are distinct types of trichogen cell producing different external sensory structures, then we can add these by combining the term trichogen cell with the relevant sensillum term (e.g. campaniform sensillum).\n",
    "\n",
    "Each sensillum has: - eo support cells + neuron.  For olfactory receptors and some others, we have identified \n",
    "  \n",
    "### Plan for leg\n",
    "\n",
    "Problem - how to we get rid of terms specific for each leg\n",
    "\n",
    "* somatic muscle cell\n",
    "\n",
    "* neurons: \n",
    "  * chemosensory neuron\n",
    "  * scolopidial neuron\n",
    "  * mechanosensory neuron\n",
    "  * other neuron\n",
    "\n",
    "general cell classes:\n",
    "- epidermal cell\n",
    "    - eo support cells\n",
    "    - epidermal cell of wing cell\n",
    "    - epidermal cell of wing vein\n",
    "    - epdidermal cell of wing sclerite\n",
    "- scolopidial support cells\n",
    "- mechnosensory neuron\n",
    "\n",
    "sensilla:\n",
    " - chordotonal organ\n",
    " - campaniform sensillum\n",
    " \n",
    "\n",
    "### Plan for wing\n",
    "\n",
    "sensilla:\n",
    " - chordotonal organ\n",
    " - campaniform sensillum\n",
    "\n",
    "### Maxillary palp\n",
    "\n",
    "\n",
    "\n",
    "\n"
   ]
  },
  {
   "cell_type": "code",
   "execution_count": 9,
   "metadata": {},
   "outputs": [],
   "source": [
    "FCA_spreadsheet_tools.generate_report(iri_list=as_super.union(antennal_sensilla), \n",
    "                                 fbbt_path=\"/repos/drosophila-anatomy-developmental-ontology/fbbt-simple.json\",\n",
    "                                 xlsx_out=\"./antennal_sensilla.xlsx\")"
   ]
  },
  {
   "cell_type": "code",
   "execution_count": 24,
   "metadata": {},
   "outputs": [],
   "source": [
    "def gen_s_r_o_report(s,r,o,with_super = True):\n",
    "\n",
    "    sro = set(oc.get_subclasses(\"'%s' that '%s' some '%s'\" % (s,r,o), query_by_label=True))\n",
    "    \n",
    "    super_s = set()\n",
    "    min_super_s = set()\n",
    "    \n",
    "    if with_super:\n",
    "        for x in sro:\n",
    "            super_s.update(oc.get_superclasses(\"<\"+x+\">\", direct=True))\n",
    "        \n",
    "            \n",
    "    print(super_s)\n",
    "\n",
    "    FCA_spreadsheet_tools.generate_report(iri_list=sro.union(super_s), \n",
    "                                 fbbt_path=\"/repos/drosophila-anatomy-developmental-ontology/fbbt-simple.json\",\n",
    "                                 xlsx_out=\"./%s_%s.xlsx\" % (s,o))"
   ]
  },
  {
   "cell_type": "code",
   "execution_count": 38,
   "metadata": {},
   "outputs": [
    {
     "name": "stdout",
     "output_type": "stream",
     "text": [
      "Running query: FBbt:00007152 that RO:0002131 some FBbt:00004640\n",
      "Query URL: http://owl.virtualflybrain.org/kbs/vfb/subclasses?object=FBbt%3A00007152+that+RO%3A0002131+some+FBbt%3A00004640&prefixes=%7B%22FBbt%22%3A+%22http%3A%2F%2Fpurl.obolibrary.org%2Fobo%2FFBbt_%22%2C+%22RO%22%3A+%22http%3A%2F%2Fpurl.obolibrary.org%2Fobo%2FRO_%22%2C+%22BFO%22%3A+%22http%3A%2F%2Fpurl.obolibrary.org%2Fobo%2FBFO_%22%7D&direct=False\n",
      "Running query: <http://purl.obolibrary.org/obo/FBbt_00004366>\n",
      "Query URL: http://owl.virtualflybrain.org/kbs/vfb/superclasses?object=%3Chttp%3A%2F%2Fpurl.obolibrary.org%2Fobo%2FFBbt_00004366%3E&prefixes=%7B%22FBbt%22%3A+%22http%3A%2F%2Fpurl.obolibrary.org%2Fobo%2FFBbt_%22%2C+%22RO%22%3A+%22http%3A%2F%2Fpurl.obolibrary.org%2Fobo%2FRO_%22%2C+%22BFO%22%3A+%22http%3A%2F%2Fpurl.obolibrary.org%2Fobo%2FBFO_%22%7D&direct=True\n",
      "Running query: <http://purl.obolibrary.org/obo/FBbt_00004391>\n",
      "Query URL: http://owl.virtualflybrain.org/kbs/vfb/superclasses?object=%3Chttp%3A%2F%2Fpurl.obolibrary.org%2Fobo%2FFBbt_00004391%3E&prefixes=%7B%22FBbt%22%3A+%22http%3A%2F%2Fpurl.obolibrary.org%2Fobo%2FFBbt_%22%2C+%22RO%22%3A+%22http%3A%2F%2Fpurl.obolibrary.org%2Fobo%2FRO_%22%2C+%22BFO%22%3A+%22http%3A%2F%2Fpurl.obolibrary.org%2Fobo%2FBFO_%22%7D&direct=True\n",
      "Running query: <http://purl.obolibrary.org/obo/FBbt_00004295>\n",
      "Query URL: http://owl.virtualflybrain.org/kbs/vfb/superclasses?object=%3Chttp%3A%2F%2Fpurl.obolibrary.org%2Fobo%2FFBbt_00004295%3E&prefixes=%7B%22FBbt%22%3A+%22http%3A%2F%2Fpurl.obolibrary.org%2Fobo%2FFBbt_%22%2C+%22RO%22%3A+%22http%3A%2F%2Fpurl.obolibrary.org%2Fobo%2FRO_%22%2C+%22BFO%22%3A+%22http%3A%2F%2Fpurl.obolibrary.org%2Fobo%2FBFO_%22%7D&direct=True\n",
      "Running query: <http://purl.obolibrary.org/obo/FBbt_00004396>\n",
      "Query URL: http://owl.virtualflybrain.org/kbs/vfb/superclasses?object=%3Chttp%3A%2F%2Fpurl.obolibrary.org%2Fobo%2FFBbt_00004396%3E&prefixes=%7B%22FBbt%22%3A+%22http%3A%2F%2Fpurl.obolibrary.org%2Fobo%2FFBbt_%22%2C+%22RO%22%3A+%22http%3A%2F%2Fpurl.obolibrary.org%2Fobo%2FRO_%22%2C+%22BFO%22%3A+%22http%3A%2F%2Fpurl.obolibrary.org%2Fobo%2FBFO_%22%7D&direct=True\n",
      "Running query: <http://purl.obolibrary.org/obo/FBbt_00004447>\n",
      "Query URL: http://owl.virtualflybrain.org/kbs/vfb/superclasses?object=%3Chttp%3A%2F%2Fpurl.obolibrary.org%2Fobo%2FFBbt_00004447%3E&prefixes=%7B%22FBbt%22%3A+%22http%3A%2F%2Fpurl.obolibrary.org%2Fobo%2FFBbt_%22%2C+%22RO%22%3A+%22http%3A%2F%2Fpurl.obolibrary.org%2Fobo%2FRO_%22%2C+%22BFO%22%3A+%22http%3A%2F%2Fpurl.obolibrary.org%2Fobo%2FBFO_%22%7D&direct=True\n",
      "Running query: <http://purl.obolibrary.org/obo/FBbt_00004284>\n",
      "Query URL: http://owl.virtualflybrain.org/kbs/vfb/superclasses?object=%3Chttp%3A%2F%2Fpurl.obolibrary.org%2Fobo%2FFBbt_00004284%3E&prefixes=%7B%22FBbt%22%3A+%22http%3A%2F%2Fpurl.obolibrary.org%2Fobo%2FFBbt_%22%2C+%22RO%22%3A+%22http%3A%2F%2Fpurl.obolibrary.org%2Fobo%2FRO_%22%2C+%22BFO%22%3A+%22http%3A%2F%2Fpurl.obolibrary.org%2Fobo%2FBFO_%22%7D&direct=True\n",
      "Running query: <http://purl.obolibrary.org/obo/FBbt_00048187>\n",
      "Query URL: http://owl.virtualflybrain.org/kbs/vfb/superclasses?object=%3Chttp%3A%2F%2Fpurl.obolibrary.org%2Fobo%2FFBbt_00048187%3E&prefixes=%7B%22FBbt%22%3A+%22http%3A%2F%2Fpurl.obolibrary.org%2Fobo%2FFBbt_%22%2C+%22RO%22%3A+%22http%3A%2F%2Fpurl.obolibrary.org%2Fobo%2FRO_%22%2C+%22BFO%22%3A+%22http%3A%2F%2Fpurl.obolibrary.org%2Fobo%2FBFO_%22%7D&direct=True\n",
      "Running query: <http://purl.obolibrary.org/obo/FBbt_00004285>\n",
      "Query URL: http://owl.virtualflybrain.org/kbs/vfb/superclasses?object=%3Chttp%3A%2F%2Fpurl.obolibrary.org%2Fobo%2FFBbt_00004285%3E&prefixes=%7B%22FBbt%22%3A+%22http%3A%2F%2Fpurl.obolibrary.org%2Fobo%2FFBbt_%22%2C+%22RO%22%3A+%22http%3A%2F%2Fpurl.obolibrary.org%2Fobo%2FRO_%22%2C+%22BFO%22%3A+%22http%3A%2F%2Fpurl.obolibrary.org%2Fobo%2FBFO_%22%7D&direct=True\n",
      "Running query: <http://purl.obolibrary.org/obo/FBbt_00004389>\n",
      "Query URL: http://owl.virtualflybrain.org/kbs/vfb/superclasses?object=%3Chttp%3A%2F%2Fpurl.obolibrary.org%2Fobo%2FFBbt_00004389%3E&prefixes=%7B%22FBbt%22%3A+%22http%3A%2F%2Fpurl.obolibrary.org%2Fobo%2FFBbt_%22%2C+%22RO%22%3A+%22http%3A%2F%2Fpurl.obolibrary.org%2Fobo%2FRO_%22%2C+%22BFO%22%3A+%22http%3A%2F%2Fpurl.obolibrary.org%2Fobo%2FBFO_%22%7D&direct=True\n",
      "Running query: <http://purl.obolibrary.org/obo/FBbt_00048080>\n",
      "Query URL: http://owl.virtualflybrain.org/kbs/vfb/superclasses?object=%3Chttp%3A%2F%2Fpurl.obolibrary.org%2Fobo%2FFBbt_00048080%3E&prefixes=%7B%22FBbt%22%3A+%22http%3A%2F%2Fpurl.obolibrary.org%2Fobo%2FFBbt_%22%2C+%22RO%22%3A+%22http%3A%2F%2Fpurl.obolibrary.org%2Fobo%2FRO_%22%2C+%22BFO%22%3A+%22http%3A%2F%2Fpurl.obolibrary.org%2Fobo%2FBFO_%22%7D&direct=True\n",
      "Running query: <http://purl.obolibrary.org/obo/FBbt_00004371>\n",
      "Query URL: http://owl.virtualflybrain.org/kbs/vfb/superclasses?object=%3Chttp%3A%2F%2Fpurl.obolibrary.org%2Fobo%2FFBbt_00004371%3E&prefixes=%7B%22FBbt%22%3A+%22http%3A%2F%2Fpurl.obolibrary.org%2Fobo%2FFBbt_%22%2C+%22RO%22%3A+%22http%3A%2F%2Fpurl.obolibrary.org%2Fobo%2FRO_%22%2C+%22BFO%22%3A+%22http%3A%2F%2Fpurl.obolibrary.org%2Fobo%2FBFO_%22%7D&direct=True\n",
      "Running query: <http://purl.obolibrary.org/obo/FBbt_00048082>\n",
      "Query URL: http://owl.virtualflybrain.org/kbs/vfb/superclasses?object=%3Chttp%3A%2F%2Fpurl.obolibrary.org%2Fobo%2FFBbt_00048082%3E&prefixes=%7B%22FBbt%22%3A+%22http%3A%2F%2Fpurl.obolibrary.org%2Fobo%2FFBbt_%22%2C+%22RO%22%3A+%22http%3A%2F%2Fpurl.obolibrary.org%2Fobo%2FRO_%22%2C+%22BFO%22%3A+%22http%3A%2F%2Fpurl.obolibrary.org%2Fobo%2FBFO_%22%7D&direct=True\n",
      "Running query: <http://purl.obolibrary.org/obo/FBbt_00004268>\n",
      "Query URL: http://owl.virtualflybrain.org/kbs/vfb/superclasses?object=%3Chttp%3A%2F%2Fpurl.obolibrary.org%2Fobo%2FFBbt_00004268%3E&prefixes=%7B%22FBbt%22%3A+%22http%3A%2F%2Fpurl.obolibrary.org%2Fobo%2FFBbt_%22%2C+%22RO%22%3A+%22http%3A%2F%2Fpurl.obolibrary.org%2Fobo%2FRO_%22%2C+%22BFO%22%3A+%22http%3A%2F%2Fpurl.obolibrary.org%2Fobo%2FBFO_%22%7D&direct=True\n",
      "Running query: <http://purl.obolibrary.org/obo/FBbt_01004296>\n",
      "Query URL: http://owl.virtualflybrain.org/kbs/vfb/superclasses?object=%3Chttp%3A%2F%2Fpurl.obolibrary.org%2Fobo%2FFBbt_01004296%3E&prefixes=%7B%22FBbt%22%3A+%22http%3A%2F%2Fpurl.obolibrary.org%2Fobo%2FFBbt_%22%2C+%22RO%22%3A+%22http%3A%2F%2Fpurl.obolibrary.org%2Fobo%2FRO_%22%2C+%22BFO%22%3A+%22http%3A%2F%2Fpurl.obolibrary.org%2Fobo%2FBFO_%22%7D&direct=True\n",
      "Running query: <http://purl.obolibrary.org/obo/FBbt_00048191>\n",
      "Query URL: http://owl.virtualflybrain.org/kbs/vfb/superclasses?object=%3Chttp%3A%2F%2Fpurl.obolibrary.org%2Fobo%2FFBbt_00048191%3E&prefixes=%7B%22FBbt%22%3A+%22http%3A%2F%2Fpurl.obolibrary.org%2Fobo%2FFBbt_%22%2C+%22RO%22%3A+%22http%3A%2F%2Fpurl.obolibrary.org%2Fobo%2FRO_%22%2C+%22BFO%22%3A+%22http%3A%2F%2Fpurl.obolibrary.org%2Fobo%2FBFO_%22%7D&direct=True\n",
      "Running query: <http://purl.obolibrary.org/obo/FBbt_00004253>\n",
      "Query URL: http://owl.virtualflybrain.org/kbs/vfb/superclasses?object=%3Chttp%3A%2F%2Fpurl.obolibrary.org%2Fobo%2FFBbt_00004253%3E&prefixes=%7B%22FBbt%22%3A+%22http%3A%2F%2Fpurl.obolibrary.org%2Fobo%2FFBbt_%22%2C+%22RO%22%3A+%22http%3A%2F%2Fpurl.obolibrary.org%2Fobo%2FRO_%22%2C+%22BFO%22%3A+%22http%3A%2F%2Fpurl.obolibrary.org%2Fobo%2FBFO_%22%7D&direct=True\n",
      "Running query: <http://purl.obolibrary.org/obo/FBbt_00004257>\n",
      "Query URL: http://owl.virtualflybrain.org/kbs/vfb/superclasses?object=%3Chttp%3A%2F%2Fpurl.obolibrary.org%2Fobo%2FFBbt_00004257%3E&prefixes=%7B%22FBbt%22%3A+%22http%3A%2F%2Fpurl.obolibrary.org%2Fobo%2FFBbt_%22%2C+%22RO%22%3A+%22http%3A%2F%2Fpurl.obolibrary.org%2Fobo%2FRO_%22%2C+%22BFO%22%3A+%22http%3A%2F%2Fpurl.obolibrary.org%2Fobo%2FBFO_%22%7D&direct=True\n",
      "Running query: <http://purl.obolibrary.org/obo/FBbt_00007409>\n",
      "Query URL: http://owl.virtualflybrain.org/kbs/vfb/superclasses?object=%3Chttp%3A%2F%2Fpurl.obolibrary.org%2Fobo%2FFBbt_00007409%3E&prefixes=%7B%22FBbt%22%3A+%22http%3A%2F%2Fpurl.obolibrary.org%2Fobo%2FFBbt_%22%2C+%22RO%22%3A+%22http%3A%2F%2Fpurl.obolibrary.org%2Fobo%2FRO_%22%2C+%22BFO%22%3A+%22http%3A%2F%2Fpurl.obolibrary.org%2Fobo%2FBFO_%22%7D&direct=True\n",
      "Running query: <http://purl.obolibrary.org/obo/FBbt_00004377>\n",
      "Query URL: http://owl.virtualflybrain.org/kbs/vfb/superclasses?object=%3Chttp%3A%2F%2Fpurl.obolibrary.org%2Fobo%2FFBbt_00004377%3E&prefixes=%7B%22FBbt%22%3A+%22http%3A%2F%2Fpurl.obolibrary.org%2Fobo%2FFBbt_%22%2C+%22RO%22%3A+%22http%3A%2F%2Fpurl.obolibrary.org%2Fobo%2FRO_%22%2C+%22BFO%22%3A+%22http%3A%2F%2Fpurl.obolibrary.org%2Fobo%2FBFO_%22%7D&direct=True\n",
      "Running query: <http://purl.obolibrary.org/obo/FBbt_00004254>\n",
      "Query URL: http://owl.virtualflybrain.org/kbs/vfb/superclasses?object=%3Chttp%3A%2F%2Fpurl.obolibrary.org%2Fobo%2FFBbt_00004254%3E&prefixes=%7B%22FBbt%22%3A+%22http%3A%2F%2Fpurl.obolibrary.org%2Fobo%2FFBbt_%22%2C+%22RO%22%3A+%22http%3A%2F%2Fpurl.obolibrary.org%2Fobo%2FRO_%22%2C+%22BFO%22%3A+%22http%3A%2F%2Fpurl.obolibrary.org%2Fobo%2FBFO_%22%7D&direct=True\n",
      "Running query: <http://purl.obolibrary.org/obo/FBbt_00004394>\n",
      "Query URL: http://owl.virtualflybrain.org/kbs/vfb/superclasses?object=%3Chttp%3A%2F%2Fpurl.obolibrary.org%2Fobo%2FFBbt_00004394%3E&prefixes=%7B%22FBbt%22%3A+%22http%3A%2F%2Fpurl.obolibrary.org%2Fobo%2FFBbt_%22%2C+%22RO%22%3A+%22http%3A%2F%2Fpurl.obolibrary.org%2Fobo%2FRO_%22%2C+%22BFO%22%3A+%22http%3A%2F%2Fpurl.obolibrary.org%2Fobo%2FBFO_%22%7D&direct=True\n",
      "Running query: <http://purl.obolibrary.org/obo/FBbt_00004434>\n"
     ]
    },
    {
     "name": "stdout",
     "output_type": "stream",
     "text": [
      "Query URL: http://owl.virtualflybrain.org/kbs/vfb/superclasses?object=%3Chttp%3A%2F%2Fpurl.obolibrary.org%2Fobo%2FFBbt_00004434%3E&prefixes=%7B%22FBbt%22%3A+%22http%3A%2F%2Fpurl.obolibrary.org%2Fobo%2FFBbt_%22%2C+%22RO%22%3A+%22http%3A%2F%2Fpurl.obolibrary.org%2Fobo%2FRO_%22%2C+%22BFO%22%3A+%22http%3A%2F%2Fpurl.obolibrary.org%2Fobo%2FBFO_%22%7D&direct=True\n",
      "Running query: <http://purl.obolibrary.org/obo/FBbt_00048171>\n",
      "Query URL: http://owl.virtualflybrain.org/kbs/vfb/superclasses?object=%3Chttp%3A%2F%2Fpurl.obolibrary.org%2Fobo%2FFBbt_00048171%3E&prefixes=%7B%22FBbt%22%3A+%22http%3A%2F%2Fpurl.obolibrary.org%2Fobo%2FFBbt_%22%2C+%22RO%22%3A+%22http%3A%2F%2Fpurl.obolibrary.org%2Fobo%2FRO_%22%2C+%22BFO%22%3A+%22http%3A%2F%2Fpurl.obolibrary.org%2Fobo%2FBFO_%22%7D&direct=True\n",
      "Running query: <http://purl.obolibrary.org/obo/FBbt_00004456>\n",
      "Query URL: http://owl.virtualflybrain.org/kbs/vfb/superclasses?object=%3Chttp%3A%2F%2Fpurl.obolibrary.org%2Fobo%2FFBbt_00004456%3E&prefixes=%7B%22FBbt%22%3A+%22http%3A%2F%2Fpurl.obolibrary.org%2Fobo%2FFBbt_%22%2C+%22RO%22%3A+%22http%3A%2F%2Fpurl.obolibrary.org%2Fobo%2FRO_%22%2C+%22BFO%22%3A+%22http%3A%2F%2Fpurl.obolibrary.org%2Fobo%2FBFO_%22%7D&direct=True\n",
      "Running query: <http://purl.obolibrary.org/obo/FBbt_00048193>\n",
      "Query URL: http://owl.virtualflybrain.org/kbs/vfb/superclasses?object=%3Chttp%3A%2F%2Fpurl.obolibrary.org%2Fobo%2FFBbt_00048193%3E&prefixes=%7B%22FBbt%22%3A+%22http%3A%2F%2Fpurl.obolibrary.org%2Fobo%2FFBbt_%22%2C+%22RO%22%3A+%22http%3A%2F%2Fpurl.obolibrary.org%2Fobo%2FRO_%22%2C+%22BFO%22%3A+%22http%3A%2F%2Fpurl.obolibrary.org%2Fobo%2FBFO_%22%7D&direct=True\n",
      "Running query: <http://purl.obolibrary.org/obo/FBbt_00004375>\n",
      "Query URL: http://owl.virtualflybrain.org/kbs/vfb/superclasses?object=%3Chttp%3A%2F%2Fpurl.obolibrary.org%2Fobo%2FFBbt_00004375%3E&prefixes=%7B%22FBbt%22%3A+%22http%3A%2F%2Fpurl.obolibrary.org%2Fobo%2FFBbt_%22%2C+%22RO%22%3A+%22http%3A%2F%2Fpurl.obolibrary.org%2Fobo%2FRO_%22%2C+%22BFO%22%3A+%22http%3A%2F%2Fpurl.obolibrary.org%2Fobo%2FBFO_%22%7D&direct=True\n",
      "Running query: <http://purl.obolibrary.org/obo/FBbt_00004427>\n",
      "Query URL: http://owl.virtualflybrain.org/kbs/vfb/superclasses?object=%3Chttp%3A%2F%2Fpurl.obolibrary.org%2Fobo%2FFBbt_00004427%3E&prefixes=%7B%22FBbt%22%3A+%22http%3A%2F%2Fpurl.obolibrary.org%2Fobo%2FFBbt_%22%2C+%22RO%22%3A+%22http%3A%2F%2Fpurl.obolibrary.org%2Fobo%2FRO_%22%2C+%22BFO%22%3A+%22http%3A%2F%2Fpurl.obolibrary.org%2Fobo%2FBFO_%22%7D&direct=True\n",
      "Running query: <http://purl.obolibrary.org/obo/FBbt_00004424>\n",
      "Query URL: http://owl.virtualflybrain.org/kbs/vfb/superclasses?object=%3Chttp%3A%2F%2Fpurl.obolibrary.org%2Fobo%2FFBbt_00004424%3E&prefixes=%7B%22FBbt%22%3A+%22http%3A%2F%2Fpurl.obolibrary.org%2Fobo%2FFBbt_%22%2C+%22RO%22%3A+%22http%3A%2F%2Fpurl.obolibrary.org%2Fobo%2FRO_%22%2C+%22BFO%22%3A+%22http%3A%2F%2Fpurl.obolibrary.org%2Fobo%2FBFO_%22%7D&direct=True\n",
      "Running query: <http://purl.obolibrary.org/obo/FBbt_00004390>\n",
      "Query URL: http://owl.virtualflybrain.org/kbs/vfb/superclasses?object=%3Chttp%3A%2F%2Fpurl.obolibrary.org%2Fobo%2FFBbt_00004390%3E&prefixes=%7B%22FBbt%22%3A+%22http%3A%2F%2Fpurl.obolibrary.org%2Fobo%2FFBbt_%22%2C+%22RO%22%3A+%22http%3A%2F%2Fpurl.obolibrary.org%2Fobo%2FRO_%22%2C+%22BFO%22%3A+%22http%3A%2F%2Fpurl.obolibrary.org%2Fobo%2FBFO_%22%7D&direct=True\n",
      "Running query: <http://purl.obolibrary.org/obo/FBbt_00004373>\n",
      "Query URL: http://owl.virtualflybrain.org/kbs/vfb/superclasses?object=%3Chttp%3A%2F%2Fpurl.obolibrary.org%2Fobo%2FFBbt_00004373%3E&prefixes=%7B%22FBbt%22%3A+%22http%3A%2F%2Fpurl.obolibrary.org%2Fobo%2FFBbt_%22%2C+%22RO%22%3A+%22http%3A%2F%2Fpurl.obolibrary.org%2Fobo%2FRO_%22%2C+%22BFO%22%3A+%22http%3A%2F%2Fpurl.obolibrary.org%2Fobo%2FBFO_%22%7D&direct=True\n",
      "Running query: <http://purl.obolibrary.org/obo/FBbt_00048207>\n",
      "Query URL: http://owl.virtualflybrain.org/kbs/vfb/superclasses?object=%3Chttp%3A%2F%2Fpurl.obolibrary.org%2Fobo%2FFBbt_00048207%3E&prefixes=%7B%22FBbt%22%3A+%22http%3A%2F%2Fpurl.obolibrary.org%2Fobo%2FFBbt_%22%2C+%22RO%22%3A+%22http%3A%2F%2Fpurl.obolibrary.org%2Fobo%2FRO_%22%2C+%22BFO%22%3A+%22http%3A%2F%2Fpurl.obolibrary.org%2Fobo%2FBFO_%22%7D&direct=True\n",
      "Running query: <http://purl.obolibrary.org/obo/FBbt_00004451>\n",
      "Query URL: http://owl.virtualflybrain.org/kbs/vfb/superclasses?object=%3Chttp%3A%2F%2Fpurl.obolibrary.org%2Fobo%2FFBbt_00004451%3E&prefixes=%7B%22FBbt%22%3A+%22http%3A%2F%2Fpurl.obolibrary.org%2Fobo%2FFBbt_%22%2C+%22RO%22%3A+%22http%3A%2F%2Fpurl.obolibrary.org%2Fobo%2FRO_%22%2C+%22BFO%22%3A+%22http%3A%2F%2Fpurl.obolibrary.org%2Fobo%2FBFO_%22%7D&direct=True\n",
      "Running query: <http://purl.obolibrary.org/obo/FBbt_00048205>\n",
      "Query URL: http://owl.virtualflybrain.org/kbs/vfb/superclasses?object=%3Chttp%3A%2F%2Fpurl.obolibrary.org%2Fobo%2FFBbt_00048205%3E&prefixes=%7B%22FBbt%22%3A+%22http%3A%2F%2Fpurl.obolibrary.org%2Fobo%2FFBbt_%22%2C+%22RO%22%3A+%22http%3A%2F%2Fpurl.obolibrary.org%2Fobo%2FRO_%22%2C+%22BFO%22%3A+%22http%3A%2F%2Fpurl.obolibrary.org%2Fobo%2FBFO_%22%7D&direct=True\n",
      "Running query: <http://purl.obolibrary.org/obo/FBbt_00048206>\n",
      "Query URL: http://owl.virtualflybrain.org/kbs/vfb/superclasses?object=%3Chttp%3A%2F%2Fpurl.obolibrary.org%2Fobo%2FFBbt_00048206%3E&prefixes=%7B%22FBbt%22%3A+%22http%3A%2F%2Fpurl.obolibrary.org%2Fobo%2FFBbt_%22%2C+%22RO%22%3A+%22http%3A%2F%2Fpurl.obolibrary.org%2Fobo%2FRO_%22%2C+%22BFO%22%3A+%22http%3A%2F%2Fpurl.obolibrary.org%2Fobo%2FBFO_%22%7D&direct=True\n",
      "Running query: <http://purl.obolibrary.org/obo/FBbt_00004453>\n",
      "Query URL: http://owl.virtualflybrain.org/kbs/vfb/superclasses?object=%3Chttp%3A%2F%2Fpurl.obolibrary.org%2Fobo%2FFBbt_00004453%3E&prefixes=%7B%22FBbt%22%3A+%22http%3A%2F%2Fpurl.obolibrary.org%2Fobo%2FFBbt_%22%2C+%22RO%22%3A+%22http%3A%2F%2Fpurl.obolibrary.org%2Fobo%2FRO_%22%2C+%22BFO%22%3A+%22http%3A%2F%2Fpurl.obolibrary.org%2Fobo%2FBFO_%22%7D&direct=True\n",
      "Running query: <http://purl.obolibrary.org/obo/FBbt_00048194>\n",
      "Query URL: http://owl.virtualflybrain.org/kbs/vfb/superclasses?object=%3Chttp%3A%2F%2Fpurl.obolibrary.org%2Fobo%2FFBbt_00048194%3E&prefixes=%7B%22FBbt%22%3A+%22http%3A%2F%2Fpurl.obolibrary.org%2Fobo%2FFBbt_%22%2C+%22RO%22%3A+%22http%3A%2F%2Fpurl.obolibrary.org%2Fobo%2FRO_%22%2C+%22BFO%22%3A+%22http%3A%2F%2Fpurl.obolibrary.org%2Fobo%2FBFO_%22%7D&direct=True\n",
      "Running query: <http://purl.obolibrary.org/obo/FBbt_00048168>\n",
      "Query URL: http://owl.virtualflybrain.org/kbs/vfb/superclasses?object=%3Chttp%3A%2F%2Fpurl.obolibrary.org%2Fobo%2FFBbt_00048168%3E&prefixes=%7B%22FBbt%22%3A+%22http%3A%2F%2Fpurl.obolibrary.org%2Fobo%2FFBbt_%22%2C+%22RO%22%3A+%22http%3A%2F%2Fpurl.obolibrary.org%2Fobo%2FRO_%22%2C+%22BFO%22%3A+%22http%3A%2F%2Fpurl.obolibrary.org%2Fobo%2FBFO_%22%7D&direct=True\n",
      "Running query: <http://purl.obolibrary.org/obo/FBbt_00004442>\n",
      "Query URL: http://owl.virtualflybrain.org/kbs/vfb/superclasses?object=%3Chttp%3A%2F%2Fpurl.obolibrary.org%2Fobo%2FFBbt_00004442%3E&prefixes=%7B%22FBbt%22%3A+%22http%3A%2F%2Fpurl.obolibrary.org%2Fobo%2FFBbt_%22%2C+%22RO%22%3A+%22http%3A%2F%2Fpurl.obolibrary.org%2Fobo%2FRO_%22%2C+%22BFO%22%3A+%22http%3A%2F%2Fpurl.obolibrary.org%2Fobo%2FBFO_%22%7D&direct=True\n",
      "Running query: <http://purl.obolibrary.org/obo/FBbt_00048178>\n",
      "Query URL: http://owl.virtualflybrain.org/kbs/vfb/superclasses?object=%3Chttp%3A%2F%2Fpurl.obolibrary.org%2Fobo%2FFBbt_00048178%3E&prefixes=%7B%22FBbt%22%3A+%22http%3A%2F%2Fpurl.obolibrary.org%2Fobo%2FFBbt_%22%2C+%22RO%22%3A+%22http%3A%2F%2Fpurl.obolibrary.org%2Fobo%2FRO_%22%2C+%22BFO%22%3A+%22http%3A%2F%2Fpurl.obolibrary.org%2Fobo%2FBFO_%22%7D&direct=True\n",
      "Running query: <http://purl.obolibrary.org/obo/FBbt_00004291>\n",
      "Query URL: http://owl.virtualflybrain.org/kbs/vfb/superclasses?object=%3Chttp%3A%2F%2Fpurl.obolibrary.org%2Fobo%2FFBbt_00004291%3E&prefixes=%7B%22FBbt%22%3A+%22http%3A%2F%2Fpurl.obolibrary.org%2Fobo%2FFBbt_%22%2C+%22RO%22%3A+%22http%3A%2F%2Fpurl.obolibrary.org%2Fobo%2FRO_%22%2C+%22BFO%22%3A+%22http%3A%2F%2Fpurl.obolibrary.org%2Fobo%2FBFO_%22%7D&direct=True\n",
      "Running query: <http://purl.obolibrary.org/obo/FBbt_00004255>\n",
      "Query URL: http://owl.virtualflybrain.org/kbs/vfb/superclasses?object=%3Chttp%3A%2F%2Fpurl.obolibrary.org%2Fobo%2FFBbt_00004255%3E&prefixes=%7B%22FBbt%22%3A+%22http%3A%2F%2Fpurl.obolibrary.org%2Fobo%2FFBbt_%22%2C+%22RO%22%3A+%22http%3A%2F%2Fpurl.obolibrary.org%2Fobo%2FRO_%22%2C+%22BFO%22%3A+%22http%3A%2F%2Fpurl.obolibrary.org%2Fobo%2FBFO_%22%7D&direct=True\n",
      "Running query: <http://purl.obolibrary.org/obo/FBbt_00004363>\n"
     ]
    },
    {
     "name": "stdout",
     "output_type": "stream",
     "text": [
      "Query URL: http://owl.virtualflybrain.org/kbs/vfb/superclasses?object=%3Chttp%3A%2F%2Fpurl.obolibrary.org%2Fobo%2FFBbt_00004363%3E&prefixes=%7B%22FBbt%22%3A+%22http%3A%2F%2Fpurl.obolibrary.org%2Fobo%2FFBbt_%22%2C+%22RO%22%3A+%22http%3A%2F%2Fpurl.obolibrary.org%2Fobo%2FRO_%22%2C+%22BFO%22%3A+%22http%3A%2F%2Fpurl.obolibrary.org%2Fobo%2FBFO_%22%7D&direct=True\n",
      "Running query: <http://purl.obolibrary.org/obo/FBbt_00004265>\n",
      "Query URL: http://owl.virtualflybrain.org/kbs/vfb/superclasses?object=%3Chttp%3A%2F%2Fpurl.obolibrary.org%2Fobo%2FFBbt_00004265%3E&prefixes=%7B%22FBbt%22%3A+%22http%3A%2F%2Fpurl.obolibrary.org%2Fobo%2FFBbt_%22%2C+%22RO%22%3A+%22http%3A%2F%2Fpurl.obolibrary.org%2Fobo%2FRO_%22%2C+%22BFO%22%3A+%22http%3A%2F%2Fpurl.obolibrary.org%2Fobo%2FBFO_%22%7D&direct=True\n",
      "Running query: <http://purl.obolibrary.org/obo/FBbt_00004457>\n",
      "Query URL: http://owl.virtualflybrain.org/kbs/vfb/superclasses?object=%3Chttp%3A%2F%2Fpurl.obolibrary.org%2Fobo%2FFBbt_00004457%3E&prefixes=%7B%22FBbt%22%3A+%22http%3A%2F%2Fpurl.obolibrary.org%2Fobo%2FFBbt_%22%2C+%22RO%22%3A+%22http%3A%2F%2Fpurl.obolibrary.org%2Fobo%2FRO_%22%2C+%22BFO%22%3A+%22http%3A%2F%2Fpurl.obolibrary.org%2Fobo%2FBFO_%22%7D&direct=True\n",
      "Running query: <http://purl.obolibrary.org/obo/FBbt_00004252>\n",
      "Query URL: http://owl.virtualflybrain.org/kbs/vfb/superclasses?object=%3Chttp%3A%2F%2Fpurl.obolibrary.org%2Fobo%2FFBbt_00004252%3E&prefixes=%7B%22FBbt%22%3A+%22http%3A%2F%2Fpurl.obolibrary.org%2Fobo%2FFBbt_%22%2C+%22RO%22%3A+%22http%3A%2F%2Fpurl.obolibrary.org%2Fobo%2FRO_%22%2C+%22BFO%22%3A+%22http%3A%2F%2Fpurl.obolibrary.org%2Fobo%2FBFO_%22%7D&direct=True\n",
      "Running query: <http://purl.obolibrary.org/obo/FBbt_00048081>\n",
      "Query URL: http://owl.virtualflybrain.org/kbs/vfb/superclasses?object=%3Chttp%3A%2F%2Fpurl.obolibrary.org%2Fobo%2FFBbt_00048081%3E&prefixes=%7B%22FBbt%22%3A+%22http%3A%2F%2Fpurl.obolibrary.org%2Fobo%2FFBbt_%22%2C+%22RO%22%3A+%22http%3A%2F%2Fpurl.obolibrary.org%2Fobo%2FRO_%22%2C+%22BFO%22%3A+%22http%3A%2F%2Fpurl.obolibrary.org%2Fobo%2FBFO_%22%7D&direct=True\n",
      "Running query: <http://purl.obolibrary.org/obo/FBbt_00014280>\n",
      "Query URL: http://owl.virtualflybrain.org/kbs/vfb/superclasses?object=%3Chttp%3A%2F%2Fpurl.obolibrary.org%2Fobo%2FFBbt_00014280%3E&prefixes=%7B%22FBbt%22%3A+%22http%3A%2F%2Fpurl.obolibrary.org%2Fobo%2FFBbt_%22%2C+%22RO%22%3A+%22http%3A%2F%2Fpurl.obolibrary.org%2Fobo%2FRO_%22%2C+%22BFO%22%3A+%22http%3A%2F%2Fpurl.obolibrary.org%2Fobo%2FBFO_%22%7D&direct=True\n",
      "Running query: <http://purl.obolibrary.org/obo/FBbt_00048192>\n",
      "Query URL: http://owl.virtualflybrain.org/kbs/vfb/superclasses?object=%3Chttp%3A%2F%2Fpurl.obolibrary.org%2Fobo%2FFBbt_00048192%3E&prefixes=%7B%22FBbt%22%3A+%22http%3A%2F%2Fpurl.obolibrary.org%2Fobo%2FFBbt_%22%2C+%22RO%22%3A+%22http%3A%2F%2Fpurl.obolibrary.org%2Fobo%2FRO_%22%2C+%22BFO%22%3A+%22http%3A%2F%2Fpurl.obolibrary.org%2Fobo%2FBFO_%22%7D&direct=True\n",
      "Running query: <http://purl.obolibrary.org/obo/FBbt_00004267>\n",
      "Query URL: http://owl.virtualflybrain.org/kbs/vfb/superclasses?object=%3Chttp%3A%2F%2Fpurl.obolibrary.org%2Fobo%2FFBbt_00004267%3E&prefixes=%7B%22FBbt%22%3A+%22http%3A%2F%2Fpurl.obolibrary.org%2Fobo%2FFBbt_%22%2C+%22RO%22%3A+%22http%3A%2F%2Fpurl.obolibrary.org%2Fobo%2FRO_%22%2C+%22BFO%22%3A+%22http%3A%2F%2Fpurl.obolibrary.org%2Fobo%2FBFO_%22%7D&direct=True\n",
      "Running query: <http://purl.obolibrary.org/obo/FBbt_00004269>\n",
      "Query URL: http://owl.virtualflybrain.org/kbs/vfb/superclasses?object=%3Chttp%3A%2F%2Fpurl.obolibrary.org%2Fobo%2FFBbt_00004269%3E&prefixes=%7B%22FBbt%22%3A+%22http%3A%2F%2Fpurl.obolibrary.org%2Fobo%2FFBbt_%22%2C+%22RO%22%3A+%22http%3A%2F%2Fpurl.obolibrary.org%2Fobo%2FRO_%22%2C+%22BFO%22%3A+%22http%3A%2F%2Fpurl.obolibrary.org%2Fobo%2FBFO_%22%7D&direct=True\n",
      "Running query: <http://purl.obolibrary.org/obo/FBbt_00111619>\n",
      "Query URL: http://owl.virtualflybrain.org/kbs/vfb/superclasses?object=%3Chttp%3A%2F%2Fpurl.obolibrary.org%2Fobo%2FFBbt_00111619%3E&prefixes=%7B%22FBbt%22%3A+%22http%3A%2F%2Fpurl.obolibrary.org%2Fobo%2FFBbt_%22%2C+%22RO%22%3A+%22http%3A%2F%2Fpurl.obolibrary.org%2Fobo%2FRO_%22%2C+%22BFO%22%3A+%22http%3A%2F%2Fpurl.obolibrary.org%2Fobo%2FBFO_%22%7D&direct=True\n",
      "Running query: <http://purl.obolibrary.org/obo/FBbt_00004370>\n",
      "Query URL: http://owl.virtualflybrain.org/kbs/vfb/superclasses?object=%3Chttp%3A%2F%2Fpurl.obolibrary.org%2Fobo%2FFBbt_00004370%3E&prefixes=%7B%22FBbt%22%3A+%22http%3A%2F%2Fpurl.obolibrary.org%2Fobo%2FFBbt_%22%2C+%22RO%22%3A+%22http%3A%2F%2Fpurl.obolibrary.org%2Fobo%2FRO_%22%2C+%22BFO%22%3A+%22http%3A%2F%2Fpurl.obolibrary.org%2Fobo%2FBFO_%22%7D&direct=True\n",
      "Running query: <http://purl.obolibrary.org/obo/FBbt_00004399>\n",
      "Query URL: http://owl.virtualflybrain.org/kbs/vfb/superclasses?object=%3Chttp%3A%2F%2Fpurl.obolibrary.org%2Fobo%2FFBbt_00004399%3E&prefixes=%7B%22FBbt%22%3A+%22http%3A%2F%2Fpurl.obolibrary.org%2Fobo%2FFBbt_%22%2C+%22RO%22%3A+%22http%3A%2F%2Fpurl.obolibrary.org%2Fobo%2FRO_%22%2C+%22BFO%22%3A+%22http%3A%2F%2Fpurl.obolibrary.org%2Fobo%2FBFO_%22%7D&direct=True\n",
      "Running query: <http://purl.obolibrary.org/obo/FBbt_00048184>\n",
      "Query URL: http://owl.virtualflybrain.org/kbs/vfb/superclasses?object=%3Chttp%3A%2F%2Fpurl.obolibrary.org%2Fobo%2FFBbt_00048184%3E&prefixes=%7B%22FBbt%22%3A+%22http%3A%2F%2Fpurl.obolibrary.org%2Fobo%2FFBbt_%22%2C+%22RO%22%3A+%22http%3A%2F%2Fpurl.obolibrary.org%2Fobo%2FRO_%22%2C+%22BFO%22%3A+%22http%3A%2F%2Fpurl.obolibrary.org%2Fobo%2FBFO_%22%7D&direct=True\n",
      "Running query: <http://purl.obolibrary.org/obo/FBbt_00004402>\n",
      "Query URL: http://owl.virtualflybrain.org/kbs/vfb/superclasses?object=%3Chttp%3A%2F%2Fpurl.obolibrary.org%2Fobo%2FFBbt_00004402%3E&prefixes=%7B%22FBbt%22%3A+%22http%3A%2F%2Fpurl.obolibrary.org%2Fobo%2FFBbt_%22%2C+%22RO%22%3A+%22http%3A%2F%2Fpurl.obolibrary.org%2Fobo%2FRO_%22%2C+%22BFO%22%3A+%22http%3A%2F%2Fpurl.obolibrary.org%2Fobo%2FBFO_%22%7D&direct=True\n",
      "Running query: <http://purl.obolibrary.org/obo/FBbt_00048174>\n",
      "Query URL: http://owl.virtualflybrain.org/kbs/vfb/superclasses?object=%3Chttp%3A%2F%2Fpurl.obolibrary.org%2Fobo%2FFBbt_00048174%3E&prefixes=%7B%22FBbt%22%3A+%22http%3A%2F%2Fpurl.obolibrary.org%2Fobo%2FFBbt_%22%2C+%22RO%22%3A+%22http%3A%2F%2Fpurl.obolibrary.org%2Fobo%2FRO_%22%2C+%22BFO%22%3A+%22http%3A%2F%2Fpurl.obolibrary.org%2Fobo%2FBFO_%22%7D&direct=True\n",
      "Running query: <http://purl.obolibrary.org/obo/FBbt_00004378>\n",
      "Query URL: http://owl.virtualflybrain.org/kbs/vfb/superclasses?object=%3Chttp%3A%2F%2Fpurl.obolibrary.org%2Fobo%2FFBbt_00004378%3E&prefixes=%7B%22FBbt%22%3A+%22http%3A%2F%2Fpurl.obolibrary.org%2Fobo%2FFBbt_%22%2C+%22RO%22%3A+%22http%3A%2F%2Fpurl.obolibrary.org%2Fobo%2FRO_%22%2C+%22BFO%22%3A+%22http%3A%2F%2Fpurl.obolibrary.org%2Fobo%2FBFO_%22%7D&direct=True\n",
      "Running query: <http://purl.obolibrary.org/obo/FBbt_00004435>\n",
      "Query URL: http://owl.virtualflybrain.org/kbs/vfb/superclasses?object=%3Chttp%3A%2F%2Fpurl.obolibrary.org%2Fobo%2FFBbt_00004435%3E&prefixes=%7B%22FBbt%22%3A+%22http%3A%2F%2Fpurl.obolibrary.org%2Fobo%2FFBbt_%22%2C+%22RO%22%3A+%22http%3A%2F%2Fpurl.obolibrary.org%2Fobo%2FRO_%22%2C+%22BFO%22%3A+%22http%3A%2F%2Fpurl.obolibrary.org%2Fobo%2FBFO_%22%7D&direct=True\n",
      "Running query: <http://purl.obolibrary.org/obo/FBbt_00004367>\n",
      "Query URL: http://owl.virtualflybrain.org/kbs/vfb/superclasses?object=%3Chttp%3A%2F%2Fpurl.obolibrary.org%2Fobo%2FFBbt_00004367%3E&prefixes=%7B%22FBbt%22%3A+%22http%3A%2F%2Fpurl.obolibrary.org%2Fobo%2FFBbt_%22%2C+%22RO%22%3A+%22http%3A%2F%2Fpurl.obolibrary.org%2Fobo%2FRO_%22%2C+%22BFO%22%3A+%22http%3A%2F%2Fpurl.obolibrary.org%2Fobo%2FBFO_%22%7D&direct=True\n",
      "Running query: <http://purl.obolibrary.org/obo/FBbt_00048195>\n",
      "Query URL: http://owl.virtualflybrain.org/kbs/vfb/superclasses?object=%3Chttp%3A%2F%2Fpurl.obolibrary.org%2Fobo%2FFBbt_00048195%3E&prefixes=%7B%22FBbt%22%3A+%22http%3A%2F%2Fpurl.obolibrary.org%2Fobo%2FFBbt_%22%2C+%22RO%22%3A+%22http%3A%2F%2Fpurl.obolibrary.org%2Fobo%2FRO_%22%2C+%22BFO%22%3A+%22http%3A%2F%2Fpurl.obolibrary.org%2Fobo%2FBFO_%22%7D&direct=True\n",
      "Running query: <http://purl.obolibrary.org/obo/FBbt_00111618>\n",
      "Query URL: http://owl.virtualflybrain.org/kbs/vfb/superclasses?object=%3Chttp%3A%2F%2Fpurl.obolibrary.org%2Fobo%2FFBbt_00111618%3E&prefixes=%7B%22FBbt%22%3A+%22http%3A%2F%2Fpurl.obolibrary.org%2Fobo%2FFBbt_%22%2C+%22RO%22%3A+%22http%3A%2F%2Fpurl.obolibrary.org%2Fobo%2FRO_%22%2C+%22BFO%22%3A+%22http%3A%2F%2Fpurl.obolibrary.org%2Fobo%2FBFO_%22%7D&direct=True\n",
      "Running query: <http://purl.obolibrary.org/obo/FBbt_00004454>\n"
     ]
    },
    {
     "name": "stdout",
     "output_type": "stream",
     "text": [
      "Query URL: http://owl.virtualflybrain.org/kbs/vfb/superclasses?object=%3Chttp%3A%2F%2Fpurl.obolibrary.org%2Fobo%2FFBbt_00004454%3E&prefixes=%7B%22FBbt%22%3A+%22http%3A%2F%2Fpurl.obolibrary.org%2Fobo%2FFBbt_%22%2C+%22RO%22%3A+%22http%3A%2F%2Fpurl.obolibrary.org%2Fobo%2FRO_%22%2C+%22BFO%22%3A+%22http%3A%2F%2Fpurl.obolibrary.org%2Fobo%2FBFO_%22%7D&direct=True\n",
      "Running query: <http://purl.obolibrary.org/obo/FBbt_00048198>\n",
      "Query URL: http://owl.virtualflybrain.org/kbs/vfb/superclasses?object=%3Chttp%3A%2F%2Fpurl.obolibrary.org%2Fobo%2FFBbt_00048198%3E&prefixes=%7B%22FBbt%22%3A+%22http%3A%2F%2Fpurl.obolibrary.org%2Fobo%2FFBbt_%22%2C+%22RO%22%3A+%22http%3A%2F%2Fpurl.obolibrary.org%2Fobo%2FRO_%22%2C+%22BFO%22%3A+%22http%3A%2F%2Fpurl.obolibrary.org%2Fobo%2FBFO_%22%7D&direct=True\n",
      "Running query: <http://purl.obolibrary.org/obo/FBbt_00004246>\n",
      "Query URL: http://owl.virtualflybrain.org/kbs/vfb/superclasses?object=%3Chttp%3A%2F%2Fpurl.obolibrary.org%2Fobo%2FFBbt_00004246%3E&prefixes=%7B%22FBbt%22%3A+%22http%3A%2F%2Fpurl.obolibrary.org%2Fobo%2FFBbt_%22%2C+%22RO%22%3A+%22http%3A%2F%2Fpurl.obolibrary.org%2Fobo%2FRO_%22%2C+%22BFO%22%3A+%22http%3A%2F%2Fpurl.obolibrary.org%2Fobo%2FBFO_%22%7D&direct=True\n",
      "Running query: <http://purl.obolibrary.org/obo/FBbt_00048055>\n",
      "Query URL: http://owl.virtualflybrain.org/kbs/vfb/superclasses?object=%3Chttp%3A%2F%2Fpurl.obolibrary.org%2Fobo%2FFBbt_00048055%3E&prefixes=%7B%22FBbt%22%3A+%22http%3A%2F%2Fpurl.obolibrary.org%2Fobo%2FFBbt_%22%2C+%22RO%22%3A+%22http%3A%2F%2Fpurl.obolibrary.org%2Fobo%2FRO_%22%2C+%22BFO%22%3A+%22http%3A%2F%2Fpurl.obolibrary.org%2Fobo%2FBFO_%22%7D&direct=True\n",
      "Running query: <http://purl.obolibrary.org/obo/FBbt_00004406>\n",
      "Query URL: http://owl.virtualflybrain.org/kbs/vfb/superclasses?object=%3Chttp%3A%2F%2Fpurl.obolibrary.org%2Fobo%2FFBbt_00004406%3E&prefixes=%7B%22FBbt%22%3A+%22http%3A%2F%2Fpurl.obolibrary.org%2Fobo%2FFBbt_%22%2C+%22RO%22%3A+%22http%3A%2F%2Fpurl.obolibrary.org%2Fobo%2FRO_%22%2C+%22BFO%22%3A+%22http%3A%2F%2Fpurl.obolibrary.org%2Fobo%2FBFO_%22%7D&direct=True\n",
      "Running query: <http://purl.obolibrary.org/obo/FBbt_00048199>\n",
      "Query URL: http://owl.virtualflybrain.org/kbs/vfb/superclasses?object=%3Chttp%3A%2F%2Fpurl.obolibrary.org%2Fobo%2FFBbt_00048199%3E&prefixes=%7B%22FBbt%22%3A+%22http%3A%2F%2Fpurl.obolibrary.org%2Fobo%2FFBbt_%22%2C+%22RO%22%3A+%22http%3A%2F%2Fpurl.obolibrary.org%2Fobo%2FRO_%22%2C+%22BFO%22%3A+%22http%3A%2F%2Fpurl.obolibrary.org%2Fobo%2FBFO_%22%7D&direct=True\n",
      "Running query: <http://purl.obolibrary.org/obo/FBbt_00004279>\n",
      "Query URL: http://owl.virtualflybrain.org/kbs/vfb/superclasses?object=%3Chttp%3A%2F%2Fpurl.obolibrary.org%2Fobo%2FFBbt_00004279%3E&prefixes=%7B%22FBbt%22%3A+%22http%3A%2F%2Fpurl.obolibrary.org%2Fobo%2FFBbt_%22%2C+%22RO%22%3A+%22http%3A%2F%2Fpurl.obolibrary.org%2Fobo%2FRO_%22%2C+%22BFO%22%3A+%22http%3A%2F%2Fpurl.obolibrary.org%2Fobo%2FBFO_%22%7D&direct=True\n",
      "Running query: <http://purl.obolibrary.org/obo/FBbt_00004400>\n",
      "Query URL: http://owl.virtualflybrain.org/kbs/vfb/superclasses?object=%3Chttp%3A%2F%2Fpurl.obolibrary.org%2Fobo%2FFBbt_00004400%3E&prefixes=%7B%22FBbt%22%3A+%22http%3A%2F%2Fpurl.obolibrary.org%2Fobo%2FFBbt_%22%2C+%22RO%22%3A+%22http%3A%2F%2Fpurl.obolibrary.org%2Fobo%2FRO_%22%2C+%22BFO%22%3A+%22http%3A%2F%2Fpurl.obolibrary.org%2Fobo%2FBFO_%22%7D&direct=True\n",
      "Running query: <http://purl.obolibrary.org/obo/FBbt_00004259>\n",
      "Query URL: http://owl.virtualflybrain.org/kbs/vfb/superclasses?object=%3Chttp%3A%2F%2Fpurl.obolibrary.org%2Fobo%2FFBbt_00004259%3E&prefixes=%7B%22FBbt%22%3A+%22http%3A%2F%2Fpurl.obolibrary.org%2Fobo%2FFBbt_%22%2C+%22RO%22%3A+%22http%3A%2F%2Fpurl.obolibrary.org%2Fobo%2FRO_%22%2C+%22BFO%22%3A+%22http%3A%2F%2Fpurl.obolibrary.org%2Fobo%2FBFO_%22%7D&direct=True\n",
      "Running query: <http://purl.obolibrary.org/obo/FBbt_00004404>\n",
      "Query URL: http://owl.virtualflybrain.org/kbs/vfb/superclasses?object=%3Chttp%3A%2F%2Fpurl.obolibrary.org%2Fobo%2FFBbt_00004404%3E&prefixes=%7B%22FBbt%22%3A+%22http%3A%2F%2Fpurl.obolibrary.org%2Fobo%2FFBbt_%22%2C+%22RO%22%3A+%22http%3A%2F%2Fpurl.obolibrary.org%2Fobo%2FRO_%22%2C+%22BFO%22%3A+%22http%3A%2F%2Fpurl.obolibrary.org%2Fobo%2FBFO_%22%7D&direct=True\n",
      "Running query: <http://purl.obolibrary.org/obo/FBbt_00048183>\n",
      "Query URL: http://owl.virtualflybrain.org/kbs/vfb/superclasses?object=%3Chttp%3A%2F%2Fpurl.obolibrary.org%2Fobo%2FFBbt_00048183%3E&prefixes=%7B%22FBbt%22%3A+%22http%3A%2F%2Fpurl.obolibrary.org%2Fobo%2FFBbt_%22%2C+%22RO%22%3A+%22http%3A%2F%2Fpurl.obolibrary.org%2Fobo%2FRO_%22%2C+%22BFO%22%3A+%22http%3A%2F%2Fpurl.obolibrary.org%2Fobo%2FBFO_%22%7D&direct=True\n",
      "Running query: <http://purl.obolibrary.org/obo/FBbt_00004292>\n",
      "Query URL: http://owl.virtualflybrain.org/kbs/vfb/superclasses?object=%3Chttp%3A%2F%2Fpurl.obolibrary.org%2Fobo%2FFBbt_00004292%3E&prefixes=%7B%22FBbt%22%3A+%22http%3A%2F%2Fpurl.obolibrary.org%2Fobo%2FFBbt_%22%2C+%22RO%22%3A+%22http%3A%2F%2Fpurl.obolibrary.org%2Fobo%2FRO_%22%2C+%22BFO%22%3A+%22http%3A%2F%2Fpurl.obolibrary.org%2Fobo%2FBFO_%22%7D&direct=True\n",
      "Running query: <http://purl.obolibrary.org/obo/FBbt_00048175>\n",
      "Query URL: http://owl.virtualflybrain.org/kbs/vfb/superclasses?object=%3Chttp%3A%2F%2Fpurl.obolibrary.org%2Fobo%2FFBbt_00048175%3E&prefixes=%7B%22FBbt%22%3A+%22http%3A%2F%2Fpurl.obolibrary.org%2Fobo%2FFBbt_%22%2C+%22RO%22%3A+%22http%3A%2F%2Fpurl.obolibrary.org%2Fobo%2FRO_%22%2C+%22BFO%22%3A+%22http%3A%2F%2Fpurl.obolibrary.org%2Fobo%2FBFO_%22%7D&direct=True\n",
      "Running query: <http://purl.obolibrary.org/obo/FBbt_00004422>\n",
      "Query URL: http://owl.virtualflybrain.org/kbs/vfb/superclasses?object=%3Chttp%3A%2F%2Fpurl.obolibrary.org%2Fobo%2FFBbt_00004422%3E&prefixes=%7B%22FBbt%22%3A+%22http%3A%2F%2Fpurl.obolibrary.org%2Fobo%2FFBbt_%22%2C+%22RO%22%3A+%22http%3A%2F%2Fpurl.obolibrary.org%2Fobo%2FRO_%22%2C+%22BFO%22%3A+%22http%3A%2F%2Fpurl.obolibrary.org%2Fobo%2FBFO_%22%7D&direct=True\n",
      "Running query: <http://purl.obolibrary.org/obo/FBbt_00004372>\n",
      "Query URL: http://owl.virtualflybrain.org/kbs/vfb/superclasses?object=%3Chttp%3A%2F%2Fpurl.obolibrary.org%2Fobo%2FFBbt_00004372%3E&prefixes=%7B%22FBbt%22%3A+%22http%3A%2F%2Fpurl.obolibrary.org%2Fobo%2FFBbt_%22%2C+%22RO%22%3A+%22http%3A%2F%2Fpurl.obolibrary.org%2Fobo%2FRO_%22%2C+%22BFO%22%3A+%22http%3A%2F%2Fpurl.obolibrary.org%2Fobo%2FBFO_%22%7D&direct=True\n",
      "Running query: <http://purl.obolibrary.org/obo/FBbt_00004393>\n",
      "Query URL: http://owl.virtualflybrain.org/kbs/vfb/superclasses?object=%3Chttp%3A%2F%2Fpurl.obolibrary.org%2Fobo%2FFBbt_00004393%3E&prefixes=%7B%22FBbt%22%3A+%22http%3A%2F%2Fpurl.obolibrary.org%2Fobo%2FFBbt_%22%2C+%22RO%22%3A+%22http%3A%2F%2Fpurl.obolibrary.org%2Fobo%2FRO_%22%2C+%22BFO%22%3A+%22http%3A%2F%2Fpurl.obolibrary.org%2Fobo%2FBFO_%22%7D&direct=True\n",
      "Running query: <http://purl.obolibrary.org/obo/FBbt_00111617>\n",
      "Query URL: http://owl.virtualflybrain.org/kbs/vfb/superclasses?object=%3Chttp%3A%2F%2Fpurl.obolibrary.org%2Fobo%2FFBbt_00111617%3E&prefixes=%7B%22FBbt%22%3A+%22http%3A%2F%2Fpurl.obolibrary.org%2Fobo%2FFBbt_%22%2C+%22RO%22%3A+%22http%3A%2F%2Fpurl.obolibrary.org%2Fobo%2FRO_%22%2C+%22BFO%22%3A+%22http%3A%2F%2Fpurl.obolibrary.org%2Fobo%2FBFO_%22%7D&direct=True\n",
      "Running query: <http://purl.obolibrary.org/obo/FBbt_00048177>\n",
      "Query URL: http://owl.virtualflybrain.org/kbs/vfb/superclasses?object=%3Chttp%3A%2F%2Fpurl.obolibrary.org%2Fobo%2FFBbt_00048177%3E&prefixes=%7B%22FBbt%22%3A+%22http%3A%2F%2Fpurl.obolibrary.org%2Fobo%2FFBbt_%22%2C+%22RO%22%3A+%22http%3A%2F%2Fpurl.obolibrary.org%2Fobo%2FRO_%22%2C+%22BFO%22%3A+%22http%3A%2F%2Fpurl.obolibrary.org%2Fobo%2FBFO_%22%7D&direct=True\n",
      "Running query: <http://purl.obolibrary.org/obo/FBbt_00004460>\n",
      "Query URL: http://owl.virtualflybrain.org/kbs/vfb/superclasses?object=%3Chttp%3A%2F%2Fpurl.obolibrary.org%2Fobo%2FFBbt_00004460%3E&prefixes=%7B%22FBbt%22%3A+%22http%3A%2F%2Fpurl.obolibrary.org%2Fobo%2FFBbt_%22%2C+%22RO%22%3A+%22http%3A%2F%2Fpurl.obolibrary.org%2Fobo%2FRO_%22%2C+%22BFO%22%3A+%22http%3A%2F%2Fpurl.obolibrary.org%2Fobo%2FBFO_%22%7D&direct=True\n",
      "Running query: <http://purl.obolibrary.org/obo/FBbt_00004421>\n",
      "Query URL: http://owl.virtualflybrain.org/kbs/vfb/superclasses?object=%3Chttp%3A%2F%2Fpurl.obolibrary.org%2Fobo%2FFBbt_00004421%3E&prefixes=%7B%22FBbt%22%3A+%22http%3A%2F%2Fpurl.obolibrary.org%2Fobo%2FFBbt_%22%2C+%22RO%22%3A+%22http%3A%2F%2Fpurl.obolibrary.org%2Fobo%2FRO_%22%2C+%22BFO%22%3A+%22http%3A%2F%2Fpurl.obolibrary.org%2Fobo%2FBFO_%22%7D&direct=True\n",
      "Running query: <http://purl.obolibrary.org/obo/FBbt_00004446>\n"
     ]
    },
    {
     "name": "stdout",
     "output_type": "stream",
     "text": [
      "Query URL: http://owl.virtualflybrain.org/kbs/vfb/superclasses?object=%3Chttp%3A%2F%2Fpurl.obolibrary.org%2Fobo%2FFBbt_00004446%3E&prefixes=%7B%22FBbt%22%3A+%22http%3A%2F%2Fpurl.obolibrary.org%2Fobo%2FFBbt_%22%2C+%22RO%22%3A+%22http%3A%2F%2Fpurl.obolibrary.org%2Fobo%2FRO_%22%2C+%22BFO%22%3A+%22http%3A%2F%2Fpurl.obolibrary.org%2Fobo%2FBFO_%22%7D&direct=True\n",
      "Running query: <http://purl.obolibrary.org/obo/FBbt_00004376>\n",
      "Query URL: http://owl.virtualflybrain.org/kbs/vfb/superclasses?object=%3Chttp%3A%2F%2Fpurl.obolibrary.org%2Fobo%2FFBbt_00004376%3E&prefixes=%7B%22FBbt%22%3A+%22http%3A%2F%2Fpurl.obolibrary.org%2Fobo%2FFBbt_%22%2C+%22RO%22%3A+%22http%3A%2F%2Fpurl.obolibrary.org%2Fobo%2FRO_%22%2C+%22BFO%22%3A+%22http%3A%2F%2Fpurl.obolibrary.org%2Fobo%2FBFO_%22%7D&direct=True\n",
      "Running query: <http://purl.obolibrary.org/obo/FBbt_00004289>\n",
      "Query URL: http://owl.virtualflybrain.org/kbs/vfb/superclasses?object=%3Chttp%3A%2F%2Fpurl.obolibrary.org%2Fobo%2FFBbt_00004289%3E&prefixes=%7B%22FBbt%22%3A+%22http%3A%2F%2Fpurl.obolibrary.org%2Fobo%2FFBbt_%22%2C+%22RO%22%3A+%22http%3A%2F%2Fpurl.obolibrary.org%2Fobo%2FRO_%22%2C+%22BFO%22%3A+%22http%3A%2F%2Fpurl.obolibrary.org%2Fobo%2FBFO_%22%7D&direct=True\n",
      "Running query: <http://purl.obolibrary.org/obo/FBbt_00048176>\n",
      "Query URL: http://owl.virtualflybrain.org/kbs/vfb/superclasses?object=%3Chttp%3A%2F%2Fpurl.obolibrary.org%2Fobo%2FFBbt_00048176%3E&prefixes=%7B%22FBbt%22%3A+%22http%3A%2F%2Fpurl.obolibrary.org%2Fobo%2FFBbt_%22%2C+%22RO%22%3A+%22http%3A%2F%2Fpurl.obolibrary.org%2Fobo%2FRO_%22%2C+%22BFO%22%3A+%22http%3A%2F%2Fpurl.obolibrary.org%2Fobo%2FBFO_%22%7D&direct=True\n",
      "Running query: <http://purl.obolibrary.org/obo/FBbt_00004392>\n",
      "Query URL: http://owl.virtualflybrain.org/kbs/vfb/superclasses?object=%3Chttp%3A%2F%2Fpurl.obolibrary.org%2Fobo%2FFBbt_00004392%3E&prefixes=%7B%22FBbt%22%3A+%22http%3A%2F%2Fpurl.obolibrary.org%2Fobo%2FFBbt_%22%2C+%22RO%22%3A+%22http%3A%2F%2Fpurl.obolibrary.org%2Fobo%2FRO_%22%2C+%22BFO%22%3A+%22http%3A%2F%2Fpurl.obolibrary.org%2Fobo%2FBFO_%22%7D&direct=True\n",
      "Running query: <http://purl.obolibrary.org/obo/FBbt_00004260>\n",
      "Query URL: http://owl.virtualflybrain.org/kbs/vfb/superclasses?object=%3Chttp%3A%2F%2Fpurl.obolibrary.org%2Fobo%2FFBbt_00004260%3E&prefixes=%7B%22FBbt%22%3A+%22http%3A%2F%2Fpurl.obolibrary.org%2Fobo%2FFBbt_%22%2C+%22RO%22%3A+%22http%3A%2F%2Fpurl.obolibrary.org%2Fobo%2FRO_%22%2C+%22BFO%22%3A+%22http%3A%2F%2Fpurl.obolibrary.org%2Fobo%2FBFO_%22%7D&direct=True\n",
      "Running query: <http://purl.obolibrary.org/obo/FBbt_00048200>\n",
      "Query URL: http://owl.virtualflybrain.org/kbs/vfb/superclasses?object=%3Chttp%3A%2F%2Fpurl.obolibrary.org%2Fobo%2FFBbt_00048200%3E&prefixes=%7B%22FBbt%22%3A+%22http%3A%2F%2Fpurl.obolibrary.org%2Fobo%2FFBbt_%22%2C+%22RO%22%3A+%22http%3A%2F%2Fpurl.obolibrary.org%2Fobo%2FRO_%22%2C+%22BFO%22%3A+%22http%3A%2F%2Fpurl.obolibrary.org%2Fobo%2FBFO_%22%7D&direct=True\n",
      "Running query: <http://purl.obolibrary.org/obo/FBbt_00004458>\n",
      "Query URL: http://owl.virtualflybrain.org/kbs/vfb/superclasses?object=%3Chttp%3A%2F%2Fpurl.obolibrary.org%2Fobo%2FFBbt_00004458%3E&prefixes=%7B%22FBbt%22%3A+%22http%3A%2F%2Fpurl.obolibrary.org%2Fobo%2FFBbt_%22%2C+%22RO%22%3A+%22http%3A%2F%2Fpurl.obolibrary.org%2Fobo%2FRO_%22%2C+%22BFO%22%3A+%22http%3A%2F%2Fpurl.obolibrary.org%2Fobo%2FBFO_%22%7D&direct=True\n",
      "Running query: <http://purl.obolibrary.org/obo/FBbt_00004444>\n",
      "Query URL: http://owl.virtualflybrain.org/kbs/vfb/superclasses?object=%3Chttp%3A%2F%2Fpurl.obolibrary.org%2Fobo%2FFBbt_00004444%3E&prefixes=%7B%22FBbt%22%3A+%22http%3A%2F%2Fpurl.obolibrary.org%2Fobo%2FFBbt_%22%2C+%22RO%22%3A+%22http%3A%2F%2Fpurl.obolibrary.org%2Fobo%2FRO_%22%2C+%22BFO%22%3A+%22http%3A%2F%2Fpurl.obolibrary.org%2Fobo%2FBFO_%22%7D&direct=True\n",
      "Running query: <http://purl.obolibrary.org/obo/FBbt_00004386>\n",
      "Query URL: http://owl.virtualflybrain.org/kbs/vfb/superclasses?object=%3Chttp%3A%2F%2Fpurl.obolibrary.org%2Fobo%2FFBbt_00004386%3E&prefixes=%7B%22FBbt%22%3A+%22http%3A%2F%2Fpurl.obolibrary.org%2Fobo%2FFBbt_%22%2C+%22RO%22%3A+%22http%3A%2F%2Fpurl.obolibrary.org%2Fobo%2FRO_%22%2C+%22BFO%22%3A+%22http%3A%2F%2Fpurl.obolibrary.org%2Fobo%2FBFO_%22%7D&direct=True\n",
      "Running query: <http://purl.obolibrary.org/obo/FBbt_00004261>\n",
      "Query URL: http://owl.virtualflybrain.org/kbs/vfb/superclasses?object=%3Chttp%3A%2F%2Fpurl.obolibrary.org%2Fobo%2FFBbt_00004261%3E&prefixes=%7B%22FBbt%22%3A+%22http%3A%2F%2Fpurl.obolibrary.org%2Fobo%2FFBbt_%22%2C+%22RO%22%3A+%22http%3A%2F%2Fpurl.obolibrary.org%2Fobo%2FRO_%22%2C+%22BFO%22%3A+%22http%3A%2F%2Fpurl.obolibrary.org%2Fobo%2FBFO_%22%7D&direct=True\n",
      "Running query: <http://purl.obolibrary.org/obo/FBbt_00004431>\n",
      "Query URL: http://owl.virtualflybrain.org/kbs/vfb/superclasses?object=%3Chttp%3A%2F%2Fpurl.obolibrary.org%2Fobo%2FFBbt_00004431%3E&prefixes=%7B%22FBbt%22%3A+%22http%3A%2F%2Fpurl.obolibrary.org%2Fobo%2FFBbt_%22%2C+%22RO%22%3A+%22http%3A%2F%2Fpurl.obolibrary.org%2Fobo%2FRO_%22%2C+%22BFO%22%3A+%22http%3A%2F%2Fpurl.obolibrary.org%2Fobo%2FBFO_%22%7D&direct=True\n",
      "Running query: <http://purl.obolibrary.org/obo/FBbt_00048166>\n",
      "Query URL: http://owl.virtualflybrain.org/kbs/vfb/superclasses?object=%3Chttp%3A%2F%2Fpurl.obolibrary.org%2Fobo%2FFBbt_00048166%3E&prefixes=%7B%22FBbt%22%3A+%22http%3A%2F%2Fpurl.obolibrary.org%2Fobo%2FFBbt_%22%2C+%22RO%22%3A+%22http%3A%2F%2Fpurl.obolibrary.org%2Fobo%2FRO_%22%2C+%22BFO%22%3A+%22http%3A%2F%2Fpurl.obolibrary.org%2Fobo%2FBFO_%22%7D&direct=True\n",
      "Running query: <http://purl.obolibrary.org/obo/FBbt_00004277>\n",
      "Query URL: http://owl.virtualflybrain.org/kbs/vfb/superclasses?object=%3Chttp%3A%2F%2Fpurl.obolibrary.org%2Fobo%2FFBbt_00004277%3E&prefixes=%7B%22FBbt%22%3A+%22http%3A%2F%2Fpurl.obolibrary.org%2Fobo%2FFBbt_%22%2C+%22RO%22%3A+%22http%3A%2F%2Fpurl.obolibrary.org%2Fobo%2FRO_%22%2C+%22BFO%22%3A+%22http%3A%2F%2Fpurl.obolibrary.org%2Fobo%2FBFO_%22%7D&direct=True\n",
      "Running query: <http://purl.obolibrary.org/obo/FBbt_00004425>\n",
      "Query URL: http://owl.virtualflybrain.org/kbs/vfb/superclasses?object=%3Chttp%3A%2F%2Fpurl.obolibrary.org%2Fobo%2FFBbt_00004425%3E&prefixes=%7B%22FBbt%22%3A+%22http%3A%2F%2Fpurl.obolibrary.org%2Fobo%2FFBbt_%22%2C+%22RO%22%3A+%22http%3A%2F%2Fpurl.obolibrary.org%2Fobo%2FRO_%22%2C+%22BFO%22%3A+%22http%3A%2F%2Fpurl.obolibrary.org%2Fobo%2FBFO_%22%7D&direct=True\n",
      "Running query: <http://purl.obolibrary.org/obo/FBbt_00004448>\n",
      "Query URL: http://owl.virtualflybrain.org/kbs/vfb/superclasses?object=%3Chttp%3A%2F%2Fpurl.obolibrary.org%2Fobo%2FFBbt_00004448%3E&prefixes=%7B%22FBbt%22%3A+%22http%3A%2F%2Fpurl.obolibrary.org%2Fobo%2FFBbt_%22%2C+%22RO%22%3A+%22http%3A%2F%2Fpurl.obolibrary.org%2Fobo%2FRO_%22%2C+%22BFO%22%3A+%22http%3A%2F%2Fpurl.obolibrary.org%2Fobo%2FBFO_%22%7D&direct=True\n",
      "Running query: <http://purl.obolibrary.org/obo/FBbt_00048185>\n",
      "Query URL: http://owl.virtualflybrain.org/kbs/vfb/superclasses?object=%3Chttp%3A%2F%2Fpurl.obolibrary.org%2Fobo%2FFBbt_00048185%3E&prefixes=%7B%22FBbt%22%3A+%22http%3A%2F%2Fpurl.obolibrary.org%2Fobo%2FFBbt_%22%2C+%22RO%22%3A+%22http%3A%2F%2Fpurl.obolibrary.org%2Fobo%2FRO_%22%2C+%22BFO%22%3A+%22http%3A%2F%2Fpurl.obolibrary.org%2Fobo%2FBFO_%22%7D&direct=True\n",
      "Running query: <http://purl.obolibrary.org/obo/FBbt_00004364>\n",
      "Query URL: http://owl.virtualflybrain.org/kbs/vfb/superclasses?object=%3Chttp%3A%2F%2Fpurl.obolibrary.org%2Fobo%2FFBbt_00004364%3E&prefixes=%7B%22FBbt%22%3A+%22http%3A%2F%2Fpurl.obolibrary.org%2Fobo%2FFBbt_%22%2C+%22RO%22%3A+%22http%3A%2F%2Fpurl.obolibrary.org%2Fobo%2FRO_%22%2C+%22BFO%22%3A+%22http%3A%2F%2Fpurl.obolibrary.org%2Fobo%2FBFO_%22%7D&direct=True\n",
      "Running query: <http://purl.obolibrary.org/obo/FBbt_00048190>\n",
      "Query URL: http://owl.virtualflybrain.org/kbs/vfb/superclasses?object=%3Chttp%3A%2F%2Fpurl.obolibrary.org%2Fobo%2FFBbt_00048190%3E&prefixes=%7B%22FBbt%22%3A+%22http%3A%2F%2Fpurl.obolibrary.org%2Fobo%2FFBbt_%22%2C+%22RO%22%3A+%22http%3A%2F%2Fpurl.obolibrary.org%2Fobo%2FRO_%22%2C+%22BFO%22%3A+%22http%3A%2F%2Fpurl.obolibrary.org%2Fobo%2FBFO_%22%7D&direct=True\n",
      "Running query: <http://purl.obolibrary.org/obo/FBbt_00004276>\n",
      "Query URL: http://owl.virtualflybrain.org/kbs/vfb/superclasses?object=%3Chttp%3A%2F%2Fpurl.obolibrary.org%2Fobo%2FFBbt_00004276%3E&prefixes=%7B%22FBbt%22%3A+%22http%3A%2F%2Fpurl.obolibrary.org%2Fobo%2FFBbt_%22%2C+%22RO%22%3A+%22http%3A%2F%2Fpurl.obolibrary.org%2Fobo%2FRO_%22%2C+%22BFO%22%3A+%22http%3A%2F%2Fpurl.obolibrary.org%2Fobo%2FBFO_%22%7D&direct=True\n",
      "Running query: <http://purl.obolibrary.org/obo/FBbt_00004368>\n"
     ]
    },
    {
     "name": "stdout",
     "output_type": "stream",
     "text": [
      "Query URL: http://owl.virtualflybrain.org/kbs/vfb/superclasses?object=%3Chttp%3A%2F%2Fpurl.obolibrary.org%2Fobo%2FFBbt_00004368%3E&prefixes=%7B%22FBbt%22%3A+%22http%3A%2F%2Fpurl.obolibrary.org%2Fobo%2FFBbt_%22%2C+%22RO%22%3A+%22http%3A%2F%2Fpurl.obolibrary.org%2Fobo%2FRO_%22%2C+%22BFO%22%3A+%22http%3A%2F%2Fpurl.obolibrary.org%2Fobo%2FBFO_%22%7D&direct=True\n",
      "Running query: <http://purl.obolibrary.org/obo/FBbt_00004397>\n",
      "Query URL: http://owl.virtualflybrain.org/kbs/vfb/superclasses?object=%3Chttp%3A%2F%2Fpurl.obolibrary.org%2Fobo%2FFBbt_00004397%3E&prefixes=%7B%22FBbt%22%3A+%22http%3A%2F%2Fpurl.obolibrary.org%2Fobo%2FFBbt_%22%2C+%22RO%22%3A+%22http%3A%2F%2Fpurl.obolibrary.org%2Fobo%2FRO_%22%2C+%22BFO%22%3A+%22http%3A%2F%2Fpurl.obolibrary.org%2Fobo%2FBFO_%22%7D&direct=True\n",
      "Running query: <http://purl.obolibrary.org/obo/FBbt_00004266>\n",
      "Query URL: http://owl.virtualflybrain.org/kbs/vfb/superclasses?object=%3Chttp%3A%2F%2Fpurl.obolibrary.org%2Fobo%2FFBbt_00004266%3E&prefixes=%7B%22FBbt%22%3A+%22http%3A%2F%2Fpurl.obolibrary.org%2Fobo%2FFBbt_%22%2C+%22RO%22%3A+%22http%3A%2F%2Fpurl.obolibrary.org%2Fobo%2FRO_%22%2C+%22BFO%22%3A+%22http%3A%2F%2Fpurl.obolibrary.org%2Fobo%2FBFO_%22%7D&direct=True\n",
      "Running query: <http://purl.obolibrary.org/obo/FBbt_00004405>\n",
      "Query URL: http://owl.virtualflybrain.org/kbs/vfb/superclasses?object=%3Chttp%3A%2F%2Fpurl.obolibrary.org%2Fobo%2FFBbt_00004405%3E&prefixes=%7B%22FBbt%22%3A+%22http%3A%2F%2Fpurl.obolibrary.org%2Fobo%2FFBbt_%22%2C+%22RO%22%3A+%22http%3A%2F%2Fpurl.obolibrary.org%2Fobo%2FRO_%22%2C+%22BFO%22%3A+%22http%3A%2F%2Fpurl.obolibrary.org%2Fobo%2FBFO_%22%7D&direct=True\n",
      "Running query: <http://purl.obolibrary.org/obo/FBbt_00004275>\n",
      "Query URL: http://owl.virtualflybrain.org/kbs/vfb/superclasses?object=%3Chttp%3A%2F%2Fpurl.obolibrary.org%2Fobo%2FFBbt_00004275%3E&prefixes=%7B%22FBbt%22%3A+%22http%3A%2F%2Fpurl.obolibrary.org%2Fobo%2FFBbt_%22%2C+%22RO%22%3A+%22http%3A%2F%2Fpurl.obolibrary.org%2Fobo%2FRO_%22%2C+%22BFO%22%3A+%22http%3A%2F%2Fpurl.obolibrary.org%2Fobo%2FBFO_%22%7D&direct=True\n",
      "Running query: <http://purl.obolibrary.org/obo/FBbt_00048167>\n",
      "Query URL: http://owl.virtualflybrain.org/kbs/vfb/superclasses?object=%3Chttp%3A%2F%2Fpurl.obolibrary.org%2Fobo%2FFBbt_00048167%3E&prefixes=%7B%22FBbt%22%3A+%22http%3A%2F%2Fpurl.obolibrary.org%2Fobo%2FFBbt_%22%2C+%22RO%22%3A+%22http%3A%2F%2Fpurl.obolibrary.org%2Fobo%2FRO_%22%2C+%22BFO%22%3A+%22http%3A%2F%2Fpurl.obolibrary.org%2Fobo%2FBFO_%22%7D&direct=True\n",
      "Running query: <http://purl.obolibrary.org/obo/FBbt_00048173>\n",
      "Query URL: http://owl.virtualflybrain.org/kbs/vfb/superclasses?object=%3Chttp%3A%2F%2Fpurl.obolibrary.org%2Fobo%2FFBbt_00048173%3E&prefixes=%7B%22FBbt%22%3A+%22http%3A%2F%2Fpurl.obolibrary.org%2Fobo%2FFBbt_%22%2C+%22RO%22%3A+%22http%3A%2F%2Fpurl.obolibrary.org%2Fobo%2FRO_%22%2C+%22BFO%22%3A+%22http%3A%2F%2Fpurl.obolibrary.org%2Fobo%2FBFO_%22%7D&direct=True\n",
      "Running query: <http://purl.obolibrary.org/obo/FBbt_00048182>\n",
      "Query URL: http://owl.virtualflybrain.org/kbs/vfb/superclasses?object=%3Chttp%3A%2F%2Fpurl.obolibrary.org%2Fobo%2FFBbt_00048182%3E&prefixes=%7B%22FBbt%22%3A+%22http%3A%2F%2Fpurl.obolibrary.org%2Fobo%2FFBbt_%22%2C+%22RO%22%3A+%22http%3A%2F%2Fpurl.obolibrary.org%2Fobo%2FRO_%22%2C+%22BFO%22%3A+%22http%3A%2F%2Fpurl.obolibrary.org%2Fobo%2FBFO_%22%7D&direct=True\n",
      "Running query: <http://purl.obolibrary.org/obo/FBbt_00048169>\n",
      "Query URL: http://owl.virtualflybrain.org/kbs/vfb/superclasses?object=%3Chttp%3A%2F%2Fpurl.obolibrary.org%2Fobo%2FFBbt_00048169%3E&prefixes=%7B%22FBbt%22%3A+%22http%3A%2F%2Fpurl.obolibrary.org%2Fobo%2FFBbt_%22%2C+%22RO%22%3A+%22http%3A%2F%2Fpurl.obolibrary.org%2Fobo%2FRO_%22%2C+%22BFO%22%3A+%22http%3A%2F%2Fpurl.obolibrary.org%2Fobo%2FBFO_%22%7D&direct=True\n",
      "Running query: <http://purl.obolibrary.org/obo/FBbt_00048203>\n",
      "Query URL: http://owl.virtualflybrain.org/kbs/vfb/superclasses?object=%3Chttp%3A%2F%2Fpurl.obolibrary.org%2Fobo%2FFBbt_00048203%3E&prefixes=%7B%22FBbt%22%3A+%22http%3A%2F%2Fpurl.obolibrary.org%2Fobo%2FFBbt_%22%2C+%22RO%22%3A+%22http%3A%2F%2Fpurl.obolibrary.org%2Fobo%2FRO_%22%2C+%22BFO%22%3A+%22http%3A%2F%2Fpurl.obolibrary.org%2Fobo%2FBFO_%22%7D&direct=True\n",
      "Running query: <http://purl.obolibrary.org/obo/FBbt_00004369>\n",
      "Query URL: http://owl.virtualflybrain.org/kbs/vfb/superclasses?object=%3Chttp%3A%2F%2Fpurl.obolibrary.org%2Fobo%2FFBbt_00004369%3E&prefixes=%7B%22FBbt%22%3A+%22http%3A%2F%2Fpurl.obolibrary.org%2Fobo%2FFBbt_%22%2C+%22RO%22%3A+%22http%3A%2F%2Fpurl.obolibrary.org%2Fobo%2FRO_%22%2C+%22BFO%22%3A+%22http%3A%2F%2Fpurl.obolibrary.org%2Fobo%2FBFO_%22%7D&direct=True\n",
      "Running query: <http://purl.obolibrary.org/obo/FBbt_00004403>\n",
      "Query URL: http://owl.virtualflybrain.org/kbs/vfb/superclasses?object=%3Chttp%3A%2F%2Fpurl.obolibrary.org%2Fobo%2FFBbt_00004403%3E&prefixes=%7B%22FBbt%22%3A+%22http%3A%2F%2Fpurl.obolibrary.org%2Fobo%2FFBbt_%22%2C+%22RO%22%3A+%22http%3A%2F%2Fpurl.obolibrary.org%2Fobo%2FRO_%22%2C+%22BFO%22%3A+%22http%3A%2F%2Fpurl.obolibrary.org%2Fobo%2FBFO_%22%7D&direct=True\n",
      "Running query: <http://purl.obolibrary.org/obo/FBbt_00004288>\n",
      "Query URL: http://owl.virtualflybrain.org/kbs/vfb/superclasses?object=%3Chttp%3A%2F%2Fpurl.obolibrary.org%2Fobo%2FFBbt_00004288%3E&prefixes=%7B%22FBbt%22%3A+%22http%3A%2F%2Fpurl.obolibrary.org%2Fobo%2FFBbt_%22%2C+%22RO%22%3A+%22http%3A%2F%2Fpurl.obolibrary.org%2Fobo%2FRO_%22%2C+%22BFO%22%3A+%22http%3A%2F%2Fpurl.obolibrary.org%2Fobo%2FBFO_%22%7D&direct=True\n",
      "Running query: <http://purl.obolibrary.org/obo/FBbt_00004281>\n",
      "Query URL: http://owl.virtualflybrain.org/kbs/vfb/superclasses?object=%3Chttp%3A%2F%2Fpurl.obolibrary.org%2Fobo%2FFBbt_00004281%3E&prefixes=%7B%22FBbt%22%3A+%22http%3A%2F%2Fpurl.obolibrary.org%2Fobo%2FFBbt_%22%2C+%22RO%22%3A+%22http%3A%2F%2Fpurl.obolibrary.org%2Fobo%2FRO_%22%2C+%22BFO%22%3A+%22http%3A%2F%2Fpurl.obolibrary.org%2Fobo%2FBFO_%22%7D&direct=True\n",
      "Running query: <http://purl.obolibrary.org/obo/FBbt_00004374>\n",
      "Query URL: http://owl.virtualflybrain.org/kbs/vfb/superclasses?object=%3Chttp%3A%2F%2Fpurl.obolibrary.org%2Fobo%2FFBbt_00004374%3E&prefixes=%7B%22FBbt%22%3A+%22http%3A%2F%2Fpurl.obolibrary.org%2Fobo%2FFBbt_%22%2C+%22RO%22%3A+%22http%3A%2F%2Fpurl.obolibrary.org%2Fobo%2FRO_%22%2C+%22BFO%22%3A+%22http%3A%2F%2Fpurl.obolibrary.org%2Fobo%2FBFO_%22%7D&direct=True\n",
      "Running query: <http://purl.obolibrary.org/obo/FBbt_00048197>\n",
      "Query URL: http://owl.virtualflybrain.org/kbs/vfb/superclasses?object=%3Chttp%3A%2F%2Fpurl.obolibrary.org%2Fobo%2FFBbt_00048197%3E&prefixes=%7B%22FBbt%22%3A+%22http%3A%2F%2Fpurl.obolibrary.org%2Fobo%2FFBbt_%22%2C+%22RO%22%3A+%22http%3A%2F%2Fpurl.obolibrary.org%2Fobo%2FRO_%22%2C+%22BFO%22%3A+%22http%3A%2F%2Fpurl.obolibrary.org%2Fobo%2FBFO_%22%7D&direct=True\n",
      "Running query: <http://purl.obolibrary.org/obo/FBbt_00004401>\n",
      "Query URL: http://owl.virtualflybrain.org/kbs/vfb/superclasses?object=%3Chttp%3A%2F%2Fpurl.obolibrary.org%2Fobo%2FFBbt_00004401%3E&prefixes=%7B%22FBbt%22%3A+%22http%3A%2F%2Fpurl.obolibrary.org%2Fobo%2FFBbt_%22%2C+%22RO%22%3A+%22http%3A%2F%2Fpurl.obolibrary.org%2Fobo%2FRO_%22%2C+%22BFO%22%3A+%22http%3A%2F%2Fpurl.obolibrary.org%2Fobo%2FBFO_%22%7D&direct=True\n",
      "Running query: <http://purl.obolibrary.org/obo/FBbt_00048186>\n",
      "Query URL: http://owl.virtualflybrain.org/kbs/vfb/superclasses?object=%3Chttp%3A%2F%2Fpurl.obolibrary.org%2Fobo%2FFBbt_00048186%3E&prefixes=%7B%22FBbt%22%3A+%22http%3A%2F%2Fpurl.obolibrary.org%2Fobo%2FFBbt_%22%2C+%22RO%22%3A+%22http%3A%2F%2Fpurl.obolibrary.org%2Fobo%2FRO_%22%2C+%22BFO%22%3A+%22http%3A%2F%2Fpurl.obolibrary.org%2Fobo%2FBFO_%22%7D&direct=True\n",
      "Running query: <http://purl.obolibrary.org/obo/FBbt_00100297>\n",
      "Query URL: http://owl.virtualflybrain.org/kbs/vfb/superclasses?object=%3Chttp%3A%2F%2Fpurl.obolibrary.org%2Fobo%2FFBbt_00100297%3E&prefixes=%7B%22FBbt%22%3A+%22http%3A%2F%2Fpurl.obolibrary.org%2Fobo%2FFBbt_%22%2C+%22RO%22%3A+%22http%3A%2F%2Fpurl.obolibrary.org%2Fobo%2FRO_%22%2C+%22BFO%22%3A+%22http%3A%2F%2Fpurl.obolibrary.org%2Fobo%2FBFO_%22%7D&direct=True\n",
      "Running query: <http://purl.obolibrary.org/obo/FBbt_00004433>\n",
      "Query URL: http://owl.virtualflybrain.org/kbs/vfb/superclasses?object=%3Chttp%3A%2F%2Fpurl.obolibrary.org%2Fobo%2FFBbt_00004433%3E&prefixes=%7B%22FBbt%22%3A+%22http%3A%2F%2Fpurl.obolibrary.org%2Fobo%2FFBbt_%22%2C+%22RO%22%3A+%22http%3A%2F%2Fpurl.obolibrary.org%2Fobo%2FRO_%22%2C+%22BFO%22%3A+%22http%3A%2F%2Fpurl.obolibrary.org%2Fobo%2FBFO_%22%7D&direct=True\n",
      "Running query: <http://purl.obolibrary.org/obo/FBbt_00004429>\n"
     ]
    },
    {
     "name": "stdout",
     "output_type": "stream",
     "text": [
      "Query URL: http://owl.virtualflybrain.org/kbs/vfb/superclasses?object=%3Chttp%3A%2F%2Fpurl.obolibrary.org%2Fobo%2FFBbt_00004429%3E&prefixes=%7B%22FBbt%22%3A+%22http%3A%2F%2Fpurl.obolibrary.org%2Fobo%2FFBbt_%22%2C+%22RO%22%3A+%22http%3A%2F%2Fpurl.obolibrary.org%2Fobo%2FRO_%22%2C+%22BFO%22%3A+%22http%3A%2F%2Fpurl.obolibrary.org%2Fobo%2FBFO_%22%7D&direct=True\n",
      "Running query: <http://purl.obolibrary.org/obo/FBbt_00110771>\n",
      "Query URL: http://owl.virtualflybrain.org/kbs/vfb/superclasses?object=%3Chttp%3A%2F%2Fpurl.obolibrary.org%2Fobo%2FFBbt_00110771%3E&prefixes=%7B%22FBbt%22%3A+%22http%3A%2F%2Fpurl.obolibrary.org%2Fobo%2FFBbt_%22%2C+%22RO%22%3A+%22http%3A%2F%2Fpurl.obolibrary.org%2Fobo%2FRO_%22%2C+%22BFO%22%3A+%22http%3A%2F%2Fpurl.obolibrary.org%2Fobo%2FBFO_%22%7D&direct=True\n",
      "Running query: <http://purl.obolibrary.org/obo/FBbt_00004286>\n",
      "Query URL: http://owl.virtualflybrain.org/kbs/vfb/superclasses?object=%3Chttp%3A%2F%2Fpurl.obolibrary.org%2Fobo%2FFBbt_00004286%3E&prefixes=%7B%22FBbt%22%3A+%22http%3A%2F%2Fpurl.obolibrary.org%2Fobo%2FFBbt_%22%2C+%22RO%22%3A+%22http%3A%2F%2Fpurl.obolibrary.org%2Fobo%2FRO_%22%2C+%22BFO%22%3A+%22http%3A%2F%2Fpurl.obolibrary.org%2Fobo%2FBFO_%22%7D&direct=True\n",
      "Running query: <http://purl.obolibrary.org/obo/FBbt_00004452>\n",
      "Query URL: http://owl.virtualflybrain.org/kbs/vfb/superclasses?object=%3Chttp%3A%2F%2Fpurl.obolibrary.org%2Fobo%2FFBbt_00004452%3E&prefixes=%7B%22FBbt%22%3A+%22http%3A%2F%2Fpurl.obolibrary.org%2Fobo%2FFBbt_%22%2C+%22RO%22%3A+%22http%3A%2F%2Fpurl.obolibrary.org%2Fobo%2FRO_%22%2C+%22BFO%22%3A+%22http%3A%2F%2Fpurl.obolibrary.org%2Fobo%2FBFO_%22%7D&direct=True\n",
      "Running query: <http://purl.obolibrary.org/obo/FBbt_00004443>\n",
      "Query URL: http://owl.virtualflybrain.org/kbs/vfb/superclasses?object=%3Chttp%3A%2F%2Fpurl.obolibrary.org%2Fobo%2FFBbt_00004443%3E&prefixes=%7B%22FBbt%22%3A+%22http%3A%2F%2Fpurl.obolibrary.org%2Fobo%2FFBbt_%22%2C+%22RO%22%3A+%22http%3A%2F%2Fpurl.obolibrary.org%2Fobo%2FRO_%22%2C+%22BFO%22%3A+%22http%3A%2F%2Fpurl.obolibrary.org%2Fobo%2FBFO_%22%7D&direct=True\n",
      "Running query: <http://purl.obolibrary.org/obo/FBbt_01004450>\n",
      "Query URL: http://owl.virtualflybrain.org/kbs/vfb/superclasses?object=%3Chttp%3A%2F%2Fpurl.obolibrary.org%2Fobo%2FFBbt_01004450%3E&prefixes=%7B%22FBbt%22%3A+%22http%3A%2F%2Fpurl.obolibrary.org%2Fobo%2FFBbt_%22%2C+%22RO%22%3A+%22http%3A%2F%2Fpurl.obolibrary.org%2Fobo%2FRO_%22%2C+%22BFO%22%3A+%22http%3A%2F%2Fpurl.obolibrary.org%2Fobo%2FBFO_%22%7D&direct=True\n",
      "Running query: <http://purl.obolibrary.org/obo/FBbt_00004432>\n",
      "Query URL: http://owl.virtualflybrain.org/kbs/vfb/superclasses?object=%3Chttp%3A%2F%2Fpurl.obolibrary.org%2Fobo%2FFBbt_00004432%3E&prefixes=%7B%22FBbt%22%3A+%22http%3A%2F%2Fpurl.obolibrary.org%2Fobo%2FFBbt_%22%2C+%22RO%22%3A+%22http%3A%2F%2Fpurl.obolibrary.org%2Fobo%2FRO_%22%2C+%22BFO%22%3A+%22http%3A%2F%2Fpurl.obolibrary.org%2Fobo%2FBFO_%22%7D&direct=True\n",
      "Running query: <http://purl.obolibrary.org/obo/FBbt_00004290>\n",
      "Query URL: http://owl.virtualflybrain.org/kbs/vfb/superclasses?object=%3Chttp%3A%2F%2Fpurl.obolibrary.org%2Fobo%2FFBbt_00004290%3E&prefixes=%7B%22FBbt%22%3A+%22http%3A%2F%2Fpurl.obolibrary.org%2Fobo%2FFBbt_%22%2C+%22RO%22%3A+%22http%3A%2F%2Fpurl.obolibrary.org%2Fobo%2FRO_%22%2C+%22BFO%22%3A+%22http%3A%2F%2Fpurl.obolibrary.org%2Fobo%2FBFO_%22%7D&direct=True\n",
      "Running query: <http://purl.obolibrary.org/obo/FBbt_00110810>\n",
      "Query URL: http://owl.virtualflybrain.org/kbs/vfb/superclasses?object=%3Chttp%3A%2F%2Fpurl.obolibrary.org%2Fobo%2FFBbt_00110810%3E&prefixes=%7B%22FBbt%22%3A+%22http%3A%2F%2Fpurl.obolibrary.org%2Fobo%2FFBbt_%22%2C+%22RO%22%3A+%22http%3A%2F%2Fpurl.obolibrary.org%2Fobo%2FRO_%22%2C+%22BFO%22%3A+%22http%3A%2F%2Fpurl.obolibrary.org%2Fobo%2FBFO_%22%7D&direct=True\n",
      "Running query: <http://purl.obolibrary.org/obo/FBbt_00048188>\n",
      "Query URL: http://owl.virtualflybrain.org/kbs/vfb/superclasses?object=%3Chttp%3A%2F%2Fpurl.obolibrary.org%2Fobo%2FFBbt_00048188%3E&prefixes=%7B%22FBbt%22%3A+%22http%3A%2F%2Fpurl.obolibrary.org%2Fobo%2FFBbt_%22%2C+%22RO%22%3A+%22http%3A%2F%2Fpurl.obolibrary.org%2Fobo%2FRO_%22%2C+%22BFO%22%3A+%22http%3A%2F%2Fpurl.obolibrary.org%2Fobo%2FBFO_%22%7D&direct=True\n",
      "Running query: <http://purl.obolibrary.org/obo/FBbt_00004430>\n",
      "Query URL: http://owl.virtualflybrain.org/kbs/vfb/superclasses?object=%3Chttp%3A%2F%2Fpurl.obolibrary.org%2Fobo%2FFBbt_00004430%3E&prefixes=%7B%22FBbt%22%3A+%22http%3A%2F%2Fpurl.obolibrary.org%2Fobo%2FFBbt_%22%2C+%22RO%22%3A+%22http%3A%2F%2Fpurl.obolibrary.org%2Fobo%2FRO_%22%2C+%22BFO%22%3A+%22http%3A%2F%2Fpurl.obolibrary.org%2Fobo%2FBFO_%22%7D&direct=True\n",
      "Running query: <http://purl.obolibrary.org/obo/FBbt_00004455>\n",
      "Query URL: http://owl.virtualflybrain.org/kbs/vfb/superclasses?object=%3Chttp%3A%2F%2Fpurl.obolibrary.org%2Fobo%2FFBbt_00004455%3E&prefixes=%7B%22FBbt%22%3A+%22http%3A%2F%2Fpurl.obolibrary.org%2Fobo%2FFBbt_%22%2C+%22RO%22%3A+%22http%3A%2F%2Fpurl.obolibrary.org%2Fobo%2FRO_%22%2C+%22BFO%22%3A+%22http%3A%2F%2Fpurl.obolibrary.org%2Fobo%2FBFO_%22%7D&direct=True\n",
      "Running query: <http://purl.obolibrary.org/obo/FBbt_00004256>\n",
      "Query URL: http://owl.virtualflybrain.org/kbs/vfb/superclasses?object=%3Chttp%3A%2F%2Fpurl.obolibrary.org%2Fobo%2FFBbt_00004256%3E&prefixes=%7B%22FBbt%22%3A+%22http%3A%2F%2Fpurl.obolibrary.org%2Fobo%2FFBbt_%22%2C+%22RO%22%3A+%22http%3A%2F%2Fpurl.obolibrary.org%2Fobo%2FRO_%22%2C+%22BFO%22%3A+%22http%3A%2F%2Fpurl.obolibrary.org%2Fobo%2FBFO_%22%7D&direct=True\n",
      "Running query: <http://purl.obolibrary.org/obo/FBbt_00004282>\n",
      "Query URL: http://owl.virtualflybrain.org/kbs/vfb/superclasses?object=%3Chttp%3A%2F%2Fpurl.obolibrary.org%2Fobo%2FFBbt_00004282%3E&prefixes=%7B%22FBbt%22%3A+%22http%3A%2F%2Fpurl.obolibrary.org%2Fobo%2FFBbt_%22%2C+%22RO%22%3A+%22http%3A%2F%2Fpurl.obolibrary.org%2Fobo%2FRO_%22%2C+%22BFO%22%3A+%22http%3A%2F%2Fpurl.obolibrary.org%2Fobo%2FBFO_%22%7D&direct=True\n",
      "Running query: <http://purl.obolibrary.org/obo/FBbt_00048204>\n",
      "Query URL: http://owl.virtualflybrain.org/kbs/vfb/superclasses?object=%3Chttp%3A%2F%2Fpurl.obolibrary.org%2Fobo%2FFBbt_00048204%3E&prefixes=%7B%22FBbt%22%3A+%22http%3A%2F%2Fpurl.obolibrary.org%2Fobo%2FFBbt_%22%2C+%22RO%22%3A+%22http%3A%2F%2Fpurl.obolibrary.org%2Fobo%2FRO_%22%2C+%22BFO%22%3A+%22http%3A%2F%2Fpurl.obolibrary.org%2Fobo%2FBFO_%22%7D&direct=True\n",
      "Running query: <http://purl.obolibrary.org/obo/FBbt_00004262>\n",
      "Query URL: http://owl.virtualflybrain.org/kbs/vfb/superclasses?object=%3Chttp%3A%2F%2Fpurl.obolibrary.org%2Fobo%2FFBbt_00004262%3E&prefixes=%7B%22FBbt%22%3A+%22http%3A%2F%2Fpurl.obolibrary.org%2Fobo%2FFBbt_%22%2C+%22RO%22%3A+%22http%3A%2F%2Fpurl.obolibrary.org%2Fobo%2FRO_%22%2C+%22BFO%22%3A+%22http%3A%2F%2Fpurl.obolibrary.org%2Fobo%2FBFO_%22%7D&direct=True\n",
      "Running query: <http://purl.obolibrary.org/obo/FBbt_00048196>\n",
      "Query URL: http://owl.virtualflybrain.org/kbs/vfb/superclasses?object=%3Chttp%3A%2F%2Fpurl.obolibrary.org%2Fobo%2FFBbt_00048196%3E&prefixes=%7B%22FBbt%22%3A+%22http%3A%2F%2Fpurl.obolibrary.org%2Fobo%2FFBbt_%22%2C+%22RO%22%3A+%22http%3A%2F%2Fpurl.obolibrary.org%2Fobo%2FRO_%22%2C+%22BFO%22%3A+%22http%3A%2F%2Fpurl.obolibrary.org%2Fobo%2FBFO_%22%7D&direct=True\n",
      "Running query: <http://purl.obolibrary.org/obo/FBbt_00004398>\n",
      "Query URL: http://owl.virtualflybrain.org/kbs/vfb/superclasses?object=%3Chttp%3A%2F%2Fpurl.obolibrary.org%2Fobo%2FFBbt_00004398%3E&prefixes=%7B%22FBbt%22%3A+%22http%3A%2F%2Fpurl.obolibrary.org%2Fobo%2FFBbt_%22%2C+%22RO%22%3A+%22http%3A%2F%2Fpurl.obolibrary.org%2Fobo%2FRO_%22%2C+%22BFO%22%3A+%22http%3A%2F%2Fpurl.obolibrary.org%2Fobo%2FBFO_%22%7D&direct=True\n",
      "Running query: <http://purl.obolibrary.org/obo/FBbt_00048180>\n",
      "Query URL: http://owl.virtualflybrain.org/kbs/vfb/superclasses?object=%3Chttp%3A%2F%2Fpurl.obolibrary.org%2Fobo%2FFBbt_00048180%3E&prefixes=%7B%22FBbt%22%3A+%22http%3A%2F%2Fpurl.obolibrary.org%2Fobo%2FFBbt_%22%2C+%22RO%22%3A+%22http%3A%2F%2Fpurl.obolibrary.org%2Fobo%2FRO_%22%2C+%22BFO%22%3A+%22http%3A%2F%2Fpurl.obolibrary.org%2Fobo%2FBFO_%22%7D&direct=True\n",
      "Running query: <http://purl.obolibrary.org/obo/FBbt_00004294>\n",
      "Query URL: http://owl.virtualflybrain.org/kbs/vfb/superclasses?object=%3Chttp%3A%2F%2Fpurl.obolibrary.org%2Fobo%2FFBbt_00004294%3E&prefixes=%7B%22FBbt%22%3A+%22http%3A%2F%2Fpurl.obolibrary.org%2Fobo%2FFBbt_%22%2C+%22RO%22%3A+%22http%3A%2F%2Fpurl.obolibrary.org%2Fobo%2FRO_%22%2C+%22BFO%22%3A+%22http%3A%2F%2Fpurl.obolibrary.org%2Fobo%2FBFO_%22%7D&direct=True\n",
      "Running query: <http://purl.obolibrary.org/obo/FBbt_00004287>\n"
     ]
    },
    {
     "name": "stdout",
     "output_type": "stream",
     "text": [
      "Query URL: http://owl.virtualflybrain.org/kbs/vfb/superclasses?object=%3Chttp%3A%2F%2Fpurl.obolibrary.org%2Fobo%2FFBbt_00004287%3E&prefixes=%7B%22FBbt%22%3A+%22http%3A%2F%2Fpurl.obolibrary.org%2Fobo%2FFBbt_%22%2C+%22RO%22%3A+%22http%3A%2F%2Fpurl.obolibrary.org%2Fobo%2FRO_%22%2C+%22BFO%22%3A+%22http%3A%2F%2Fpurl.obolibrary.org%2Fobo%2FBFO_%22%7D&direct=True\n",
      "Running query: <http://purl.obolibrary.org/obo/FBbt_00004280>\n",
      "Query URL: http://owl.virtualflybrain.org/kbs/vfb/superclasses?object=%3Chttp%3A%2F%2Fpurl.obolibrary.org%2Fobo%2FFBbt_00004280%3E&prefixes=%7B%22FBbt%22%3A+%22http%3A%2F%2Fpurl.obolibrary.org%2Fobo%2FFBbt_%22%2C+%22RO%22%3A+%22http%3A%2F%2Fpurl.obolibrary.org%2Fobo%2FRO_%22%2C+%22BFO%22%3A+%22http%3A%2F%2Fpurl.obolibrary.org%2Fobo%2FBFO_%22%7D&direct=True\n",
      "Running query: <http://purl.obolibrary.org/obo/FBbt_00004428>\n",
      "Query URL: http://owl.virtualflybrain.org/kbs/vfb/superclasses?object=%3Chttp%3A%2F%2Fpurl.obolibrary.org%2Fobo%2FFBbt_00004428%3E&prefixes=%7B%22FBbt%22%3A+%22http%3A%2F%2Fpurl.obolibrary.org%2Fobo%2FFBbt_%22%2C+%22RO%22%3A+%22http%3A%2F%2Fpurl.obolibrary.org%2Fobo%2FRO_%22%2C+%22BFO%22%3A+%22http%3A%2F%2Fpurl.obolibrary.org%2Fobo%2FBFO_%22%7D&direct=True\n",
      "Running query: <http://purl.obolibrary.org/obo/FBbt_00004362>\n",
      "Query URL: http://owl.virtualflybrain.org/kbs/vfb/superclasses?object=%3Chttp%3A%2F%2Fpurl.obolibrary.org%2Fobo%2FFBbt_00004362%3E&prefixes=%7B%22FBbt%22%3A+%22http%3A%2F%2Fpurl.obolibrary.org%2Fobo%2FFBbt_%22%2C+%22RO%22%3A+%22http%3A%2F%2Fpurl.obolibrary.org%2Fobo%2FRO_%22%2C+%22BFO%22%3A+%22http%3A%2F%2Fpurl.obolibrary.org%2Fobo%2FBFO_%22%7D&direct=True\n",
      "Running query: <http://purl.obolibrary.org/obo/FBbt_00048172>\n",
      "Query URL: http://owl.virtualflybrain.org/kbs/vfb/superclasses?object=%3Chttp%3A%2F%2Fpurl.obolibrary.org%2Fobo%2FFBbt_00048172%3E&prefixes=%7B%22FBbt%22%3A+%22http%3A%2F%2Fpurl.obolibrary.org%2Fobo%2FFBbt_%22%2C+%22RO%22%3A+%22http%3A%2F%2Fpurl.obolibrary.org%2Fobo%2FRO_%22%2C+%22BFO%22%3A+%22http%3A%2F%2Fpurl.obolibrary.org%2Fobo%2FBFO_%22%7D&direct=True\n",
      "Running query: <http://purl.obolibrary.org/obo/FBbt_00004258>\n",
      "Query URL: http://owl.virtualflybrain.org/kbs/vfb/superclasses?object=%3Chttp%3A%2F%2Fpurl.obolibrary.org%2Fobo%2FFBbt_00004258%3E&prefixes=%7B%22FBbt%22%3A+%22http%3A%2F%2Fpurl.obolibrary.org%2Fobo%2FFBbt_%22%2C+%22RO%22%3A+%22http%3A%2F%2Fpurl.obolibrary.org%2Fobo%2FRO_%22%2C+%22BFO%22%3A+%22http%3A%2F%2Fpurl.obolibrary.org%2Fobo%2FBFO_%22%7D&direct=True\n",
      "Running query: <http://purl.obolibrary.org/obo/FBbt_00048208>\n",
      "Query URL: http://owl.virtualflybrain.org/kbs/vfb/superclasses?object=%3Chttp%3A%2F%2Fpurl.obolibrary.org%2Fobo%2FFBbt_00048208%3E&prefixes=%7B%22FBbt%22%3A+%22http%3A%2F%2Fpurl.obolibrary.org%2Fobo%2FFBbt_%22%2C+%22RO%22%3A+%22http%3A%2F%2Fpurl.obolibrary.org%2Fobo%2FRO_%22%2C+%22BFO%22%3A+%22http%3A%2F%2Fpurl.obolibrary.org%2Fobo%2FBFO_%22%7D&direct=True\n",
      "Running query: <http://purl.obolibrary.org/obo/FBbt_00110798>\n",
      "Query URL: http://owl.virtualflybrain.org/kbs/vfb/superclasses?object=%3Chttp%3A%2F%2Fpurl.obolibrary.org%2Fobo%2FFBbt_00110798%3E&prefixes=%7B%22FBbt%22%3A+%22http%3A%2F%2Fpurl.obolibrary.org%2Fobo%2FFBbt_%22%2C+%22RO%22%3A+%22http%3A%2F%2Fpurl.obolibrary.org%2Fobo%2FRO_%22%2C+%22BFO%22%3A+%22http%3A%2F%2Fpurl.obolibrary.org%2Fobo%2FBFO_%22%7D&direct=True\n",
      "Running query: <http://purl.obolibrary.org/obo/FBbt_00048083>\n",
      "Query URL: http://owl.virtualflybrain.org/kbs/vfb/superclasses?object=%3Chttp%3A%2F%2Fpurl.obolibrary.org%2Fobo%2FFBbt_00048083%3E&prefixes=%7B%22FBbt%22%3A+%22http%3A%2F%2Fpurl.obolibrary.org%2Fobo%2FFBbt_%22%2C+%22RO%22%3A+%22http%3A%2F%2Fpurl.obolibrary.org%2Fobo%2FRO_%22%2C+%22BFO%22%3A+%22http%3A%2F%2Fpurl.obolibrary.org%2Fobo%2FBFO_%22%7D&direct=True\n",
      "Running query: <http://purl.obolibrary.org/obo/FBbt_00004263>\n",
      "Query URL: http://owl.virtualflybrain.org/kbs/vfb/superclasses?object=%3Chttp%3A%2F%2Fpurl.obolibrary.org%2Fobo%2FFBbt_00004263%3E&prefixes=%7B%22FBbt%22%3A+%22http%3A%2F%2Fpurl.obolibrary.org%2Fobo%2FFBbt_%22%2C+%22RO%22%3A+%22http%3A%2F%2Fpurl.obolibrary.org%2Fobo%2FRO_%22%2C+%22BFO%22%3A+%22http%3A%2F%2Fpurl.obolibrary.org%2Fobo%2FBFO_%22%7D&direct=True\n",
      "Running query: <http://purl.obolibrary.org/obo/FBbt_00004283>\n",
      "Query URL: http://owl.virtualflybrain.org/kbs/vfb/superclasses?object=%3Chttp%3A%2F%2Fpurl.obolibrary.org%2Fobo%2FFBbt_00004283%3E&prefixes=%7B%22FBbt%22%3A+%22http%3A%2F%2Fpurl.obolibrary.org%2Fobo%2FFBbt_%22%2C+%22RO%22%3A+%22http%3A%2F%2Fpurl.obolibrary.org%2Fobo%2FRO_%22%2C+%22BFO%22%3A+%22http%3A%2F%2Fpurl.obolibrary.org%2Fobo%2FBFO_%22%7D&direct=True\n",
      "Running query: <http://purl.obolibrary.org/obo/FBbt_00004264>\n",
      "Query URL: http://owl.virtualflybrain.org/kbs/vfb/superclasses?object=%3Chttp%3A%2F%2Fpurl.obolibrary.org%2Fobo%2FFBbt_00004264%3E&prefixes=%7B%22FBbt%22%3A+%22http%3A%2F%2Fpurl.obolibrary.org%2Fobo%2FFBbt_%22%2C+%22RO%22%3A+%22http%3A%2F%2Fpurl.obolibrary.org%2Fobo%2FRO_%22%2C+%22BFO%22%3A+%22http%3A%2F%2Fpurl.obolibrary.org%2Fobo%2FBFO_%22%7D&direct=True\n",
      "Running query: <http://purl.obolibrary.org/obo/FBbt_00004395>\n",
      "Query URL: http://owl.virtualflybrain.org/kbs/vfb/superclasses?object=%3Chttp%3A%2F%2Fpurl.obolibrary.org%2Fobo%2FFBbt_00004395%3E&prefixes=%7B%22FBbt%22%3A+%22http%3A%2F%2Fpurl.obolibrary.org%2Fobo%2FFBbt_%22%2C+%22RO%22%3A+%22http%3A%2F%2Fpurl.obolibrary.org%2Fobo%2FRO_%22%2C+%22BFO%22%3A+%22http%3A%2F%2Fpurl.obolibrary.org%2Fobo%2FBFO_%22%7D&direct=True\n",
      "Running query: <http://purl.obolibrary.org/obo/FBbt_00004293>\n",
      "Query URL: http://owl.virtualflybrain.org/kbs/vfb/superclasses?object=%3Chttp%3A%2F%2Fpurl.obolibrary.org%2Fobo%2FFBbt_00004293%3E&prefixes=%7B%22FBbt%22%3A+%22http%3A%2F%2Fpurl.obolibrary.org%2Fobo%2FFBbt_%22%2C+%22RO%22%3A+%22http%3A%2F%2Fpurl.obolibrary.org%2Fobo%2FRO_%22%2C+%22BFO%22%3A+%22http%3A%2F%2Fpurl.obolibrary.org%2Fobo%2FBFO_%22%7D&direct=True\n",
      "Running query: <http://purl.obolibrary.org/obo/FBbt_00048189>\n",
      "Query URL: http://owl.virtualflybrain.org/kbs/vfb/superclasses?object=%3Chttp%3A%2F%2Fpurl.obolibrary.org%2Fobo%2FFBbt_00048189%3E&prefixes=%7B%22FBbt%22%3A+%22http%3A%2F%2Fpurl.obolibrary.org%2Fobo%2FFBbt_%22%2C+%22RO%22%3A+%22http%3A%2F%2Fpurl.obolibrary.org%2Fobo%2FRO_%22%2C+%22BFO%22%3A+%22http%3A%2F%2Fpurl.obolibrary.org%2Fobo%2FBFO_%22%7D&direct=True\n",
      "Running query: <http://purl.obolibrary.org/obo/FBbt_00048202>\n",
      "Query URL: http://owl.virtualflybrain.org/kbs/vfb/superclasses?object=%3Chttp%3A%2F%2Fpurl.obolibrary.org%2Fobo%2FFBbt_00048202%3E&prefixes=%7B%22FBbt%22%3A+%22http%3A%2F%2Fpurl.obolibrary.org%2Fobo%2FFBbt_%22%2C+%22RO%22%3A+%22http%3A%2F%2Fpurl.obolibrary.org%2Fobo%2FRO_%22%2C+%22BFO%22%3A+%22http%3A%2F%2Fpurl.obolibrary.org%2Fobo%2FBFO_%22%7D&direct=True\n",
      "Running query: <http://purl.obolibrary.org/obo/FBbt_00048179>\n",
      "Query URL: http://owl.virtualflybrain.org/kbs/vfb/superclasses?object=%3Chttp%3A%2F%2Fpurl.obolibrary.org%2Fobo%2FFBbt_00048179%3E&prefixes=%7B%22FBbt%22%3A+%22http%3A%2F%2Fpurl.obolibrary.org%2Fobo%2FFBbt_%22%2C+%22RO%22%3A+%22http%3A%2F%2Fpurl.obolibrary.org%2Fobo%2FRO_%22%2C+%22BFO%22%3A+%22http%3A%2F%2Fpurl.obolibrary.org%2Fobo%2FBFO_%22%7D&direct=True\n",
      "Running query: <http://purl.obolibrary.org/obo/FBbt_00004384>\n",
      "Query URL: http://owl.virtualflybrain.org/kbs/vfb/superclasses?object=%3Chttp%3A%2F%2Fpurl.obolibrary.org%2Fobo%2FFBbt_00004384%3E&prefixes=%7B%22FBbt%22%3A+%22http%3A%2F%2Fpurl.obolibrary.org%2Fobo%2FFBbt_%22%2C+%22RO%22%3A+%22http%3A%2F%2Fpurl.obolibrary.org%2Fobo%2FRO_%22%2C+%22BFO%22%3A+%22http%3A%2F%2Fpurl.obolibrary.org%2Fobo%2FBFO_%22%7D&direct=True\n",
      "Running query: <http://purl.obolibrary.org/obo/FBbt_00048056>\n",
      "Query URL: http://owl.virtualflybrain.org/kbs/vfb/superclasses?object=%3Chttp%3A%2F%2Fpurl.obolibrary.org%2Fobo%2FFBbt_00048056%3E&prefixes=%7B%22FBbt%22%3A+%22http%3A%2F%2Fpurl.obolibrary.org%2Fobo%2FFBbt_%22%2C+%22RO%22%3A+%22http%3A%2F%2Fpurl.obolibrary.org%2Fobo%2FRO_%22%2C+%22BFO%22%3A+%22http%3A%2F%2Fpurl.obolibrary.org%2Fobo%2FBFO_%22%7D&direct=True\n",
      "Running query: <http://purl.obolibrary.org/obo/FBbt_00004459>\n",
      "Query URL: http://owl.virtualflybrain.org/kbs/vfb/superclasses?object=%3Chttp%3A%2F%2Fpurl.obolibrary.org%2Fobo%2FFBbt_00004459%3E&prefixes=%7B%22FBbt%22%3A+%22http%3A%2F%2Fpurl.obolibrary.org%2Fobo%2FFBbt_%22%2C+%22RO%22%3A+%22http%3A%2F%2Fpurl.obolibrary.org%2Fobo%2FRO_%22%2C+%22BFO%22%3A+%22http%3A%2F%2Fpurl.obolibrary.org%2Fobo%2FBFO_%22%7D&direct=True\n",
      "Running query: <http://purl.obolibrary.org/obo/FBbt_00004420>\n"
     ]
    },
    {
     "name": "stdout",
     "output_type": "stream",
     "text": [
      "Query URL: http://owl.virtualflybrain.org/kbs/vfb/superclasses?object=%3Chttp%3A%2F%2Fpurl.obolibrary.org%2Fobo%2FFBbt_00004420%3E&prefixes=%7B%22FBbt%22%3A+%22http%3A%2F%2Fpurl.obolibrary.org%2Fobo%2FFBbt_%22%2C+%22RO%22%3A+%22http%3A%2F%2Fpurl.obolibrary.org%2Fobo%2FRO_%22%2C+%22BFO%22%3A+%22http%3A%2F%2Fpurl.obolibrary.org%2Fobo%2FBFO_%22%7D&direct=True\n",
      "Running query: <http://purl.obolibrary.org/obo/FBbt_00048170>\n",
      "Query URL: http://owl.virtualflybrain.org/kbs/vfb/superclasses?object=%3Chttp%3A%2F%2Fpurl.obolibrary.org%2Fobo%2FFBbt_00048170%3E&prefixes=%7B%22FBbt%22%3A+%22http%3A%2F%2Fpurl.obolibrary.org%2Fobo%2FFBbt_%22%2C+%22RO%22%3A+%22http%3A%2F%2Fpurl.obolibrary.org%2Fobo%2FRO_%22%2C+%22BFO%22%3A+%22http%3A%2F%2Fpurl.obolibrary.org%2Fobo%2FBFO_%22%7D&direct=True\n",
      "Running query: <http://purl.obolibrary.org/obo/FBbt_00048201>\n",
      "Query URL: http://owl.virtualflybrain.org/kbs/vfb/superclasses?object=%3Chttp%3A%2F%2Fpurl.obolibrary.org%2Fobo%2FFBbt_00048201%3E&prefixes=%7B%22FBbt%22%3A+%22http%3A%2F%2Fpurl.obolibrary.org%2Fobo%2FFBbt_%22%2C+%22RO%22%3A+%22http%3A%2F%2Fpurl.obolibrary.org%2Fobo%2FRO_%22%2C+%22BFO%22%3A+%22http%3A%2F%2Fpurl.obolibrary.org%2Fobo%2FBFO_%22%7D&direct=True\n",
      "Running query: <http://purl.obolibrary.org/obo/FBbt_00048181>\n",
      "Query URL: http://owl.virtualflybrain.org/kbs/vfb/superclasses?object=%3Chttp%3A%2F%2Fpurl.obolibrary.org%2Fobo%2FFBbt_00048181%3E&prefixes=%7B%22FBbt%22%3A+%22http%3A%2F%2Fpurl.obolibrary.org%2Fobo%2FFBbt_%22%2C+%22RO%22%3A+%22http%3A%2F%2Fpurl.obolibrary.org%2Fobo%2FRO_%22%2C+%22BFO%22%3A+%22http%3A%2F%2Fpurl.obolibrary.org%2Fobo%2FBFO_%22%7D&direct=True\n",
      "Running query: <http://purl.obolibrary.org/obo/FBbt_00004385>\n",
      "Query URL: http://owl.virtualflybrain.org/kbs/vfb/superclasses?object=%3Chttp%3A%2F%2Fpurl.obolibrary.org%2Fobo%2FFBbt_00004385%3E&prefixes=%7B%22FBbt%22%3A+%22http%3A%2F%2Fpurl.obolibrary.org%2Fobo%2FFBbt_%22%2C+%22RO%22%3A+%22http%3A%2F%2Fpurl.obolibrary.org%2Fobo%2FRO_%22%2C+%22BFO%22%3A+%22http%3A%2F%2Fpurl.obolibrary.org%2Fobo%2FBFO_%22%7D&direct=True\n",
      "{'http://purl.obolibrary.org/obo/FBbt_00004252', 'http://purl.obolibrary.org/obo/FBbt_00048081', 'http://purl.obolibrary.org/obo/FBbt_00004260', 'http://purl.obolibrary.org/obo/FBbt_00005183', 'http://purl.obolibrary.org/obo/FBbt_00111619', 'http://purl.obolibrary.org/obo/FBbt_00048080', 'http://purl.obolibrary.org/obo/FBbt_00048082', 'http://purl.obolibrary.org/obo/FBbt_00004364', 'http://purl.obolibrary.org/obo/FBbt_00004253', 'http://purl.obolibrary.org/obo/FBbt_00007231', 'http://purl.obolibrary.org/obo/FBbt_00111618', 'http://purl.obolibrary.org/obo/FBbt_00005181', 'http://purl.obolibrary.org/obo/FBbt_00007409', 'http://purl.obolibrary.org/obo/FBbt_00005182', 'http://purl.obolibrary.org/obo/FBbt_00004394', 'http://purl.obolibrary.org/obo/FBbt_00004408', 'http://purl.obolibrary.org/obo/FBbt_00004246', 'http://purl.obolibrary.org/obo/FBbt_00048055', 'http://purl.obolibrary.org/obo/FBbt_00004275', 'http://purl.obolibrary.org/obo/FBbt_00004407', 'http://purl.obolibrary.org/obo/FBbt_00004427', 'http://purl.obolibrary.org/obo/FBbt_00004362', 'http://purl.obolibrary.org/obo/FBbt_00004369', 'http://purl.obolibrary.org/obo/FBbt_00004247', 'http://purl.obolibrary.org/obo/FBbt_00004298', 'http://purl.obolibrary.org/obo/FBbt_00004245', 'http://purl.obolibrary.org/obo/FBbt_00004374', 'http://purl.obolibrary.org/obo/FBbt_00048083', 'http://purl.obolibrary.org/obo/FBbt_00004283', 'http://purl.obolibrary.org/obo/FBbt_00100297', 'http://purl.obolibrary.org/obo/FBbt_00004264', 'http://purl.obolibrary.org/obo/FBbt_00048079', 'http://purl.obolibrary.org/obo/FBbt_00004286', 'http://purl.obolibrary.org/obo/FBbt_00005184', 'http://purl.obolibrary.org/obo/FBbt_00004452', 'http://purl.obolibrary.org/obo/FBbt_00048056', 'http://purl.obolibrary.org/obo/FBbt_00004384', 'http://purl.obolibrary.org/obo/FBbt_01004450', 'http://purl.obolibrary.org/obo/FBbt_00004422', 'http://purl.obolibrary.org/obo/FBbt_00005179', 'http://purl.obolibrary.org/obo/FBbt_00004432', 'http://purl.obolibrary.org/obo/FBbt_00004393', 'http://purl.obolibrary.org/obo/FBbt_00111617', 'http://purl.obolibrary.org/obo/FBbt_00004420', 'http://purl.obolibrary.org/obo/FBbt_00004297', 'http://purl.obolibrary.org/obo/FBbt_00005178', 'http://purl.obolibrary.org/obo/FBbt_00004421', 'http://purl.obolibrary.org/obo/FBbt_00004442', 'http://purl.obolibrary.org/obo/FBbt_00004255', 'http://purl.obolibrary.org/obo/FBbt_00004363', 'http://purl.obolibrary.org/obo/FBbt_00004265'}\n"
     ]
    }
   ],
   "source": [
    "gen_s_r_o_report('sensillum', 'overlaps', 'leg')"
   ]
  },
  {
   "cell_type": "code",
   "execution_count": 29,
   "metadata": {},
   "outputs": [
    {
     "name": "stdout",
     "output_type": "stream",
     "text": [
      "FBbt:00005106\n",
      "FBbt:00005106\n",
      "Running query: 'cell' that 'overlaps' some 'integumentary system'\n",
      "'cell' that 'overlaps' some 'integumentary system'\n",
      "FBbt:00007002 that RO:0002131 some FBbt:00004969\n",
      "{'object': 'FBbt:00007002 that RO:0002131 some FBbt:00004969', 'prefixes': '{\"FBbt\": \"http://purl.obolibrary.org/obo/FBbt_\", \"RO\": \"http://purl.obolibrary.org/obo/RO_\", \"BFO\": \"http://purl.obolibrary.org/obo/BFO_\"}', 'direct': False}\n",
      "http://owl.virtualflybrain.org/kbs/vfb/subclasses?object=FBbt%3A00007002+that+RO%3A0002131+some+FBbt%3A00004969&prefixes=%7B%22FBbt%22%3A+%22http%3A%2F%2Fpurl.obolibrary.org%2Fobo%2FFBbt_%22%2C+%22RO%22%3A+%22http%3A%2F%2Fpurl.obolibrary.org%2Fobo%2FRO_%22%2C+%22BFO%22%3A+%22http%3A%2F%2Fpurl.obolibrary.org%2Fobo%2FBFO_%22%7D&direct=False\n",
      "<PreparedRequest [GET]>\n",
      "Found: 796 terms\n"
     ]
    }
   ],
   "source": [
    "integ_cell = set([x['n.label'] for x in get_terms_by_region('integumentary system', cells_only=True)])"
   ]
  },
  {
   "cell_type": "code",
   "execution_count": 20,
   "metadata": {},
   "outputs": [
    {
     "name": "stdout",
     "output_type": "stream",
     "text": [
      "54\n",
      "68\n"
     ]
    }
   ],
   "source": [
    "print(len(set(antennal_sensilla)))\n",
    "print(len(as_super.union(set(antennal_sensilla))))"
   ]
  },
  {
   "cell_type": "code",
   "execution_count": 30,
   "metadata": {},
   "outputs": [
    {
     "name": "stdout",
     "output_type": "stream",
     "text": [
      "FBbt:00005106\n",
      "FBbt:00005106\n",
      "FBbt:00005106\n",
      "{'object': 'FBbt:00005106', 'prefixes': '{\"FBbt\": \"http://purl.obolibrary.org/obo/FBbt_\", \"RO\": \"http://purl.obolibrary.org/obo/RO_\", \"BFO\": \"http://purl.obolibrary.org/obo/BFO_\"}', 'direct': False}\n",
      "http://owl.virtualflybrain.org/kbs/vfb/subclasses?object=FBbt%3A00005106&prefixes=%7B%22FBbt%22%3A+%22http%3A%2F%2Fpurl.obolibrary.org%2Fobo%2FFBbt_%22%2C+%22RO%22%3A+%22http%3A%2F%2Fpurl.obolibrary.org%2Fobo%2FRO_%22%2C+%22BFO%22%3A+%22http%3A%2F%2Fpurl.obolibrary.org%2Fobo%2FBFO_%22%7D&direct=False\n",
      "<PreparedRequest [GET]>\n"
     ]
    }
   ],
   "source": [
    "neurons = set([x['n.label'] for x  in  get_subclasses('neuron')])"
   ]
  },
  {
   "cell_type": "code",
   "execution_count": 9,
   "metadata": {},
   "outputs": [
    {
     "name": "stdout",
     "output_type": "stream",
     "text": [
      "FBbt:00005106\n",
      "FBbt:00005106\n",
      "FBbt:00005074\n",
      "{'object': 'FBbt:00005074', 'prefixes': '{\"FBbt\": \"http://purl.obolibrary.org/obo/FBbt_\", \"RO\": \"http://purl.obolibrary.org/obo/RO_\", \"BFO\": \"http://purl.obolibrary.org/obo/BFO_\"}', 'direct': False}\n",
      "http://owl.virtualflybrain.org/kbs/vfb/subclasses?object=FBbt%3A00005074&prefixes=%7B%22FBbt%22%3A+%22http%3A%2F%2Fpurl.obolibrary.org%2Fobo%2FFBbt_%22%2C+%22RO%22%3A+%22http%3A%2F%2Fpurl.obolibrary.org%2Fobo%2FRO_%22%2C+%22BFO%22%3A+%22http%3A%2F%2Fpurl.obolibrary.org%2Fobo%2FBFO_%22%7D&direct=False\n",
      "<PreparedRequest [GET]>\n"
     ]
    }
   ],
   "source": [
    "muscles = set([x['n.label'] for x  in  get_subclasses('muscle cell')])"
   ]
  },
  {
   "cell_type": "code",
   "execution_count": 11,
   "metadata": {},
   "outputs": [
    {
     "data": {
      "text/plain": [
       "{'adult oenocyte',\n",
       " 'anterior intercalating leading edge cell',\n",
       " 'embryonic leading edge cell',\n",
       " 'embryonic/larval oenocyte',\n",
       " 'epidermal cell',\n",
       " 'epidermoblast',\n",
       " 'histoblast',\n",
       " 'lch5 cap attachment cell',\n",
       " 'lch5 ligament attachment cell',\n",
       " 'leading edge mixer cell',\n",
       " 'ocellus corneagenous cell',\n",
       " 'oenocyte',\n",
       " 'posterior intercalating leading edge cell',\n",
       " 'small cell associated with anterior dorsal histoblasts abdominal',\n",
       " 'small cell associated with anterior dorsal histoblasts abdominal 1',\n",
       " 'small cell associated with anterior dorsal histoblasts abdominal 2',\n",
       " 'small cell associated with anterior dorsal histoblasts abdominal 3',\n",
       " 'small cell associated with anterior dorsal histoblasts abdominal 4',\n",
       " 'small cell associated with anterior dorsal histoblasts abdominal 5',\n",
       " 'small cell associated with anterior dorsal histoblasts abdominal 6',\n",
       " 'small cell associated with anterior dorsal histoblasts abdominal 7',\n",
       " 'tendon cell'}"
      ]
     },
     "execution_count": 11,
     "metadata": {},
     "output_type": "execute_result"
    }
   ],
   "source": [
    "integ_cell - (neurons.union(muscles))"
   ]
  },
  {
   "cell_type": "code",
   "execution_count": 32,
   "metadata": {},
   "outputs": [
    {
     "name": "stdout",
     "output_type": "stream",
     "text": [
      "FBbt:00005106\n",
      "FBbt:00005106\n",
      "Running query: 'cell' that 'overlaps' some 'eo-type sensillum'\n",
      "'cell' that 'overlaps' some 'eo-type sensillum'\n",
      "FBbt:00007002 that RO:0002131 some FBbt:00007232\n",
      "{'object': 'FBbt:00007002 that RO:0002131 some FBbt:00007232', 'prefixes': '{\"FBbt\": \"http://purl.obolibrary.org/obo/FBbt_\", \"RO\": \"http://purl.obolibrary.org/obo/RO_\", \"BFO\": \"http://purl.obolibrary.org/obo/BFO_\"}', 'direct': False}\n",
      "http://owl.virtualflybrain.org/kbs/vfb/subclasses?object=FBbt%3A00007002+that+RO%3A0002131+some+FBbt%3A00007232&prefixes=%7B%22FBbt%22%3A+%22http%3A%2F%2Fpurl.obolibrary.org%2Fobo%2FFBbt_%22%2C+%22RO%22%3A+%22http%3A%2F%2Fpurl.obolibrary.org%2Fobo%2FRO_%22%2C+%22BFO%22%3A+%22http%3A%2F%2Fpurl.obolibrary.org%2Fobo%2FBFO_%22%7D&direct=False\n",
      "<PreparedRequest [GET]>\n",
      "Found: 355 terms\n"
     ]
    }
   ],
   "source": [
    "eo_sense_cell = set([x['n.label'] for x in get_terms_by_region('eo-type sensillum', cells_only=True)])\n"
   ]
  },
  {
   "cell_type": "code",
   "execution_count": 31,
   "metadata": {},
   "outputs": [
    {
     "ename": "NameError",
     "evalue": "name 'eo_sense_cell' is not defined",
     "output_type": "error",
     "traceback": [
      "\u001b[0;31m---------------------------------------------------------------------------\u001b[0m",
      "\u001b[0;31mNameError\u001b[0m                                 Traceback (most recent call last)",
      "\u001b[0;32m<ipython-input-31-8ac6da572f56>\u001b[0m in \u001b[0;36m<module>\u001b[0;34m\u001b[0m\n\u001b[0;32m----> 1\u001b[0;31m \u001b[0meo_sense_cell\u001b[0m \u001b[0;34m-\u001b[0m \u001b[0mneurons\u001b[0m\u001b[0;34m\u001b[0m\u001b[0;34m\u001b[0m\u001b[0m\n\u001b[0m",
      "\u001b[0;31mNameError\u001b[0m: name 'eo_sense_cell' is not defined"
     ]
    }
   ],
   "source": [
    "eo_sense_cell - neurons"
   ]
  },
  {
   "cell_type": "code",
   "execution_count": 19,
   "metadata": {},
   "outputs": [
    {
     "name": "stdout",
     "output_type": "stream",
     "text": [
      "FBbt:00005106\n",
      "FBbt:00005106\n",
      "Running query: 'cell' that 'overlaps' some 'sense organ'\n",
      "'cell' that 'overlaps' some 'sense organ'\n",
      "FBbt:00007002 that RO:0002131 some FBbt:00005155\n",
      "{'object': 'FBbt:00007002 that RO:0002131 some FBbt:00005155', 'prefixes': '{\"FBbt\": \"http://purl.obolibrary.org/obo/FBbt_\", \"RO\": \"http://purl.obolibrary.org/obo/RO_\", \"BFO\": \"http://purl.obolibrary.org/obo/BFO_\"}', 'direct': False}\n",
      "http://owl.virtualflybrain.org/kbs/vfb/subclasses?object=FBbt%3A00007002+that+RO%3A0002131+some+FBbt%3A00005155&prefixes=%7B%22FBbt%22%3A+%22http%3A%2F%2Fpurl.obolibrary.org%2Fobo%2FFBbt_%22%2C+%22RO%22%3A+%22http%3A%2F%2Fpurl.obolibrary.org%2Fobo%2FRO_%22%2C+%22BFO%22%3A+%22http%3A%2F%2Fpurl.obolibrary.org%2Fobo%2FBFO_%22%7D&direct=False\n",
      "<PreparedRequest [GET]>\n",
      "Found: 608 terms\n"
     ]
    }
   ],
   "source": [
    "sense_organ_cell = set([x['n.label'] for x in get_terms_by_region('sense organ', cells_only=True)])"
   ]
  },
  {
   "cell_type": "code",
   "execution_count": 21,
   "metadata": {},
   "outputs": [
    {
     "data": {
      "text/plain": [
       "{'anterior cone cell',\n",
       " 'cone cell',\n",
       " 'dendritic cap cell',\n",
       " 'eo support cell',\n",
       " 'equatorial cone cell',\n",
       " 'interommatidial cell',\n",
       " 'lch5 cap attachment cell',\n",
       " 'lch5 ligament attachment cell',\n",
       " 'ocellus corneagenous cell',\n",
       " 'polar cone cell',\n",
       " 'posterior cone cell',\n",
       " 'primary pigment cell',\n",
       " 'retinal pigment cell',\n",
       " 'scolopale cell',\n",
       " 'scolopidial dendritic cap cell',\n",
       " 'scolopidial ligament cell',\n",
       " 'secondary pigment cell',\n",
       " 'sensory organ cell',\n",
       " 'tertiary pigment cell',\n",
       " 'thecogen cell',\n",
       " 'tormogen cell',\n",
       " 'trichogen cell'}"
      ]
     },
     "execution_count": 21,
     "metadata": {},
     "output_type": "execute_result"
    }
   ],
   "source": [
    "sense_organ_cell - neurons"
   ]
  },
  {
   "cell_type": "code",
   "execution_count": 22,
   "metadata": {},
   "outputs": [
    {
     "name": "stdout",
     "output_type": "stream",
     "text": [
      "FBbt:00005106\n",
      "FBbt:00005106\n",
      "Running query: 'cell' that 'overlaps' some 'eye'\n",
      "'cell' that 'overlaps' some 'eye'\n",
      "FBbt:00007002 that RO:0002131 some FBbt:00004508\n",
      "{'object': 'FBbt:00007002 that RO:0002131 some FBbt:00004508', 'prefixes': '{\"FBbt\": \"http://purl.obolibrary.org/obo/FBbt_\", \"RO\": \"http://purl.obolibrary.org/obo/RO_\", \"BFO\": \"http://purl.obolibrary.org/obo/BFO_\"}', 'direct': False}\n",
      "http://owl.virtualflybrain.org/kbs/vfb/subclasses?object=FBbt%3A00007002+that+RO%3A0002131+some+FBbt%3A00004508&prefixes=%7B%22FBbt%22%3A+%22http%3A%2F%2Fpurl.obolibrary.org%2Fobo%2FFBbt_%22%2C+%22RO%22%3A+%22http%3A%2F%2Fpurl.obolibrary.org%2Fobo%2FRO_%22%2C+%22BFO%22%3A+%22http%3A%2F%2Fpurl.obolibrary.org%2Fobo%2FBFO_%22%7D&direct=False\n",
      "<PreparedRequest [GET]>\n",
      "Found: 29 terms\n"
     ]
    }
   ],
   "source": [
    "eye_cell = set([x['n.label'] for x in get_terms_by_region('eye', cells_only=True)])"
   ]
  },
  {
   "cell_type": "code",
   "execution_count": 23,
   "metadata": {},
   "outputs": [
    {
     "data": {
      "text/plain": [
       "{'dendritic cap cell',\n",
       " 'eo support cell',\n",
       " 'lch5 cap attachment cell',\n",
       " 'lch5 ligament attachment cell',\n",
       " 'ocellus corneagenous cell',\n",
       " 'scolopale cell',\n",
       " 'scolopidial dendritic cap cell',\n",
       " 'scolopidial ligament cell',\n",
       " 'sensory organ cell',\n",
       " 'thecogen cell',\n",
       " 'tormogen cell',\n",
       " 'trichogen cell'}"
      ]
     },
     "execution_count": 23,
     "metadata": {},
     "output_type": "execute_result"
    }
   ],
   "source": [
    "sense_organ_cell - (neurons.union(eye_cell))"
   ]
  },
  {
   "cell_type": "code",
   "execution_count": 24,
   "metadata": {},
   "outputs": [
    {
     "name": "stdout",
     "output_type": "stream",
     "text": [
      "FBbt:00005106\n",
      "FBbt:00005106\n",
      "Running query: 'overlaps' some 'adult midgut'\n",
      "'overlaps' some 'adult midgut'\n",
      "RO:0002131 some FBbt:00003138\n",
      "{'object': 'RO:0002131 some FBbt:00003138', 'prefixes': '{\"FBbt\": \"http://purl.obolibrary.org/obo/FBbt_\", \"RO\": \"http://purl.obolibrary.org/obo/RO_\", \"BFO\": \"http://purl.obolibrary.org/obo/BFO_\"}', 'direct': False}\n",
      "http://owl.virtualflybrain.org/kbs/vfb/subclasses?object=RO%3A0002131+some+FBbt%3A00003138&prefixes=%7B%22FBbt%22%3A+%22http%3A%2F%2Fpurl.obolibrary.org%2Fobo%2FFBbt_%22%2C+%22RO%22%3A+%22http%3A%2F%2Fpurl.obolibrary.org%2Fobo%2FRO_%22%2C+%22BFO%22%3A+%22http%3A%2F%2Fpurl.obolibrary.org%2Fobo%2FBFO_%22%7D&direct=False\n",
      "<PreparedRequest [GET]>\n",
      "Found: 51 terms\n"
     ]
    }
   ],
   "source": [
    "adult_midgut = set([x['n.label'] for x in get_terms_by_region('adult midgut')])"
   ]
  },
  {
   "cell_type": "code",
   "execution_count": 25,
   "metadata": {},
   "outputs": [
    {
     "data": {
      "text/plain": [
       "{'Tachykinin cell of the adult midgut',\n",
       " 'adult anterior midgut',\n",
       " 'adult anterior midgut epithelium',\n",
       " 'adult copper cell',\n",
       " 'adult enteroendocrine cell',\n",
       " 'adult insulin secreting cell of pars intercerebralis',\n",
       " 'adult midgut circular muscle',\n",
       " 'adult midgut constriction',\n",
       " 'adult midgut constriction R0-R1',\n",
       " 'adult midgut constriction R1-R2',\n",
       " 'adult midgut constriction R2-R3',\n",
       " 'adult midgut constriction R3-R4',\n",
       " 'adult midgut constriction R4-R5',\n",
       " 'adult midgut enterocyte',\n",
       " 'adult midgut epithelium',\n",
       " 'adult midgut interstitial cell',\n",
       " 'adult midgut large flat cell',\n",
       " 'adult midgut longitudinal muscle',\n",
       " 'adult midgut muscle',\n",
       " 'adult midgut region',\n",
       " 'adult midgut region R0',\n",
       " 'adult midgut region R1',\n",
       " 'adult midgut region R1a',\n",
       " 'adult midgut region R1b',\n",
       " 'adult midgut region R2',\n",
       " 'adult midgut region R2a',\n",
       " 'adult midgut region R2b',\n",
       " 'adult midgut region R2c',\n",
       " 'adult midgut region R3',\n",
       " 'adult midgut region R3a',\n",
       " 'adult midgut region R3b',\n",
       " 'adult midgut region R3c',\n",
       " 'adult midgut region R4',\n",
       " 'adult midgut region R4a',\n",
       " 'adult midgut region R4b',\n",
       " 'adult midgut region R4c',\n",
       " 'adult midgut region R5',\n",
       " 'adult midgut region R5a',\n",
       " 'adult midgut region R5b',\n",
       " 'adult peritrophic membrane',\n",
       " 'adult posterior midgut',\n",
       " 'adult posterior midgut epithelium',\n",
       " 'adult proventriculus',\n",
       " 'adult proventriculus intermediate layer',\n",
       " 'adult proventriculus outer layer',\n",
       " 'enteroblast',\n",
       " 'enteroblast of posterior adult midgut epithelium',\n",
       " 'enterocyte of posterior adult midgut epithelium',\n",
       " 'enteroendocrine cell of posterior adult midgut epithelium',\n",
       " 'intestinal stem cell',\n",
       " 'intestinal stem cell of posterior adult midgut epithelium'}"
      ]
     },
     "execution_count": 25,
     "metadata": {},
     "output_type": "execute_result"
    }
   ],
   "source": [
    "adult_midgut"
   ]
  },
  {
   "cell_type": "code",
   "execution_count": 26,
   "metadata": {},
   "outputs": [
    {
     "name": "stdout",
     "output_type": "stream",
     "text": [
      "FBbt:00005106\n",
      "FBbt:00005106\n",
      "Running query: 'cell' that 'overlaps' some 'midgut'\n",
      "'cell' that 'overlaps' some 'midgut'\n",
      "FBbt:00007002 that RO:0002131 some FBbt:00005383\n",
      "{'object': 'FBbt:00007002 that RO:0002131 some FBbt:00005383', 'prefixes': '{\"FBbt\": \"http://purl.obolibrary.org/obo/FBbt_\", \"RO\": \"http://purl.obolibrary.org/obo/RO_\", \"BFO\": \"http://purl.obolibrary.org/obo/BFO_\"}', 'direct': False}\n",
      "http://owl.virtualflybrain.org/kbs/vfb/subclasses?object=FBbt%3A00007002+that+RO%3A0002131+some+FBbt%3A00005383&prefixes=%7B%22FBbt%22%3A+%22http%3A%2F%2Fpurl.obolibrary.org%2Fobo%2FFBbt_%22%2C+%22RO%22%3A+%22http%3A%2F%2Fpurl.obolibrary.org%2Fobo%2FRO_%22%2C+%22BFO%22%3A+%22http%3A%2F%2Fpurl.obolibrary.org%2Fobo%2FBFO_%22%7D&direct=False\n",
      "<PreparedRequest [GET]>\n",
      "Found: 38 terms\n"
     ]
    }
   ],
   "source": [
    "midgut_cell = set([x['n.label'] for x in get_terms_by_region('midgut', cells_only=True)])"
   ]
  },
  {
   "cell_type": "code",
   "execution_count": 28,
   "metadata": {},
   "outputs": [
    {
     "data": {
      "text/plain": [
       "{'Tachykinin cell of the adult midgut',\n",
       " 'adult copper cell',\n",
       " 'adult enteroendocrine cell',\n",
       " 'adult insulin secreting cell of pars intercerebralis',\n",
       " 'adult midgut circular muscle',\n",
       " 'adult midgut enterocyte',\n",
       " 'adult midgut interstitial cell',\n",
       " 'adult midgut large flat cell',\n",
       " 'adult midgut longitudinal muscle',\n",
       " 'adult midgut muscle',\n",
       " 'adult midgut progenitor cell',\n",
       " 'anterior adult midgut progenitor',\n",
       " 'copper cell',\n",
       " 'embryonic/larval copper cell',\n",
       " 'embryonic/larval midgut cell',\n",
       " 'embryonic/larval midgut enterocyte',\n",
       " 'embryonic/larval midgut interstitial cell',\n",
       " 'embryonic/larval midgut large flat cell',\n",
       " 'embryonic/larval midgut muscle',\n",
       " 'embryonic/larval principal midgut epithelial cell',\n",
       " 'enteroblast',\n",
       " 'enteroblast of posterior adult midgut epithelium',\n",
       " 'enterocyte of posterior adult midgut epithelium',\n",
       " 'enteroendocrine cell',\n",
       " 'enteroendocrine cell of posterior adult midgut epithelium',\n",
       " 'intestinal stem cell',\n",
       " 'intestinal stem cell of posterior adult midgut epithelium',\n",
       " 'iron accumulating cell',\n",
       " 'larval enteroendocrine cell',\n",
       " 'larval secretory cell of the proventriculus',\n",
       " 'larval serotonergic SE0 neuron',\n",
       " 'midgut enterocyte',\n",
       " 'midgut interstitial cell',\n",
       " 'midgut large flat cell',\n",
       " 'peripheral cell',\n",
       " 'posterior adult midgut progenitor',\n",
       " 'principal midgut epithelial cell',\n",
       " 'tachykinin cell of the embryonic/larval midgut'}"
      ]
     },
     "execution_count": 28,
     "metadata": {},
     "output_type": "execute_result"
    }
   ],
   "source": [
    "midgut_cell"
   ]
  },
  {
   "cell_type": "code",
   "execution_count": 35,
   "metadata": {},
   "outputs": [
    {
     "name": "stdout",
     "output_type": "stream",
     "text": [
      "FBbt:00005106\n",
      "FBbt:00005106\n",
      "Running query: 'overlaps' some 'leg'\n",
      "'overlaps' some 'leg'\n",
      "RO:0002131 some FBbt:00004640\n",
      "{'object': 'RO:0002131 some FBbt:00004640', 'prefixes': '{\"FBbt\": \"http://purl.obolibrary.org/obo/FBbt_\", \"RO\": \"http://purl.obolibrary.org/obo/RO_\", \"BFO\": \"http://purl.obolibrary.org/obo/BFO_\"}', 'direct': False}\n",
      "http://owl.virtualflybrain.org/kbs/vfb/subclasses?object=RO%3A0002131+some+FBbt%3A00004640&prefixes=%7B%22FBbt%22%3A+%22http%3A%2F%2Fpurl.obolibrary.org%2Fobo%2FFBbt_%22%2C+%22RO%22%3A+%22http%3A%2F%2Fpurl.obolibrary.org%2Fobo%2FRO_%22%2C+%22BFO%22%3A+%22http%3A%2F%2Fpurl.obolibrary.org%2Fobo%2FBFO_%22%7D&direct=False\n",
      "<PreparedRequest [GET]>\n",
      "Found: 421 terms\n"
     ]
    }
   ],
   "source": [
    "leg_parts = set([x['n.label'] for x in get_terms_by_region('leg')])"
   ]
  },
  {
   "cell_type": "code",
   "execution_count": 36,
   "metadata": {},
   "outputs": [
    {
     "name": "stdout",
     "output_type": "stream",
     "text": [
      "FBbt:00005106\n",
      "FBbt:00005106\n",
      "FBbt:00005155\n",
      "{'object': 'FBbt:00005155', 'prefixes': '{\"FBbt\": \"http://purl.obolibrary.org/obo/FBbt_\", \"RO\": \"http://purl.obolibrary.org/obo/RO_\", \"BFO\": \"http://purl.obolibrary.org/obo/BFO_\"}', 'direct': False}\n",
      "http://owl.virtualflybrain.org/kbs/vfb/subclasses?object=FBbt%3A00005155&prefixes=%7B%22FBbt%22%3A+%22http%3A%2F%2Fpurl.obolibrary.org%2Fobo%2FFBbt_%22%2C+%22RO%22%3A+%22http%3A%2F%2Fpurl.obolibrary.org%2Fobo%2FRO_%22%2C+%22BFO%22%3A+%22http%3A%2F%2Fpurl.obolibrary.org%2Fobo%2FBFO_%22%7D&direct=False\n",
      "<PreparedRequest [GET]>\n"
     ]
    }
   ],
   "source": [
    "sense_organs = set([x['n.label'] for x in get_subclasses('sense organ')])\n"
   ]
  },
  {
   "cell_type": "code",
   "execution_count": 40,
   "metadata": {},
   "outputs": [
    {
     "data": {
      "text/plain": [
       "121"
      ]
     },
     "execution_count": 40,
     "metadata": {},
     "output_type": "execute_result"
    }
   ],
   "source": [
    "len(leg_parts - (sense_organs.union(neurons).union(muscles)))"
   ]
  },
  {
   "cell_type": "code",
   "execution_count": 39,
   "metadata": {},
   "outputs": [],
   "source": [
    "import json\n",
    "f = open(\"/repos/VFB_json_schema/src/VFB_term_info_queries.json\", \"r\")\n",
    "queries = json.loads(f.read())"
   ]
  },
  {
   "cell_type": "code",
   "execution_count": 40,
   "metadata": {},
   "outputs": [
    {
     "data": {
      "text/plain": [
       "dict_keys(['Get JSON for Individual:Anatomy', 'Get JSON for Class', 'Get JSON for DataSet', 'Get JSON for License', 'Get JSON for Template'])"
      ]
     },
     "execution_count": 40,
     "metadata": {},
     "output_type": "execute_result"
    }
   ],
   "source": [
    "queries.keys()"
   ]
  },
  {
   "cell_type": "code",
   "execution_count": 43,
   "metadata": {},
   "outputs": [
    {
     "name": "stderr",
     "output_type": "stream",
     "text": [
      "/repos/VFB_neo4j/src/uk/ac/ebi/vfb/neo4j/neo4j_tools.py:142: UserWarning: {'code': 'Neo.ClientError.Statement.InvalidSyntax', 'message': 'Invalid input \\'&\\': expected whitespace, a relationship pattern, \\',\\', USING, WHERE, LOAD CSV, START, MATCH, UNWIND, MERGE, CREATE, SET, DELETE, REMOVE, FOREACH, WITH, RETURN, UNION, \\';\\' or end of input (line 2, column 38 (offset: 107))\\n\"WITH primary OPTIONAL MATCH (o:Class)&lt;-[r:SUBCLASSOF|INSTANCEOF]-(primary)  \"\\n                                      ^'}\n",
      "  warnings.warn(str(e))\n"
     ]
    }
   ],
   "source": [
    "queries['Get JSON for Class']\n",
    "from uk.ac.ebi.vfb.neo4j.neo4j_tools import neo4j_connect, results_2_dict_list\n",
    "nc = neo4j_connect('http://pdb.virtualflybrain.org', 'neo4j', 'neo4j')\n",
    "r = nc.commit_list([queries['Get JSON for Class'].replace('$ID', 'FBbt_00111429')])\n"
   ]
  },
  {
   "cell_type": "code",
   "execution_count": null,
   "metadata": {},
   "outputs": [],
   "source": []
  }
 ],
 "metadata": {
  "kernelspec": {
   "display_name": "Python 3",
   "language": "python",
   "name": "python3"
  },
  "language_info": {
   "codemirror_mode": {
    "name": "ipython",
    "version": 3
   },
   "file_extension": ".py",
   "mimetype": "text/x-python",
   "name": "python",
   "nbconvert_exporter": "python",
   "pygments_lexer": "ipython3",
   "version": "3.7.3"
  }
 },
 "nbformat": 4,
 "nbformat_minor": 2
}
