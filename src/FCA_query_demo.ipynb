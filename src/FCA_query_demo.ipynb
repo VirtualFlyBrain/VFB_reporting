{
 "cells": [
  {
   "cell_type": "code",
   "execution_count": 1,
   "metadata": {},
   "outputs": [],
   "source": [
    "from simple_vfb_neo_tools import get_subclasses, get_terms_by_region, gen_simple_report, get_lookup\n",
    "from owlery_query_tools import OWLeryConnect\n"
   ]
  },
  {
   "cell_type": "code",
   "execution_count": 2,
   "metadata": {},
   "outputs": [
    {
     "name": "stdout",
     "output_type": "stream",
     "text": [
      "FBbt:00005106\n",
      "FBbt:00005106\n"
     ]
    }
   ],
   "source": [
    "lookup = get_lookup(limit_by_prefix=['FBbt'])\n"
   ]
  },
  {
   "cell_type": "code",
   "execution_count": 3,
   "metadata": {},
   "outputs": [
    {
     "data": {
      "text/plain": [
       "'FBbt:00005106'"
      ]
     },
     "execution_count": 3,
     "metadata": {},
     "output_type": "execute_result"
    }
   ],
   "source": [
    "lookup['neuron']"
   ]
  },
  {
   "cell_type": "code",
   "execution_count": 13,
   "metadata": {},
   "outputs": [
    {
     "name": "stdout",
     "output_type": "stream",
     "text": [
      "BFO:0000050 some FBbt:00004660\n",
      "{'object': 'BFO:0000050 some FBbt:00004660', 'prefixes': '{\"FBbt\": \"http://purl.obolibrary.org/obo/FBbt_\", \"RO\": \"http://purl.obolibrary.org/obo/RO_\", \"BFO\": \"http://purl.obolibrary.org/obo/BFO_\"}', 'direct': False}\n",
      "http://owl.virtualflybrain.org/kbs/vfb/subclasses?object=BFO%3A0000050+some+FBbt%3A00004660&prefixes=%7B%22FBbt%22%3A+%22http%3A%2F%2Fpurl.obolibrary.org%2Fobo%2FFBbt_%22%2C+%22RO%22%3A+%22http%3A%2F%2Fpurl.obolibrary.org%2Fobo%2FRO_%22%2C+%22BFO%22%3A+%22http%3A%2F%2Fpurl.obolibrary.org%2Fobo%2FBFO_%22%7D&direct=False\n",
      "<PreparedRequest [GET]>\n"
     ]
    },
    {
     "data": {
      "text/plain": [
       "['http://purl.obolibrary.org/obo/FBbt_00004661',\n",
       " 'http://purl.obolibrary.org/obo/FBbt_00004727',\n",
       " 'http://purl.obolibrary.org/obo/FBbt_00004683',\n",
       " 'http://purl.obolibrary.org/obo/FBbt_00004705']"
      ]
     },
     "execution_count": 13,
     "metadata": {},
     "output_type": "execute_result"
    }
   ],
   "source": [
    "oc = OWLeryConnect(lookup=lookup)\n",
    "oc.curies\n",
    "oc.get_subclasses(\"'part of' some 'unguis'\", query_by_label=True)"
   ]
  },
  {
   "cell_type": "code",
   "execution_count": 29,
   "metadata": {},
   "outputs": [
    {
     "name": "stdout",
     "output_type": "stream",
     "text": [
      "FBbt:00005106\n",
      "FBbt:00005106\n",
      "Running query: 'cell' that 'overlaps' some 'integumentary system'\n",
      "'cell' that 'overlaps' some 'integumentary system'\n",
      "FBbt:00007002 that RO:0002131 some FBbt:00004969\n",
      "{'object': 'FBbt:00007002 that RO:0002131 some FBbt:00004969', 'prefixes': '{\"FBbt\": \"http://purl.obolibrary.org/obo/FBbt_\", \"RO\": \"http://purl.obolibrary.org/obo/RO_\", \"BFO\": \"http://purl.obolibrary.org/obo/BFO_\"}', 'direct': False}\n",
      "http://owl.virtualflybrain.org/kbs/vfb/subclasses?object=FBbt%3A00007002+that+RO%3A0002131+some+FBbt%3A00004969&prefixes=%7B%22FBbt%22%3A+%22http%3A%2F%2Fpurl.obolibrary.org%2Fobo%2FFBbt_%22%2C+%22RO%22%3A+%22http%3A%2F%2Fpurl.obolibrary.org%2Fobo%2FRO_%22%2C+%22BFO%22%3A+%22http%3A%2F%2Fpurl.obolibrary.org%2Fobo%2FBFO_%22%7D&direct=False\n",
      "<PreparedRequest [GET]>\n",
      "Found: 796 terms\n"
     ]
    }
   ],
   "source": [
    "integ_cell = set([x['n.label'] for x in get_terms_by_region('integumentary system', cells_only=True)])"
   ]
  },
  {
   "cell_type": "code",
   "execution_count": 30,
   "metadata": {},
   "outputs": [
    {
     "name": "stdout",
     "output_type": "stream",
     "text": [
      "FBbt:00005106\n",
      "FBbt:00005106\n",
      "FBbt:00005106\n",
      "{'object': 'FBbt:00005106', 'prefixes': '{\"FBbt\": \"http://purl.obolibrary.org/obo/FBbt_\", \"RO\": \"http://purl.obolibrary.org/obo/RO_\", \"BFO\": \"http://purl.obolibrary.org/obo/BFO_\"}', 'direct': False}\n",
      "http://owl.virtualflybrain.org/kbs/vfb/subclasses?object=FBbt%3A00005106&prefixes=%7B%22FBbt%22%3A+%22http%3A%2F%2Fpurl.obolibrary.org%2Fobo%2FFBbt_%22%2C+%22RO%22%3A+%22http%3A%2F%2Fpurl.obolibrary.org%2Fobo%2FRO_%22%2C+%22BFO%22%3A+%22http%3A%2F%2Fpurl.obolibrary.org%2Fobo%2FBFO_%22%7D&direct=False\n",
      "<PreparedRequest [GET]>\n"
     ]
    }
   ],
   "source": [
    "neurons = set([x['n.label'] for x  in  get_subclasses('neuron')])"
   ]
  },
  {
   "cell_type": "code",
   "execution_count": 9,
   "metadata": {},
   "outputs": [
    {
     "name": "stdout",
     "output_type": "stream",
     "text": [
      "FBbt:00005106\n",
      "FBbt:00005106\n",
      "FBbt:00005074\n",
      "{'object': 'FBbt:00005074', 'prefixes': '{\"FBbt\": \"http://purl.obolibrary.org/obo/FBbt_\", \"RO\": \"http://purl.obolibrary.org/obo/RO_\", \"BFO\": \"http://purl.obolibrary.org/obo/BFO_\"}', 'direct': False}\n",
      "http://owl.virtualflybrain.org/kbs/vfb/subclasses?object=FBbt%3A00005074&prefixes=%7B%22FBbt%22%3A+%22http%3A%2F%2Fpurl.obolibrary.org%2Fobo%2FFBbt_%22%2C+%22RO%22%3A+%22http%3A%2F%2Fpurl.obolibrary.org%2Fobo%2FRO_%22%2C+%22BFO%22%3A+%22http%3A%2F%2Fpurl.obolibrary.org%2Fobo%2FBFO_%22%7D&direct=False\n",
      "<PreparedRequest [GET]>\n"
     ]
    }
   ],
   "source": [
    "muscles = set([x['n.label'] for x  in  get_subclasses('muscle cell')])"
   ]
  },
  {
   "cell_type": "code",
   "execution_count": 11,
   "metadata": {},
   "outputs": [
    {
     "data": {
      "text/plain": [
       "{'adult oenocyte',\n",
       " 'anterior intercalating leading edge cell',\n",
       " 'embryonic leading edge cell',\n",
       " 'embryonic/larval oenocyte',\n",
       " 'epidermal cell',\n",
       " 'epidermoblast',\n",
       " 'histoblast',\n",
       " 'lch5 cap attachment cell',\n",
       " 'lch5 ligament attachment cell',\n",
       " 'leading edge mixer cell',\n",
       " 'ocellus corneagenous cell',\n",
       " 'oenocyte',\n",
       " 'posterior intercalating leading edge cell',\n",
       " 'small cell associated with anterior dorsal histoblasts abdominal',\n",
       " 'small cell associated with anterior dorsal histoblasts abdominal 1',\n",
       " 'small cell associated with anterior dorsal histoblasts abdominal 2',\n",
       " 'small cell associated with anterior dorsal histoblasts abdominal 3',\n",
       " 'small cell associated with anterior dorsal histoblasts abdominal 4',\n",
       " 'small cell associated with anterior dorsal histoblasts abdominal 5',\n",
       " 'small cell associated with anterior dorsal histoblasts abdominal 6',\n",
       " 'small cell associated with anterior dorsal histoblasts abdominal 7',\n",
       " 'tendon cell'}"
      ]
     },
     "execution_count": 11,
     "metadata": {},
     "output_type": "execute_result"
    }
   ],
   "source": [
    "integ_cell - (neurons.union(muscles))"
   ]
  },
  {
   "cell_type": "code",
   "execution_count": 32,
   "metadata": {},
   "outputs": [
    {
     "name": "stdout",
     "output_type": "stream",
     "text": [
      "FBbt:00005106\n",
      "FBbt:00005106\n",
      "Running query: 'cell' that 'overlaps' some 'eo-type sensillum'\n",
      "'cell' that 'overlaps' some 'eo-type sensillum'\n",
      "FBbt:00007002 that RO:0002131 some FBbt:00007232\n",
      "{'object': 'FBbt:00007002 that RO:0002131 some FBbt:00007232', 'prefixes': '{\"FBbt\": \"http://purl.obolibrary.org/obo/FBbt_\", \"RO\": \"http://purl.obolibrary.org/obo/RO_\", \"BFO\": \"http://purl.obolibrary.org/obo/BFO_\"}', 'direct': False}\n",
      "http://owl.virtualflybrain.org/kbs/vfb/subclasses?object=FBbt%3A00007002+that+RO%3A0002131+some+FBbt%3A00007232&prefixes=%7B%22FBbt%22%3A+%22http%3A%2F%2Fpurl.obolibrary.org%2Fobo%2FFBbt_%22%2C+%22RO%22%3A+%22http%3A%2F%2Fpurl.obolibrary.org%2Fobo%2FRO_%22%2C+%22BFO%22%3A+%22http%3A%2F%2Fpurl.obolibrary.org%2Fobo%2FBFO_%22%7D&direct=False\n",
      "<PreparedRequest [GET]>\n",
      "Found: 355 terms\n"
     ]
    }
   ],
   "source": [
    "eo_sense_cell = set([x['n.label'] for x in get_terms_by_region('eo-type sensillum', cells_only=True)])\n"
   ]
  },
  {
   "cell_type": "code",
   "execution_count": 31,
   "metadata": {},
   "outputs": [
    {
     "ename": "NameError",
     "evalue": "name 'eo_sense_cell' is not defined",
     "output_type": "error",
     "traceback": [
      "\u001b[0;31m---------------------------------------------------------------------------\u001b[0m",
      "\u001b[0;31mNameError\u001b[0m                                 Traceback (most recent call last)",
      "\u001b[0;32m<ipython-input-31-8ac6da572f56>\u001b[0m in \u001b[0;36m<module>\u001b[0;34m\u001b[0m\n\u001b[0;32m----> 1\u001b[0;31m \u001b[0meo_sense_cell\u001b[0m \u001b[0;34m-\u001b[0m \u001b[0mneurons\u001b[0m\u001b[0;34m\u001b[0m\u001b[0;34m\u001b[0m\u001b[0m\n\u001b[0m",
      "\u001b[0;31mNameError\u001b[0m: name 'eo_sense_cell' is not defined"
     ]
    }
   ],
   "source": [
    "eo_sense_cell - neurons"
   ]
  },
  {
   "cell_type": "code",
   "execution_count": 19,
   "metadata": {},
   "outputs": [
    {
     "name": "stdout",
     "output_type": "stream",
     "text": [
      "FBbt:00005106\n",
      "FBbt:00005106\n",
      "Running query: 'cell' that 'overlaps' some 'sense organ'\n",
      "'cell' that 'overlaps' some 'sense organ'\n",
      "FBbt:00007002 that RO:0002131 some FBbt:00005155\n",
      "{'object': 'FBbt:00007002 that RO:0002131 some FBbt:00005155', 'prefixes': '{\"FBbt\": \"http://purl.obolibrary.org/obo/FBbt_\", \"RO\": \"http://purl.obolibrary.org/obo/RO_\", \"BFO\": \"http://purl.obolibrary.org/obo/BFO_\"}', 'direct': False}\n",
      "http://owl.virtualflybrain.org/kbs/vfb/subclasses?object=FBbt%3A00007002+that+RO%3A0002131+some+FBbt%3A00005155&prefixes=%7B%22FBbt%22%3A+%22http%3A%2F%2Fpurl.obolibrary.org%2Fobo%2FFBbt_%22%2C+%22RO%22%3A+%22http%3A%2F%2Fpurl.obolibrary.org%2Fobo%2FRO_%22%2C+%22BFO%22%3A+%22http%3A%2F%2Fpurl.obolibrary.org%2Fobo%2FBFO_%22%7D&direct=False\n",
      "<PreparedRequest [GET]>\n",
      "Found: 608 terms\n"
     ]
    }
   ],
   "source": [
    "sense_organ_cell = set([x['n.label'] for x in get_terms_by_region('sense organ', cells_only=True)])"
   ]
  },
  {
   "cell_type": "code",
   "execution_count": 21,
   "metadata": {},
   "outputs": [
    {
     "data": {
      "text/plain": [
       "{'anterior cone cell',\n",
       " 'cone cell',\n",
       " 'dendritic cap cell',\n",
       " 'eo support cell',\n",
       " 'equatorial cone cell',\n",
       " 'interommatidial cell',\n",
       " 'lch5 cap attachment cell',\n",
       " 'lch5 ligament attachment cell',\n",
       " 'ocellus corneagenous cell',\n",
       " 'polar cone cell',\n",
       " 'posterior cone cell',\n",
       " 'primary pigment cell',\n",
       " 'retinal pigment cell',\n",
       " 'scolopale cell',\n",
       " 'scolopidial dendritic cap cell',\n",
       " 'scolopidial ligament cell',\n",
       " 'secondary pigment cell',\n",
       " 'sensory organ cell',\n",
       " 'tertiary pigment cell',\n",
       " 'thecogen cell',\n",
       " 'tormogen cell',\n",
       " 'trichogen cell'}"
      ]
     },
     "execution_count": 21,
     "metadata": {},
     "output_type": "execute_result"
    }
   ],
   "source": [
    "sense_organ_cell - neurons"
   ]
  },
  {
   "cell_type": "code",
   "execution_count": 22,
   "metadata": {},
   "outputs": [
    {
     "name": "stdout",
     "output_type": "stream",
     "text": [
      "FBbt:00005106\n",
      "FBbt:00005106\n",
      "Running query: 'cell' that 'overlaps' some 'eye'\n",
      "'cell' that 'overlaps' some 'eye'\n",
      "FBbt:00007002 that RO:0002131 some FBbt:00004508\n",
      "{'object': 'FBbt:00007002 that RO:0002131 some FBbt:00004508', 'prefixes': '{\"FBbt\": \"http://purl.obolibrary.org/obo/FBbt_\", \"RO\": \"http://purl.obolibrary.org/obo/RO_\", \"BFO\": \"http://purl.obolibrary.org/obo/BFO_\"}', 'direct': False}\n",
      "http://owl.virtualflybrain.org/kbs/vfb/subclasses?object=FBbt%3A00007002+that+RO%3A0002131+some+FBbt%3A00004508&prefixes=%7B%22FBbt%22%3A+%22http%3A%2F%2Fpurl.obolibrary.org%2Fobo%2FFBbt_%22%2C+%22RO%22%3A+%22http%3A%2F%2Fpurl.obolibrary.org%2Fobo%2FRO_%22%2C+%22BFO%22%3A+%22http%3A%2F%2Fpurl.obolibrary.org%2Fobo%2FBFO_%22%7D&direct=False\n",
      "<PreparedRequest [GET]>\n",
      "Found: 29 terms\n"
     ]
    }
   ],
   "source": [
    "eye_cell = set([x['n.label'] for x in get_terms_by_region('eye', cells_only=True)])"
   ]
  },
  {
   "cell_type": "code",
   "execution_count": 23,
   "metadata": {},
   "outputs": [
    {
     "data": {
      "text/plain": [
       "{'dendritic cap cell',\n",
       " 'eo support cell',\n",
       " 'lch5 cap attachment cell',\n",
       " 'lch5 ligament attachment cell',\n",
       " 'ocellus corneagenous cell',\n",
       " 'scolopale cell',\n",
       " 'scolopidial dendritic cap cell',\n",
       " 'scolopidial ligament cell',\n",
       " 'sensory organ cell',\n",
       " 'thecogen cell',\n",
       " 'tormogen cell',\n",
       " 'trichogen cell'}"
      ]
     },
     "execution_count": 23,
     "metadata": {},
     "output_type": "execute_result"
    }
   ],
   "source": [
    "sense_organ_cell - (neurons.union(eye_cell))"
   ]
  },
  {
   "cell_type": "code",
   "execution_count": 24,
   "metadata": {},
   "outputs": [
    {
     "name": "stdout",
     "output_type": "stream",
     "text": [
      "FBbt:00005106\n",
      "FBbt:00005106\n",
      "Running query: 'overlaps' some 'adult midgut'\n",
      "'overlaps' some 'adult midgut'\n",
      "RO:0002131 some FBbt:00003138\n",
      "{'object': 'RO:0002131 some FBbt:00003138', 'prefixes': '{\"FBbt\": \"http://purl.obolibrary.org/obo/FBbt_\", \"RO\": \"http://purl.obolibrary.org/obo/RO_\", \"BFO\": \"http://purl.obolibrary.org/obo/BFO_\"}', 'direct': False}\n",
      "http://owl.virtualflybrain.org/kbs/vfb/subclasses?object=RO%3A0002131+some+FBbt%3A00003138&prefixes=%7B%22FBbt%22%3A+%22http%3A%2F%2Fpurl.obolibrary.org%2Fobo%2FFBbt_%22%2C+%22RO%22%3A+%22http%3A%2F%2Fpurl.obolibrary.org%2Fobo%2FRO_%22%2C+%22BFO%22%3A+%22http%3A%2F%2Fpurl.obolibrary.org%2Fobo%2FBFO_%22%7D&direct=False\n",
      "<PreparedRequest [GET]>\n",
      "Found: 51 terms\n"
     ]
    }
   ],
   "source": [
    "adult_midgut = set([x['n.label'] for x in get_terms_by_region('adult midgut')])"
   ]
  },
  {
   "cell_type": "code",
   "execution_count": 25,
   "metadata": {},
   "outputs": [
    {
     "data": {
      "text/plain": [
       "{'Tachykinin cell of the adult midgut',\n",
       " 'adult anterior midgut',\n",
       " 'adult anterior midgut epithelium',\n",
       " 'adult copper cell',\n",
       " 'adult enteroendocrine cell',\n",
       " 'adult insulin secreting cell of pars intercerebralis',\n",
       " 'adult midgut circular muscle',\n",
       " 'adult midgut constriction',\n",
       " 'adult midgut constriction R0-R1',\n",
       " 'adult midgut constriction R1-R2',\n",
       " 'adult midgut constriction R2-R3',\n",
       " 'adult midgut constriction R3-R4',\n",
       " 'adult midgut constriction R4-R5',\n",
       " 'adult midgut enterocyte',\n",
       " 'adult midgut epithelium',\n",
       " 'adult midgut interstitial cell',\n",
       " 'adult midgut large flat cell',\n",
       " 'adult midgut longitudinal muscle',\n",
       " 'adult midgut muscle',\n",
       " 'adult midgut region',\n",
       " 'adult midgut region R0',\n",
       " 'adult midgut region R1',\n",
       " 'adult midgut region R1a',\n",
       " 'adult midgut region R1b',\n",
       " 'adult midgut region R2',\n",
       " 'adult midgut region R2a',\n",
       " 'adult midgut region R2b',\n",
       " 'adult midgut region R2c',\n",
       " 'adult midgut region R3',\n",
       " 'adult midgut region R3a',\n",
       " 'adult midgut region R3b',\n",
       " 'adult midgut region R3c',\n",
       " 'adult midgut region R4',\n",
       " 'adult midgut region R4a',\n",
       " 'adult midgut region R4b',\n",
       " 'adult midgut region R4c',\n",
       " 'adult midgut region R5',\n",
       " 'adult midgut region R5a',\n",
       " 'adult midgut region R5b',\n",
       " 'adult peritrophic membrane',\n",
       " 'adult posterior midgut',\n",
       " 'adult posterior midgut epithelium',\n",
       " 'adult proventriculus',\n",
       " 'adult proventriculus intermediate layer',\n",
       " 'adult proventriculus outer layer',\n",
       " 'enteroblast',\n",
       " 'enteroblast of posterior adult midgut epithelium',\n",
       " 'enterocyte of posterior adult midgut epithelium',\n",
       " 'enteroendocrine cell of posterior adult midgut epithelium',\n",
       " 'intestinal stem cell',\n",
       " 'intestinal stem cell of posterior adult midgut epithelium'}"
      ]
     },
     "execution_count": 25,
     "metadata": {},
     "output_type": "execute_result"
    }
   ],
   "source": [
    "adult_midgut"
   ]
  },
  {
   "cell_type": "code",
   "execution_count": 26,
   "metadata": {},
   "outputs": [
    {
     "name": "stdout",
     "output_type": "stream",
     "text": [
      "FBbt:00005106\n",
      "FBbt:00005106\n",
      "Running query: 'cell' that 'overlaps' some 'midgut'\n",
      "'cell' that 'overlaps' some 'midgut'\n",
      "FBbt:00007002 that RO:0002131 some FBbt:00005383\n",
      "{'object': 'FBbt:00007002 that RO:0002131 some FBbt:00005383', 'prefixes': '{\"FBbt\": \"http://purl.obolibrary.org/obo/FBbt_\", \"RO\": \"http://purl.obolibrary.org/obo/RO_\", \"BFO\": \"http://purl.obolibrary.org/obo/BFO_\"}', 'direct': False}\n",
      "http://owl.virtualflybrain.org/kbs/vfb/subclasses?object=FBbt%3A00007002+that+RO%3A0002131+some+FBbt%3A00005383&prefixes=%7B%22FBbt%22%3A+%22http%3A%2F%2Fpurl.obolibrary.org%2Fobo%2FFBbt_%22%2C+%22RO%22%3A+%22http%3A%2F%2Fpurl.obolibrary.org%2Fobo%2FRO_%22%2C+%22BFO%22%3A+%22http%3A%2F%2Fpurl.obolibrary.org%2Fobo%2FBFO_%22%7D&direct=False\n",
      "<PreparedRequest [GET]>\n",
      "Found: 38 terms\n"
     ]
    }
   ],
   "source": [
    "midgut_cell = set([x['n.label'] for x in get_terms_by_region('midgut', cells_only=True)])"
   ]
  },
  {
   "cell_type": "code",
   "execution_count": 28,
   "metadata": {},
   "outputs": [
    {
     "data": {
      "text/plain": [
       "{'Tachykinin cell of the adult midgut',\n",
       " 'adult copper cell',\n",
       " 'adult enteroendocrine cell',\n",
       " 'adult insulin secreting cell of pars intercerebralis',\n",
       " 'adult midgut circular muscle',\n",
       " 'adult midgut enterocyte',\n",
       " 'adult midgut interstitial cell',\n",
       " 'adult midgut large flat cell',\n",
       " 'adult midgut longitudinal muscle',\n",
       " 'adult midgut muscle',\n",
       " 'adult midgut progenitor cell',\n",
       " 'anterior adult midgut progenitor',\n",
       " 'copper cell',\n",
       " 'embryonic/larval copper cell',\n",
       " 'embryonic/larval midgut cell',\n",
       " 'embryonic/larval midgut enterocyte',\n",
       " 'embryonic/larval midgut interstitial cell',\n",
       " 'embryonic/larval midgut large flat cell',\n",
       " 'embryonic/larval midgut muscle',\n",
       " 'embryonic/larval principal midgut epithelial cell',\n",
       " 'enteroblast',\n",
       " 'enteroblast of posterior adult midgut epithelium',\n",
       " 'enterocyte of posterior adult midgut epithelium',\n",
       " 'enteroendocrine cell',\n",
       " 'enteroendocrine cell of posterior adult midgut epithelium',\n",
       " 'intestinal stem cell',\n",
       " 'intestinal stem cell of posterior adult midgut epithelium',\n",
       " 'iron accumulating cell',\n",
       " 'larval enteroendocrine cell',\n",
       " 'larval secretory cell of the proventriculus',\n",
       " 'larval serotonergic SE0 neuron',\n",
       " 'midgut enterocyte',\n",
       " 'midgut interstitial cell',\n",
       " 'midgut large flat cell',\n",
       " 'peripheral cell',\n",
       " 'posterior adult midgut progenitor',\n",
       " 'principal midgut epithelial cell',\n",
       " 'tachykinin cell of the embryonic/larval midgut'}"
      ]
     },
     "execution_count": 28,
     "metadata": {},
     "output_type": "execute_result"
    }
   ],
   "source": [
    "midgut_cell"
   ]
  },
  {
   "cell_type": "code",
   "execution_count": 35,
   "metadata": {},
   "outputs": [
    {
     "name": "stdout",
     "output_type": "stream",
     "text": [
      "FBbt:00005106\n",
      "FBbt:00005106\n",
      "Running query: 'overlaps' some 'leg'\n",
      "'overlaps' some 'leg'\n",
      "RO:0002131 some FBbt:00004640\n",
      "{'object': 'RO:0002131 some FBbt:00004640', 'prefixes': '{\"FBbt\": \"http://purl.obolibrary.org/obo/FBbt_\", \"RO\": \"http://purl.obolibrary.org/obo/RO_\", \"BFO\": \"http://purl.obolibrary.org/obo/BFO_\"}', 'direct': False}\n",
      "http://owl.virtualflybrain.org/kbs/vfb/subclasses?object=RO%3A0002131+some+FBbt%3A00004640&prefixes=%7B%22FBbt%22%3A+%22http%3A%2F%2Fpurl.obolibrary.org%2Fobo%2FFBbt_%22%2C+%22RO%22%3A+%22http%3A%2F%2Fpurl.obolibrary.org%2Fobo%2FRO_%22%2C+%22BFO%22%3A+%22http%3A%2F%2Fpurl.obolibrary.org%2Fobo%2FBFO_%22%7D&direct=False\n",
      "<PreparedRequest [GET]>\n",
      "Found: 421 terms\n"
     ]
    }
   ],
   "source": [
    "leg_parts = set([x['n.label'] for x in get_terms_by_region('leg')])"
   ]
  },
  {
   "cell_type": "code",
   "execution_count": 36,
   "metadata": {},
   "outputs": [
    {
     "name": "stdout",
     "output_type": "stream",
     "text": [
      "FBbt:00005106\n",
      "FBbt:00005106\n",
      "FBbt:00005155\n",
      "{'object': 'FBbt:00005155', 'prefixes': '{\"FBbt\": \"http://purl.obolibrary.org/obo/FBbt_\", \"RO\": \"http://purl.obolibrary.org/obo/RO_\", \"BFO\": \"http://purl.obolibrary.org/obo/BFO_\"}', 'direct': False}\n",
      "http://owl.virtualflybrain.org/kbs/vfb/subclasses?object=FBbt%3A00005155&prefixes=%7B%22FBbt%22%3A+%22http%3A%2F%2Fpurl.obolibrary.org%2Fobo%2FFBbt_%22%2C+%22RO%22%3A+%22http%3A%2F%2Fpurl.obolibrary.org%2Fobo%2FRO_%22%2C+%22BFO%22%3A+%22http%3A%2F%2Fpurl.obolibrary.org%2Fobo%2FBFO_%22%7D&direct=False\n",
      "<PreparedRequest [GET]>\n"
     ]
    }
   ],
   "source": [
    "sense_organs = set([x['n.label'] for x in get_subclasses('sense organ')])\n"
   ]
  },
  {
   "cell_type": "code",
   "execution_count": 40,
   "metadata": {},
   "outputs": [
    {
     "data": {
      "text/plain": [
       "121"
      ]
     },
     "execution_count": 40,
     "metadata": {},
     "output_type": "execute_result"
    }
   ],
   "source": [
    "len(leg_parts - (sense_organs.union(neurons).union(muscles)))"
   ]
  },
  {
   "cell_type": "code",
   "execution_count": null,
   "metadata": {},
   "outputs": [],
   "source": []
  }
 ],
 "metadata": {
  "kernelspec": {
   "display_name": "Python 3",
   "language": "python",
   "name": "python3"
  },
  "language_info": {
   "codemirror_mode": {
    "name": "ipython",
    "version": 3
   },
   "file_extension": ".py",
   "mimetype": "text/x-python",
   "name": "python",
   "nbconvert_exporter": "python",
   "pygments_lexer": "ipython3",
   "version": "3.7.3"
  }
 },
 "nbformat": 4,
 "nbformat_minor": 2
}
